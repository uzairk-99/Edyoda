{
 "cells": [
  {
   "cell_type": "code",
   "execution_count": 572,
   "id": "12da3f63",
   "metadata": {},
   "outputs": [],
   "source": [
    "import pandas as pd\n",
    "import numpy as np\n",
    "import seaborn as sns\n",
    "import matplotlib.pyplot as plt\n",
    "import re\n",
    "from sklearn.preprocessing import StandardScaler,MinMaxScaler\n",
    "from sklearn.model_selection import train_test_split,GridSearchCV\n",
    "from sklearn.linear_model import LinearRegression\n",
    "from sklearn.tree import DecisionTreeRegressor\n",
    "from sklearn import metrics\n",
    "%matplotlib inline"
   ]
  },
  {
   "cell_type": "code",
   "execution_count": 262,
   "id": "f6166fb6",
   "metadata": {},
   "outputs": [],
   "source": [
    "df = pd.read_csv('mobile_price_data.csv')"
   ]
  },
  {
   "cell_type": "code",
   "execution_count": 263,
   "id": "581c4d11",
   "metadata": {},
   "outputs": [
    {
     "data": {
      "text/html": [
       "<div>\n",
       "<style scoped>\n",
       "    .dataframe tbody tr th:only-of-type {\n",
       "        vertical-align: middle;\n",
       "    }\n",
       "\n",
       "    .dataframe tbody tr th {\n",
       "        vertical-align: top;\n",
       "    }\n",
       "\n",
       "    .dataframe thead th {\n",
       "        text-align: right;\n",
       "    }\n",
       "</style>\n",
       "<table border=\"1\" class=\"dataframe\">\n",
       "  <thead>\n",
       "    <tr style=\"text-align: right;\">\n",
       "      <th></th>\n",
       "      <th>mobile_name</th>\n",
       "      <th>mobile_price</th>\n",
       "      <th>mobile_color</th>\n",
       "      <th>dual_sim</th>\n",
       "      <th>disp_size</th>\n",
       "      <th>resolution</th>\n",
       "      <th>os</th>\n",
       "      <th>num_cores</th>\n",
       "      <th>mp_speed</th>\n",
       "      <th>int_memory</th>\n",
       "      <th>ram</th>\n",
       "      <th>p_cam</th>\n",
       "      <th>f_cam</th>\n",
       "      <th>network</th>\n",
       "      <th>bluetooth</th>\n",
       "      <th>battery_power</th>\n",
       "      <th>mob_width</th>\n",
       "      <th>mob_height</th>\n",
       "      <th>mob_depth</th>\n",
       "      <th>mob_weight</th>\n",
       "    </tr>\n",
       "  </thead>\n",
       "  <tbody>\n",
       "    <tr>\n",
       "      <th>0</th>\n",
       "      <td>Realme Narzo 10A (So White, 32 GB)</td>\n",
       "      <td>₹8,999</td>\n",
       "      <td>So White</td>\n",
       "      <td>Dual Sim</td>\n",
       "      <td>16.56 cm (6.52 inch)</td>\n",
       "      <td>1600 x 720 Pixels</td>\n",
       "      <td>Android 10</td>\n",
       "      <td>Octa Core</td>\n",
       "      <td>2 GHz</td>\n",
       "      <td>32 GB</td>\n",
       "      <td>3 GB</td>\n",
       "      <td>12MP + 2MP + 2MP</td>\n",
       "      <td>5MP Front Camera</td>\n",
       "      <td>4G VOLTE, 4G, 3G, 2G</td>\n",
       "      <td>Yes</td>\n",
       "      <td>5000 mAh</td>\n",
       "      <td>75 mm</td>\n",
       "      <td>164.4 mm</td>\n",
       "      <td>8.95 mm</td>\n",
       "      <td>195 g</td>\n",
       "    </tr>\n",
       "    <tr>\n",
       "      <th>1</th>\n",
       "      <td>Realme Narzo 10A (So Blue, 32 GB)</td>\n",
       "      <td>₹8,999</td>\n",
       "      <td>So Blue</td>\n",
       "      <td>Dual Sim</td>\n",
       "      <td>16.56 cm (6.52 inch)</td>\n",
       "      <td>1600 x 720 Pixels</td>\n",
       "      <td>Android 10</td>\n",
       "      <td>Octa Core</td>\n",
       "      <td>2 GHz</td>\n",
       "      <td>32 GB</td>\n",
       "      <td>3 GB</td>\n",
       "      <td>12MP + 2MP + 2MP</td>\n",
       "      <td>5MP Front Camera</td>\n",
       "      <td>4G VOLTE, 4G, 3G, 2G</td>\n",
       "      <td>Yes</td>\n",
       "      <td>5000 mAh</td>\n",
       "      <td>75 mm</td>\n",
       "      <td>164.4 mm</td>\n",
       "      <td>8.95 mm</td>\n",
       "      <td>195 g</td>\n",
       "    </tr>\n",
       "    <tr>\n",
       "      <th>2</th>\n",
       "      <td>Realme Narzo 10A (So Blue, 64 GB)</td>\n",
       "      <td>₹9,999</td>\n",
       "      <td>So Blue</td>\n",
       "      <td>Dual Sim</td>\n",
       "      <td>16.56 cm (6.52 inch)</td>\n",
       "      <td>1600 x 720 Pixels</td>\n",
       "      <td>Android 10</td>\n",
       "      <td>Octa Core</td>\n",
       "      <td>2 GHz</td>\n",
       "      <td>64 GB</td>\n",
       "      <td>4 GB</td>\n",
       "      <td>12MP + 2MP + 2MP</td>\n",
       "      <td>5MP Front Camera</td>\n",
       "      <td>4G VOLTE, 4G, 3G, 2G</td>\n",
       "      <td>Yes</td>\n",
       "      <td>5000 mAh</td>\n",
       "      <td>75 mm</td>\n",
       "      <td>164.4 mm</td>\n",
       "      <td>8.95 mm</td>\n",
       "      <td>195 g</td>\n",
       "    </tr>\n",
       "    <tr>\n",
       "      <th>3</th>\n",
       "      <td>Realme Narzo 10A (So White, 64 GB)</td>\n",
       "      <td>₹9,999</td>\n",
       "      <td>So White</td>\n",
       "      <td>Dual Sim</td>\n",
       "      <td>16.56 cm (6.52 inch)</td>\n",
       "      <td>1600 x 720 Pixels</td>\n",
       "      <td>Android 10</td>\n",
       "      <td>Octa Core</td>\n",
       "      <td>2 GHz</td>\n",
       "      <td>64 GB</td>\n",
       "      <td>4 GB</td>\n",
       "      <td>12MP + 2MP + 2MP</td>\n",
       "      <td>5MP Front Camera</td>\n",
       "      <td>4G VOLTE, 4G, 3G, 2G</td>\n",
       "      <td>Yes</td>\n",
       "      <td>5000 mAh</td>\n",
       "      <td>75 mm</td>\n",
       "      <td>164.4 mm</td>\n",
       "      <td>8.95 mm</td>\n",
       "      <td>195 g</td>\n",
       "    </tr>\n",
       "    <tr>\n",
       "      <th>4</th>\n",
       "      <td>Realme Narzo 10 (That Green, 128 GB)</td>\n",
       "      <td>₹11,999</td>\n",
       "      <td>That Green</td>\n",
       "      <td>Dual Sim</td>\n",
       "      <td>16.51 cm (6.5 inch)</td>\n",
       "      <td>1600 x 720 Pixels</td>\n",
       "      <td>Android 10</td>\n",
       "      <td>Octa Core</td>\n",
       "      <td>2 GHz</td>\n",
       "      <td>128 GB</td>\n",
       "      <td>4 GB</td>\n",
       "      <td>48MP + 8MP + 2MP + 2MP</td>\n",
       "      <td>16MP Front Camera</td>\n",
       "      <td>4G VOLTE, 4G, 3G, 2G</td>\n",
       "      <td>Yes</td>\n",
       "      <td>5000 mAh</td>\n",
       "      <td>75.4 mm</td>\n",
       "      <td>164.4 mm</td>\n",
       "      <td>9 mm</td>\n",
       "      <td>199 g</td>\n",
       "    </tr>\n",
       "    <tr>\n",
       "      <th>...</th>\n",
       "      <td>...</td>\n",
       "      <td>...</td>\n",
       "      <td>...</td>\n",
       "      <td>...</td>\n",
       "      <td>...</td>\n",
       "      <td>...</td>\n",
       "      <td>...</td>\n",
       "      <td>...</td>\n",
       "      <td>...</td>\n",
       "      <td>...</td>\n",
       "      <td>...</td>\n",
       "      <td>...</td>\n",
       "      <td>...</td>\n",
       "      <td>...</td>\n",
       "      <td>...</td>\n",
       "      <td>...</td>\n",
       "      <td>...</td>\n",
       "      <td>...</td>\n",
       "      <td>...</td>\n",
       "      <td>...</td>\n",
       "    </tr>\n",
       "    <tr>\n",
       "      <th>454</th>\n",
       "      <td>OPPO A83 (Black, 32 GB)</td>\n",
       "      <td>₹13,490</td>\n",
       "      <td>Black</td>\n",
       "      <td>Dual Sim</td>\n",
       "      <td>14.48 cm (5.7 inch)</td>\n",
       "      <td>1440 x 720 Pixels</td>\n",
       "      <td>Android Nougat 7.1</td>\n",
       "      <td>Octa Core</td>\n",
       "      <td>2.5 GHz</td>\n",
       "      <td>32 GB</td>\n",
       "      <td>3 GB</td>\n",
       "      <td>13MP Rear Camera</td>\n",
       "      <td>8MP Front Camera</td>\n",
       "      <td>3G, 4G VOLTE, 2G</td>\n",
       "      <td>Yes</td>\n",
       "      <td>3180 mAh</td>\n",
       "      <td>73.1 mm</td>\n",
       "      <td>150.5 mm</td>\n",
       "      <td>7.7 mm</td>\n",
       "      <td>143 g</td>\n",
       "    </tr>\n",
       "    <tr>\n",
       "      <th>455</th>\n",
       "      <td>OPPO A83 (Red, 16 GB)</td>\n",
       "      <td>₹9,490</td>\n",
       "      <td>Red</td>\n",
       "      <td>Dual Sim</td>\n",
       "      <td>14.48 cm (5.7 inch)</td>\n",
       "      <td>1440 x 720 Pixels</td>\n",
       "      <td>Android Nougat 7.1</td>\n",
       "      <td>Octa Core</td>\n",
       "      <td>2.5 GHz</td>\n",
       "      <td>16 GB</td>\n",
       "      <td>2 GB</td>\n",
       "      <td>13MP Rear Camera</td>\n",
       "      <td>8MP Front Camera</td>\n",
       "      <td>3G, 4G VOLTE, 4G, 2G</td>\n",
       "      <td>Yes</td>\n",
       "      <td>3180 mAh</td>\n",
       "      <td>73.1 mm</td>\n",
       "      <td>150.5 mm</td>\n",
       "      <td>7.7 mm</td>\n",
       "      <td>143 g</td>\n",
       "    </tr>\n",
       "    <tr>\n",
       "      <th>456</th>\n",
       "      <td>OPPO F7 (Red, 64 GB)</td>\n",
       "      <td>₹22,990</td>\n",
       "      <td>Red</td>\n",
       "      <td>Dual Sim</td>\n",
       "      <td>15.82 cm (6.23 inch)</td>\n",
       "      <td>2280 x 1080 Pixels</td>\n",
       "      <td>Android Oreo 8.1.0</td>\n",
       "      <td>Octa Core</td>\n",
       "      <td>2 GHz</td>\n",
       "      <td>64 GB</td>\n",
       "      <td>4 GB</td>\n",
       "      <td>16MP Rear Camera</td>\n",
       "      <td>25MP Front Camera</td>\n",
       "      <td>3G, 4G, 2G</td>\n",
       "      <td>Yes</td>\n",
       "      <td>3400 mAh</td>\n",
       "      <td>75.3 mm</td>\n",
       "      <td>156 mm</td>\n",
       "      <td>7.8 mm</td>\n",
       "      <td>158 g</td>\n",
       "    </tr>\n",
       "    <tr>\n",
       "      <th>457</th>\n",
       "      <td>OPPO F11 (Marble Green, 128 GB)</td>\n",
       "      <td>₹13,990</td>\n",
       "      <td>Marble Green</td>\n",
       "      <td>Dual Sim</td>\n",
       "      <td>16.59 cm (6.53 inch)</td>\n",
       "      <td>1080 x 2340 pixels</td>\n",
       "      <td>Android Pie 9.0</td>\n",
       "      <td>Octa Core</td>\n",
       "      <td>2.1 GHz</td>\n",
       "      <td>128 GB</td>\n",
       "      <td>4 GB</td>\n",
       "      <td>48MP + 5MP</td>\n",
       "      <td>16MP Front Camera</td>\n",
       "      <td>3G, 4G VOLTE, 4G, 2G</td>\n",
       "      <td>Yes</td>\n",
       "      <td>4020 mAh</td>\n",
       "      <td>76.1 mm</td>\n",
       "      <td>162 mm</td>\n",
       "      <td>8.3 mm</td>\n",
       "      <td>188 g</td>\n",
       "    </tr>\n",
       "    <tr>\n",
       "      <th>458</th>\n",
       "      <td>OPPO F11 (Fluorite Purple, 128 GB)</td>\n",
       "      <td>₹13,990</td>\n",
       "      <td>Fluorite Purple</td>\n",
       "      <td>Dual Sim</td>\n",
       "      <td>16.59 cm (6.53 inch)</td>\n",
       "      <td>1080 x 2340 pixels</td>\n",
       "      <td>Android Pie 9.0</td>\n",
       "      <td>Octa Core</td>\n",
       "      <td>2.1 GHz</td>\n",
       "      <td>128 GB</td>\n",
       "      <td>4 GB</td>\n",
       "      <td>48MP + 5MP</td>\n",
       "      <td>16MP Front Camera</td>\n",
       "      <td>3G, 4G VOLTE, 4G, 2G</td>\n",
       "      <td>Yes</td>\n",
       "      <td>4020 mAh</td>\n",
       "      <td>76.1 mm</td>\n",
       "      <td>162 mm</td>\n",
       "      <td>8.3 mm</td>\n",
       "      <td>188 g</td>\n",
       "    </tr>\n",
       "  </tbody>\n",
       "</table>\n",
       "<p>459 rows × 20 columns</p>\n",
       "</div>"
      ],
      "text/plain": [
       "                              mobile_name mobile_price     mobile_color  \\\n",
       "0      Realme Narzo 10A (So White, 32 GB)       ₹8,999         So White   \n",
       "1       Realme Narzo 10A (So Blue, 32 GB)       ₹8,999          So Blue   \n",
       "2       Realme Narzo 10A (So Blue, 64 GB)       ₹9,999          So Blue   \n",
       "3      Realme Narzo 10A (So White, 64 GB)       ₹9,999         So White   \n",
       "4    Realme Narzo 10 (That Green, 128 GB)      ₹11,999       That Green   \n",
       "..                                    ...          ...              ...   \n",
       "454               OPPO A83 (Black, 32 GB)      ₹13,490            Black   \n",
       "455                 OPPO A83 (Red, 16 GB)       ₹9,490              Red   \n",
       "456                  OPPO F7 (Red, 64 GB)      ₹22,990              Red   \n",
       "457       OPPO F11 (Marble Green, 128 GB)      ₹13,990     Marble Green   \n",
       "458    OPPO F11 (Fluorite Purple, 128 GB)      ₹13,990  Fluorite Purple   \n",
       "\n",
       "     dual_sim             disp_size          resolution                  os  \\\n",
       "0    Dual Sim  16.56 cm (6.52 inch)   1600 x 720 Pixels          Android 10   \n",
       "1    Dual Sim  16.56 cm (6.52 inch)   1600 x 720 Pixels          Android 10   \n",
       "2    Dual Sim  16.56 cm (6.52 inch)   1600 x 720 Pixels          Android 10   \n",
       "3    Dual Sim  16.56 cm (6.52 inch)   1600 x 720 Pixels          Android 10   \n",
       "4    Dual Sim   16.51 cm (6.5 inch)   1600 x 720 Pixels          Android 10   \n",
       "..        ...                   ...                 ...                 ...   \n",
       "454  Dual Sim   14.48 cm (5.7 inch)   1440 x 720 Pixels  Android Nougat 7.1   \n",
       "455  Dual Sim   14.48 cm (5.7 inch)   1440 x 720 Pixels  Android Nougat 7.1   \n",
       "456  Dual Sim  15.82 cm (6.23 inch)  2280 x 1080 Pixels  Android Oreo 8.1.0   \n",
       "457  Dual Sim  16.59 cm (6.53 inch)  1080 x 2340 pixels     Android Pie 9.0   \n",
       "458  Dual Sim  16.59 cm (6.53 inch)  1080 x 2340 pixels     Android Pie 9.0   \n",
       "\n",
       "     num_cores mp_speed int_memory   ram                   p_cam  \\\n",
       "0    Octa Core    2 GHz      32 GB  3 GB        12MP + 2MP + 2MP   \n",
       "1    Octa Core    2 GHz      32 GB  3 GB        12MP + 2MP + 2MP   \n",
       "2    Octa Core    2 GHz      64 GB  4 GB        12MP + 2MP + 2MP   \n",
       "3    Octa Core    2 GHz      64 GB  4 GB        12MP + 2MP + 2MP   \n",
       "4    Octa Core    2 GHz     128 GB  4 GB  48MP + 8MP + 2MP + 2MP   \n",
       "..         ...      ...        ...   ...                     ...   \n",
       "454  Octa Core  2.5 GHz      32 GB  3 GB        13MP Rear Camera   \n",
       "455  Octa Core  2.5 GHz      16 GB  2 GB        13MP Rear Camera   \n",
       "456  Octa Core    2 GHz      64 GB  4 GB        16MP Rear Camera   \n",
       "457  Octa Core  2.1 GHz     128 GB  4 GB              48MP + 5MP   \n",
       "458  Octa Core  2.1 GHz     128 GB  4 GB              48MP + 5MP   \n",
       "\n",
       "                 f_cam               network bluetooth battery_power  \\\n",
       "0     5MP Front Camera  4G VOLTE, 4G, 3G, 2G       Yes      5000 mAh   \n",
       "1     5MP Front Camera  4G VOLTE, 4G, 3G, 2G       Yes      5000 mAh   \n",
       "2     5MP Front Camera  4G VOLTE, 4G, 3G, 2G       Yes      5000 mAh   \n",
       "3     5MP Front Camera  4G VOLTE, 4G, 3G, 2G       Yes      5000 mAh   \n",
       "4    16MP Front Camera  4G VOLTE, 4G, 3G, 2G       Yes      5000 mAh   \n",
       "..                 ...                   ...       ...           ...   \n",
       "454   8MP Front Camera      3G, 4G VOLTE, 2G       Yes      3180 mAh   \n",
       "455   8MP Front Camera  3G, 4G VOLTE, 4G, 2G       Yes      3180 mAh   \n",
       "456  25MP Front Camera            3G, 4G, 2G       Yes      3400 mAh   \n",
       "457  16MP Front Camera  3G, 4G VOLTE, 4G, 2G       Yes      4020 mAh   \n",
       "458  16MP Front Camera  3G, 4G VOLTE, 4G, 2G       Yes      4020 mAh   \n",
       "\n",
       "    mob_width mob_height mob_depth mob_weight  \n",
       "0       75 mm   164.4 mm   8.95 mm      195 g  \n",
       "1       75 mm   164.4 mm   8.95 mm      195 g  \n",
       "2       75 mm   164.4 mm   8.95 mm      195 g  \n",
       "3       75 mm   164.4 mm   8.95 mm      195 g  \n",
       "4     75.4 mm   164.4 mm      9 mm      199 g  \n",
       "..        ...        ...       ...        ...  \n",
       "454   73.1 mm   150.5 mm    7.7 mm      143 g  \n",
       "455   73.1 mm   150.5 mm    7.7 mm      143 g  \n",
       "456   75.3 mm     156 mm    7.8 mm      158 g  \n",
       "457   76.1 mm     162 mm    8.3 mm      188 g  \n",
       "458   76.1 mm     162 mm    8.3 mm      188 g  \n",
       "\n",
       "[459 rows x 20 columns]"
      ]
     },
     "execution_count": 263,
     "metadata": {},
     "output_type": "execute_result"
    }
   ],
   "source": [
    "df"
   ]
  },
  {
   "cell_type": "code",
   "execution_count": 264,
   "id": "34341bee",
   "metadata": {},
   "outputs": [
    {
     "name": "stdout",
     "output_type": "stream",
     "text": [
      "<class 'pandas.core.frame.DataFrame'>\n",
      "RangeIndex: 459 entries, 0 to 458\n",
      "Data columns (total 20 columns):\n",
      " #   Column         Non-Null Count  Dtype \n",
      "---  ------         --------------  ----- \n",
      " 0   mobile_name    459 non-null    object\n",
      " 1   mobile_price   459 non-null    object\n",
      " 2   mobile_color   459 non-null    object\n",
      " 3   dual_sim       459 non-null    object\n",
      " 4   disp_size      459 non-null    object\n",
      " 5   resolution     459 non-null    object\n",
      " 6   os             459 non-null    object\n",
      " 7   num_cores      459 non-null    object\n",
      " 8   mp_speed       459 non-null    object\n",
      " 9   int_memory     459 non-null    object\n",
      " 10  ram            459 non-null    object\n",
      " 11  p_cam          459 non-null    object\n",
      " 12  f_cam          459 non-null    object\n",
      " 13  network        459 non-null    object\n",
      " 14  bluetooth      459 non-null    object\n",
      " 15  battery_power  459 non-null    object\n",
      " 16  mob_width      459 non-null    object\n",
      " 17  mob_height     459 non-null    object\n",
      " 18  mob_depth      459 non-null    object\n",
      " 19  mob_weight     459 non-null    object\n",
      "dtypes: object(20)\n",
      "memory usage: 71.8+ KB\n"
     ]
    }
   ],
   "source": [
    "df.info()"
   ]
  },
  {
   "cell_type": "code",
   "execution_count": 265,
   "id": "01a4debd",
   "metadata": {},
   "outputs": [
    {
     "data": {
      "text/html": [
       "<div>\n",
       "<style scoped>\n",
       "    .dataframe tbody tr th:only-of-type {\n",
       "        vertical-align: middle;\n",
       "    }\n",
       "\n",
       "    .dataframe tbody tr th {\n",
       "        vertical-align: top;\n",
       "    }\n",
       "\n",
       "    .dataframe thead th {\n",
       "        text-align: right;\n",
       "    }\n",
       "</style>\n",
       "<table border=\"1\" class=\"dataframe\">\n",
       "  <thead>\n",
       "    <tr style=\"text-align: right;\">\n",
       "      <th></th>\n",
       "      <th>count</th>\n",
       "      <th>unique</th>\n",
       "      <th>top</th>\n",
       "      <th>freq</th>\n",
       "    </tr>\n",
       "  </thead>\n",
       "  <tbody>\n",
       "    <tr>\n",
       "      <th>mobile_name</th>\n",
       "      <td>459</td>\n",
       "      <td>363</td>\n",
       "      <td>Vivo Z1Pro (Sonic Black, 64 GB)</td>\n",
       "      <td>4</td>\n",
       "    </tr>\n",
       "    <tr>\n",
       "      <th>mobile_price</th>\n",
       "      <td>459</td>\n",
       "      <td>139</td>\n",
       "      <td>₹11,999</td>\n",
       "      <td>19</td>\n",
       "    </tr>\n",
       "    <tr>\n",
       "      <th>mobile_color</th>\n",
       "      <td>459</td>\n",
       "      <td>165</td>\n",
       "      <td>Black</td>\n",
       "      <td>28</td>\n",
       "    </tr>\n",
       "    <tr>\n",
       "      <th>dual_sim</th>\n",
       "      <td>459</td>\n",
       "      <td>2</td>\n",
       "      <td>Dual Sim</td>\n",
       "      <td>458</td>\n",
       "    </tr>\n",
       "    <tr>\n",
       "      <th>disp_size</th>\n",
       "      <td>459</td>\n",
       "      <td>36</td>\n",
       "      <td>16.51 cm (6.5 inch)</td>\n",
       "      <td>51</td>\n",
       "    </tr>\n",
       "    <tr>\n",
       "      <th>resolution</th>\n",
       "      <td>459</td>\n",
       "      <td>48</td>\n",
       "      <td>2340 x 1080 pixels</td>\n",
       "      <td>66</td>\n",
       "    </tr>\n",
       "    <tr>\n",
       "      <th>os</th>\n",
       "      <td>459</td>\n",
       "      <td>18</td>\n",
       "      <td>Android Pie 9</td>\n",
       "      <td>126</td>\n",
       "    </tr>\n",
       "    <tr>\n",
       "      <th>num_cores</th>\n",
       "      <td>459</td>\n",
       "      <td>3</td>\n",
       "      <td>Octa Core</td>\n",
       "      <td>444</td>\n",
       "    </tr>\n",
       "    <tr>\n",
       "      <th>mp_speed</th>\n",
       "      <td>459</td>\n",
       "      <td>18</td>\n",
       "      <td>2 GHz</td>\n",
       "      <td>149</td>\n",
       "    </tr>\n",
       "    <tr>\n",
       "      <th>int_memory</th>\n",
       "      <td>459</td>\n",
       "      <td>7</td>\n",
       "      <td>64 GB</td>\n",
       "      <td>185</td>\n",
       "    </tr>\n",
       "    <tr>\n",
       "      <th>ram</th>\n",
       "      <td>459</td>\n",
       "      <td>7</td>\n",
       "      <td>4 GB</td>\n",
       "      <td>160</td>\n",
       "    </tr>\n",
       "    <tr>\n",
       "      <th>p_cam</th>\n",
       "      <td>459</td>\n",
       "      <td>49</td>\n",
       "      <td>13MP + 2MP</td>\n",
       "      <td>72</td>\n",
       "    </tr>\n",
       "    <tr>\n",
       "      <th>f_cam</th>\n",
       "      <td>459</td>\n",
       "      <td>15</td>\n",
       "      <td>16MP Front Camera</td>\n",
       "      <td>112</td>\n",
       "    </tr>\n",
       "    <tr>\n",
       "      <th>network</th>\n",
       "      <td>459</td>\n",
       "      <td>18</td>\n",
       "      <td>3G, 4G VOLTE, 4G, 2G</td>\n",
       "      <td>139</td>\n",
       "    </tr>\n",
       "    <tr>\n",
       "      <th>bluetooth</th>\n",
       "      <td>459</td>\n",
       "      <td>1</td>\n",
       "      <td>Yes</td>\n",
       "      <td>459</td>\n",
       "    </tr>\n",
       "    <tr>\n",
       "      <th>battery_power</th>\n",
       "      <td>459</td>\n",
       "      <td>34</td>\n",
       "      <td>4000 mAh</td>\n",
       "      <td>135</td>\n",
       "    </tr>\n",
       "    <tr>\n",
       "      <th>mob_width</th>\n",
       "      <td>459</td>\n",
       "      <td>70</td>\n",
       "      <td>75.6 mm</td>\n",
       "      <td>35</td>\n",
       "    </tr>\n",
       "    <tr>\n",
       "      <th>mob_height</th>\n",
       "      <td>459</td>\n",
       "      <td>81</td>\n",
       "      <td>156.7 mm</td>\n",
       "      <td>23</td>\n",
       "    </tr>\n",
       "    <tr>\n",
       "      <th>mob_depth</th>\n",
       "      <td>459</td>\n",
       "      <td>55</td>\n",
       "      <td>8.8 mm</td>\n",
       "      <td>48</td>\n",
       "    </tr>\n",
       "    <tr>\n",
       "      <th>mob_weight</th>\n",
       "      <td>459</td>\n",
       "      <td>62</td>\n",
       "      <td>191 g</td>\n",
       "      <td>27</td>\n",
       "    </tr>\n",
       "  </tbody>\n",
       "</table>\n",
       "</div>"
      ],
      "text/plain": [
       "              count unique                              top freq\n",
       "mobile_name     459    363  Vivo Z1Pro (Sonic Black, 64 GB)    4\n",
       "mobile_price    459    139                          ₹11,999   19\n",
       "mobile_color    459    165                            Black   28\n",
       "dual_sim        459      2                         Dual Sim  458\n",
       "disp_size       459     36              16.51 cm (6.5 inch)   51\n",
       "resolution      459     48               2340 x 1080 pixels   66\n",
       "os              459     18                    Android Pie 9  126\n",
       "num_cores       459      3                        Octa Core  444\n",
       "mp_speed        459     18                            2 GHz  149\n",
       "int_memory      459      7                            64 GB  185\n",
       "ram             459      7                             4 GB  160\n",
       "p_cam           459     49                       13MP + 2MP   72\n",
       "f_cam           459     15                16MP Front Camera  112\n",
       "network         459     18             3G, 4G VOLTE, 4G, 2G  139\n",
       "bluetooth       459      1                              Yes  459\n",
       "battery_power   459     34                         4000 mAh  135\n",
       "mob_width       459     70                          75.6 mm   35\n",
       "mob_height      459     81                         156.7 mm   23\n",
       "mob_depth       459     55                           8.8 mm   48\n",
       "mob_weight      459     62                            191 g   27"
      ]
     },
     "execution_count": 265,
     "metadata": {},
     "output_type": "execute_result"
    }
   ],
   "source": [
    "df.describe().T"
   ]
  },
  {
   "cell_type": "code",
   "execution_count": 266,
   "id": "9e211753",
   "metadata": {},
   "outputs": [],
   "source": [
    "# Making a coopy of df\n",
    "df_copy = df.copy()"
   ]
  },
  {
   "cell_type": "code",
   "execution_count": 267,
   "id": "3d41ed68",
   "metadata": {},
   "outputs": [],
   "source": [
    "# Dropping duplicate rows\n",
    "df.drop_duplicates(keep='first',inplace=True)"
   ]
  },
  {
   "cell_type": "code",
   "execution_count": 268,
   "id": "2b7f3b71",
   "metadata": {},
   "outputs": [],
   "source": [
    "df.reset_index(drop=True,inplace=True)"
   ]
  },
  {
   "cell_type": "code",
   "execution_count": 269,
   "id": "a5b139b3",
   "metadata": {},
   "outputs": [],
   "source": [
    "# Lets remove text from possoble numerical columns like: mp_speed, int_memory, ram, battery_power, etc."
   ]
  },
  {
   "cell_type": "code",
   "execution_count": 270,
   "id": "97cf0416",
   "metadata": {},
   "outputs": [],
   "source": [
    "# defining function to clean rows\n",
    "def clean(df,col):\n",
    "    return pd.to_numeric(df[col].str.replace('[a-zA-Z]','',regex=True))"
   ]
  },
  {
   "cell_type": "code",
   "execution_count": 271,
   "id": "dc3e87e9",
   "metadata": {},
   "outputs": [],
   "source": [
    "df['mp_speed'] = clean(df,'mp_speed')\n",
    "df['int_memory'] = clean(df,'int_memory')\n",
    "df['ram'] = clean(df,'ram')\n",
    "df['battery_power'] = clean(df,'battery_power')\n",
    "df['mob_width'] = clean(df,'mob_width')\n",
    "df['mob_height'] = clean(df,'mob_height')\n",
    "df['mob_depth'] = clean(df,'mob_depth')\n",
    "df['mob_weight'] = clean(df,'mob_weight')"
   ]
  },
  {
   "cell_type": "code",
   "execution_count": 272,
   "id": "b4fac461",
   "metadata": {},
   "outputs": [],
   "source": [
    "# Removing special characters from mobile_price column"
   ]
  },
  {
   "cell_type": "code",
   "execution_count": 273,
   "id": "f940f156",
   "metadata": {},
   "outputs": [],
   "source": [
    "def clean_price(df,col,chrs):\n",
    "    row = df[col]\n",
    "    for i in chrs:\n",
    "        row =row.str.replace(i,'',regex=False)\n",
    "    return pd.to_numeric(row)"
   ]
  },
  {
   "cell_type": "code",
   "execution_count": 274,
   "id": "983521fb",
   "metadata": {},
   "outputs": [],
   "source": [
    "df['mobile_price'] = clean_price(df,'mobile_price',['₹',','])"
   ]
  },
  {
   "cell_type": "code",
   "execution_count": 275,
   "id": "40e1085f",
   "metadata": {},
   "outputs": [],
   "source": [
    "# getting size in cm in disp_size column"
   ]
  },
  {
   "cell_type": "code",
   "execution_count": 276,
   "id": "bdfdae01",
   "metadata": {},
   "outputs": [],
   "source": [
    "def get_size(df,col):\n",
    "    row = df[col]\n",
    "    for i in [' cm .*']:\n",
    "        row = row.str.replace(i,'',regex=True)\n",
    "    return pd.to_numeric(row)"
   ]
  },
  {
   "cell_type": "code",
   "execution_count": 277,
   "id": "d9625710",
   "metadata": {},
   "outputs": [],
   "source": [
    "df['disp_size'] = get_size(df,'disp_size')"
   ]
  },
  {
   "cell_type": "code",
   "execution_count": 278,
   "id": "bb0ac415",
   "metadata": {},
   "outputs": [],
   "source": [
    "#creating a column for brand\n",
    "df['brand'] = df['mobile_name'].apply(lambda x: re.findall(r'[a-zA-Z]*',x)[0])"
   ]
  },
  {
   "cell_type": "code",
   "execution_count": 279,
   "id": "9d662384",
   "metadata": {},
   "outputs": [
    {
     "data": {
      "text/plain": [
       "Redmi      87\n",
       "Vivo       79\n",
       "OPPO       72\n",
       "Realme     67\n",
       "Infinix    36\n",
       "POCO       31\n",
       "Samsung    17\n",
       "Mi         16\n",
       "MI          1\n",
       "Name: brand, dtype: int64"
      ]
     },
     "execution_count": 279,
     "metadata": {},
     "output_type": "execute_result"
    }
   ],
   "source": [
    "df.brand.value_counts()"
   ]
  },
  {
   "cell_type": "code",
   "execution_count": 280,
   "id": "de01c2bb",
   "metadata": {},
   "outputs": [
    {
     "data": {
      "text/html": [
       "<div>\n",
       "<style scoped>\n",
       "    .dataframe tbody tr th:only-of-type {\n",
       "        vertical-align: middle;\n",
       "    }\n",
       "\n",
       "    .dataframe tbody tr th {\n",
       "        vertical-align: top;\n",
       "    }\n",
       "\n",
       "    .dataframe thead th {\n",
       "        text-align: right;\n",
       "    }\n",
       "</style>\n",
       "<table border=\"1\" class=\"dataframe\">\n",
       "  <thead>\n",
       "    <tr style=\"text-align: right;\">\n",
       "      <th></th>\n",
       "      <th>mobile_name</th>\n",
       "      <th>mobile_price</th>\n",
       "      <th>mobile_color</th>\n",
       "      <th>dual_sim</th>\n",
       "      <th>disp_size</th>\n",
       "      <th>resolution</th>\n",
       "      <th>os</th>\n",
       "      <th>num_cores</th>\n",
       "      <th>mp_speed</th>\n",
       "      <th>int_memory</th>\n",
       "      <th>...</th>\n",
       "      <th>p_cam</th>\n",
       "      <th>f_cam</th>\n",
       "      <th>network</th>\n",
       "      <th>bluetooth</th>\n",
       "      <th>battery_power</th>\n",
       "      <th>mob_width</th>\n",
       "      <th>mob_height</th>\n",
       "      <th>mob_depth</th>\n",
       "      <th>mob_weight</th>\n",
       "      <th>brand</th>\n",
       "    </tr>\n",
       "  </thead>\n",
       "  <tbody>\n",
       "    <tr>\n",
       "      <th>96</th>\n",
       "      <td>MI3 (Metallic Grey, 16 GB)</td>\n",
       "      <td>13999</td>\n",
       "      <td>Metallic Grey</td>\n",
       "      <td>Single Sim</td>\n",
       "      <td>12.7</td>\n",
       "      <td>1920 x 1080 Pixels</td>\n",
       "      <td>Android KitKat 4.4.2</td>\n",
       "      <td>Quad Core</td>\n",
       "      <td>2.3</td>\n",
       "      <td>16</td>\n",
       "      <td>...</td>\n",
       "      <td>13MP Rear Camera</td>\n",
       "      <td>2MP Front Camera</td>\n",
       "      <td>3G</td>\n",
       "      <td>Yes</td>\n",
       "      <td>3050</td>\n",
       "      <td>73.6</td>\n",
       "      <td>144.0</td>\n",
       "      <td>8.1</td>\n",
       "      <td>145.0</td>\n",
       "      <td>MI</td>\n",
       "    </tr>\n",
       "  </tbody>\n",
       "</table>\n",
       "<p>1 rows × 21 columns</p>\n",
       "</div>"
      ],
      "text/plain": [
       "                   mobile_name  mobile_price   mobile_color    dual_sim  \\\n",
       "96  MI3 (Metallic Grey, 16 GB)         13999  Metallic Grey  Single Sim   \n",
       "\n",
       "    disp_size          resolution                    os  num_cores  mp_speed  \\\n",
       "96       12.7  1920 x 1080 Pixels  Android KitKat 4.4.2  Quad Core       2.3   \n",
       "\n",
       "    int_memory  ...             p_cam             f_cam network bluetooth  \\\n",
       "96          16  ...  13MP Rear Camera  2MP Front Camera      3G       Yes   \n",
       "\n",
       "   battery_power  mob_width  mob_height  mob_depth  mob_weight  brand  \n",
       "96          3050       73.6       144.0        8.1       145.0     MI  \n",
       "\n",
       "[1 rows x 21 columns]"
      ]
     },
     "execution_count": 280,
     "metadata": {},
     "output_type": "execute_result"
    }
   ],
   "source": [
    "# MI which contains one entry is misspelt correcting it to Mi\n",
    "df[df['brand']=='MI']"
   ]
  },
  {
   "cell_type": "code",
   "execution_count": 281,
   "id": "6d93c80a",
   "metadata": {},
   "outputs": [],
   "source": [
    "df.iloc[[96],[20]] = 'Mi'"
   ]
  },
  {
   "cell_type": "code",
   "execution_count": 282,
   "id": "d316214b",
   "metadata": {},
   "outputs": [
    {
     "data": {
      "text/plain": [
       "Redmi      87\n",
       "Vivo       79\n",
       "OPPO       72\n",
       "Realme     67\n",
       "Infinix    36\n",
       "POCO       31\n",
       "Mi         17\n",
       "Samsung    17\n",
       "Name: brand, dtype: int64"
      ]
     },
     "execution_count": 282,
     "metadata": {},
     "output_type": "execute_result"
    }
   ],
   "source": [
    "df.brand.value_counts()"
   ]
  },
  {
   "cell_type": "code",
   "execution_count": 283,
   "id": "5508addd",
   "metadata": {},
   "outputs": [
    {
     "name": "stderr",
     "output_type": "stream",
     "text": [
      "c:\\users\\ukarj\\appdata\\local\\programs\\python\\python39\\lib\\site-packages\\seaborn\\_decorators.py:36: FutureWarning: Pass the following variable as a keyword arg: x. From version 0.12, the only valid positional argument will be `data`, and passing other arguments without an explicit keyword will result in an error or misinterpretation.\n",
      "  warnings.warn(\n"
     ]
    },
    {
     "data": {
      "image/png": "[encoded data removed]",
      "text/plain": [
       "<Figure size 936x504 with 1 Axes>"
      ]
     },
     "metadata": {
      "needs_background": "light"
     },
     "output_type": "display_data"
    }
   ],
   "source": [
    "plt.figure(figsize=(13,7))\n",
    "sns.countplot(df.brand,order=df.brand.value_counts().index,palette='magma')\n",
    "plt.show()"
   ]
  },
  {
   "cell_type": "markdown",
   "id": "9a57c115",
   "metadata": {},
   "source": [
    "We can see that Redmi brand is leading the mobile market as per the data, followed by Vivo, Oppo, realme and others,<br>\n",
    "While Mi and Samsung are the at lowest"
   ]
  },
  {
   "cell_type": "code",
   "execution_count": 284,
   "id": "1bfc909d",
   "metadata": {},
   "outputs": [
    {
     "data": {
      "image/png": "[encoded data removed]",
      "text/plain": [
       "<Figure size 936x504 with 1 Axes>"
      ]
     },
     "metadata": {},
     "output_type": "display_data"
    }
   ],
   "source": [
    "plt.figure(figsize=(13,7))\n",
    "plt.pie(df.brand.value_counts(),labels=df.brand.value_counts().index,autopct='%.0f%%',colors=sns.color_palette('pastel'))\n",
    "plt.show()"
   ]
  },
  {
   "cell_type": "markdown",
   "id": "6f3137b3",
   "metadata": {},
   "source": [
    "Redmi has 21% of market share followed by Vivo 19%, Oppo 18% and so on, with 4% for each Mi and Samsung"
   ]
  },
  {
   "cell_type": "code",
   "execution_count": 285,
   "id": "5736f748",
   "metadata": {},
   "outputs": [],
   "source": [
    "df.drop(['mobile_name'],axis=1,inplace=True)"
   ]
  },
  {
   "cell_type": "code",
   "execution_count": 286,
   "id": "352ee56b",
   "metadata": {},
   "outputs": [
    {
     "data": {
      "text/plain": [
       "mobile_price     0\n",
       "mobile_color     0\n",
       "dual_sim         0\n",
       "disp_size        0\n",
       "resolution       0\n",
       "os               0\n",
       "num_cores        0\n",
       "mp_speed         0\n",
       "int_memory       0\n",
       "ram              0\n",
       "p_cam            0\n",
       "f_cam            0\n",
       "network          0\n",
       "bluetooth        0\n",
       "battery_power    0\n",
       "mob_width        0\n",
       "mob_height       0\n",
       "mob_depth        0\n",
       "mob_weight       0\n",
       "brand            0\n",
       "dtype: int64"
      ]
     },
     "execution_count": 286,
     "metadata": {},
     "output_type": "execute_result"
    }
   ],
   "source": [
    "# Checking for null values\n",
    "df.isnull().sum()"
   ]
  },
  {
   "cell_type": "code",
   "execution_count": 287,
   "id": "7cc3450f",
   "metadata": {},
   "outputs": [
    {
     "data": {
      "text/html": [
       "<div>\n",
       "<style scoped>\n",
       "    .dataframe tbody tr th:only-of-type {\n",
       "        vertical-align: middle;\n",
       "    }\n",
       "\n",
       "    .dataframe tbody tr th {\n",
       "        vertical-align: top;\n",
       "    }\n",
       "\n",
       "    .dataframe thead th {\n",
       "        text-align: right;\n",
       "    }\n",
       "</style>\n",
       "<table border=\"1\" class=\"dataframe\">\n",
       "  <thead>\n",
       "    <tr style=\"text-align: right;\">\n",
       "      <th></th>\n",
       "      <th>mobile_price</th>\n",
       "      <th>mobile_color</th>\n",
       "      <th>dual_sim</th>\n",
       "      <th>disp_size</th>\n",
       "      <th>resolution</th>\n",
       "      <th>os</th>\n",
       "      <th>num_cores</th>\n",
       "      <th>mp_speed</th>\n",
       "      <th>int_memory</th>\n",
       "      <th>ram</th>\n",
       "      <th>p_cam</th>\n",
       "      <th>f_cam</th>\n",
       "      <th>network</th>\n",
       "      <th>bluetooth</th>\n",
       "      <th>battery_power</th>\n",
       "      <th>mob_width</th>\n",
       "      <th>mob_height</th>\n",
       "      <th>mob_depth</th>\n",
       "      <th>mob_weight</th>\n",
       "      <th>brand</th>\n",
       "    </tr>\n",
       "  </thead>\n",
       "  <tbody>\n",
       "    <tr>\n",
       "      <th>0</th>\n",
       "      <td>8999</td>\n",
       "      <td>So White</td>\n",
       "      <td>Dual Sim</td>\n",
       "      <td>16.56</td>\n",
       "      <td>1600 x 720 Pixels</td>\n",
       "      <td>Android 10</td>\n",
       "      <td>Octa Core</td>\n",
       "      <td>2.0</td>\n",
       "      <td>32</td>\n",
       "      <td>3</td>\n",
       "      <td>12MP + 2MP + 2MP</td>\n",
       "      <td>5MP Front Camera</td>\n",
       "      <td>4G VOLTE, 4G, 3G, 2G</td>\n",
       "      <td>Yes</td>\n",
       "      <td>5000</td>\n",
       "      <td>75.0</td>\n",
       "      <td>164.4</td>\n",
       "      <td>8.95</td>\n",
       "      <td>195.0</td>\n",
       "      <td>Realme</td>\n",
       "    </tr>\n",
       "    <tr>\n",
       "      <th>1</th>\n",
       "      <td>8999</td>\n",
       "      <td>So Blue</td>\n",
       "      <td>Dual Sim</td>\n",
       "      <td>16.56</td>\n",
       "      <td>1600 x 720 Pixels</td>\n",
       "      <td>Android 10</td>\n",
       "      <td>Octa Core</td>\n",
       "      <td>2.0</td>\n",
       "      <td>32</td>\n",
       "      <td>3</td>\n",
       "      <td>12MP + 2MP + 2MP</td>\n",
       "      <td>5MP Front Camera</td>\n",
       "      <td>4G VOLTE, 4G, 3G, 2G</td>\n",
       "      <td>Yes</td>\n",
       "      <td>5000</td>\n",
       "      <td>75.0</td>\n",
       "      <td>164.4</td>\n",
       "      <td>8.95</td>\n",
       "      <td>195.0</td>\n",
       "      <td>Realme</td>\n",
       "    </tr>\n",
       "    <tr>\n",
       "      <th>2</th>\n",
       "      <td>9999</td>\n",
       "      <td>So Blue</td>\n",
       "      <td>Dual Sim</td>\n",
       "      <td>16.56</td>\n",
       "      <td>1600 x 720 Pixels</td>\n",
       "      <td>Android 10</td>\n",
       "      <td>Octa Core</td>\n",
       "      <td>2.0</td>\n",
       "      <td>64</td>\n",
       "      <td>4</td>\n",
       "      <td>12MP + 2MP + 2MP</td>\n",
       "      <td>5MP Front Camera</td>\n",
       "      <td>4G VOLTE, 4G, 3G, 2G</td>\n",
       "      <td>Yes</td>\n",
       "      <td>5000</td>\n",
       "      <td>75.0</td>\n",
       "      <td>164.4</td>\n",
       "      <td>8.95</td>\n",
       "      <td>195.0</td>\n",
       "      <td>Realme</td>\n",
       "    </tr>\n",
       "    <tr>\n",
       "      <th>3</th>\n",
       "      <td>9999</td>\n",
       "      <td>So White</td>\n",
       "      <td>Dual Sim</td>\n",
       "      <td>16.56</td>\n",
       "      <td>1600 x 720 Pixels</td>\n",
       "      <td>Android 10</td>\n",
       "      <td>Octa Core</td>\n",
       "      <td>2.0</td>\n",
       "      <td>64</td>\n",
       "      <td>4</td>\n",
       "      <td>12MP + 2MP + 2MP</td>\n",
       "      <td>5MP Front Camera</td>\n",
       "      <td>4G VOLTE, 4G, 3G, 2G</td>\n",
       "      <td>Yes</td>\n",
       "      <td>5000</td>\n",
       "      <td>75.0</td>\n",
       "      <td>164.4</td>\n",
       "      <td>8.95</td>\n",
       "      <td>195.0</td>\n",
       "      <td>Realme</td>\n",
       "    </tr>\n",
       "    <tr>\n",
       "      <th>4</th>\n",
       "      <td>11999</td>\n",
       "      <td>That Green</td>\n",
       "      <td>Dual Sim</td>\n",
       "      <td>16.51</td>\n",
       "      <td>1600 x 720 Pixels</td>\n",
       "      <td>Android 10</td>\n",
       "      <td>Octa Core</td>\n",
       "      <td>2.0</td>\n",
       "      <td>128</td>\n",
       "      <td>4</td>\n",
       "      <td>48MP + 8MP + 2MP + 2MP</td>\n",
       "      <td>16MP Front Camera</td>\n",
       "      <td>4G VOLTE, 4G, 3G, 2G</td>\n",
       "      <td>Yes</td>\n",
       "      <td>5000</td>\n",
       "      <td>75.4</td>\n",
       "      <td>164.4</td>\n",
       "      <td>9.00</td>\n",
       "      <td>199.0</td>\n",
       "      <td>Realme</td>\n",
       "    </tr>\n",
       "    <tr>\n",
       "      <th>...</th>\n",
       "      <td>...</td>\n",
       "      <td>...</td>\n",
       "      <td>...</td>\n",
       "      <td>...</td>\n",
       "      <td>...</td>\n",
       "      <td>...</td>\n",
       "      <td>...</td>\n",
       "      <td>...</td>\n",
       "      <td>...</td>\n",
       "      <td>...</td>\n",
       "      <td>...</td>\n",
       "      <td>...</td>\n",
       "      <td>...</td>\n",
       "      <td>...</td>\n",
       "      <td>...</td>\n",
       "      <td>...</td>\n",
       "      <td>...</td>\n",
       "      <td>...</td>\n",
       "      <td>...</td>\n",
       "      <td>...</td>\n",
       "    </tr>\n",
       "    <tr>\n",
       "      <th>401</th>\n",
       "      <td>13990</td>\n",
       "      <td>Red</td>\n",
       "      <td>Dual Sim</td>\n",
       "      <td>14.48</td>\n",
       "      <td>1440 x 720 Pixels</td>\n",
       "      <td>Android Nougat 7.1</td>\n",
       "      <td>Octa Core</td>\n",
       "      <td>2.5</td>\n",
       "      <td>64</td>\n",
       "      <td>4</td>\n",
       "      <td>13MP Rear Camera</td>\n",
       "      <td>8MP Front Camera</td>\n",
       "      <td>3G, 4G VOLTE, 2G</td>\n",
       "      <td>Yes</td>\n",
       "      <td>3180</td>\n",
       "      <td>73.1</td>\n",
       "      <td>150.5</td>\n",
       "      <td>7.70</td>\n",
       "      <td>143.0</td>\n",
       "      <td>OPPO</td>\n",
       "    </tr>\n",
       "    <tr>\n",
       "      <th>402</th>\n",
       "      <td>17000</td>\n",
       "      <td>Stellar Purple</td>\n",
       "      <td>Dual Sim</td>\n",
       "      <td>16.00</td>\n",
       "      <td>2340 x 1080 pixels</td>\n",
       "      <td>Android Oreo 8.1.0</td>\n",
       "      <td>Octa Core</td>\n",
       "      <td>2.0</td>\n",
       "      <td>64</td>\n",
       "      <td>4</td>\n",
       "      <td>16MP + 2MP</td>\n",
       "      <td>16MP Front Camera</td>\n",
       "      <td>3G, 4G VOLTE, 4G, 2G</td>\n",
       "      <td>Yes</td>\n",
       "      <td>3500</td>\n",
       "      <td>74.0</td>\n",
       "      <td>156.7</td>\n",
       "      <td>7.99</td>\n",
       "      <td>169.0</td>\n",
       "      <td>OPPO</td>\n",
       "    </tr>\n",
       "    <tr>\n",
       "      <th>403</th>\n",
       "      <td>15000</td>\n",
       "      <td>Purple</td>\n",
       "      <td>Dual Sim</td>\n",
       "      <td>15.75</td>\n",
       "      <td>1520 x 720 Pixels</td>\n",
       "      <td>Android Oreo 8.1</td>\n",
       "      <td>Octa Core</td>\n",
       "      <td>1.8</td>\n",
       "      <td>64</td>\n",
       "      <td>4</td>\n",
       "      <td>13MP + 2MP</td>\n",
       "      <td>8MP Front Camera</td>\n",
       "      <td>3G, 4G, 2G</td>\n",
       "      <td>Yes</td>\n",
       "      <td>4230</td>\n",
       "      <td>75.6</td>\n",
       "      <td>156.2</td>\n",
       "      <td>8.20</td>\n",
       "      <td>168.0</td>\n",
       "      <td>OPPO</td>\n",
       "    </tr>\n",
       "    <tr>\n",
       "      <th>404</th>\n",
       "      <td>41990</td>\n",
       "      <td>Jet Black</td>\n",
       "      <td>Dual Sim</td>\n",
       "      <td>16.76</td>\n",
       "      <td>2340 x 1080 pixels</td>\n",
       "      <td>Android Pie 9.0</td>\n",
       "      <td>Octa Core</td>\n",
       "      <td>2.8</td>\n",
       "      <td>256</td>\n",
       "      <td>8</td>\n",
       "      <td>48MP + 13MP + 8MP</td>\n",
       "      <td>16MP Front Camera</td>\n",
       "      <td>3G, 4G VOLTE, 4G, 2G</td>\n",
       "      <td>Yes</td>\n",
       "      <td>4065</td>\n",
       "      <td>77.2</td>\n",
       "      <td>162.0</td>\n",
       "      <td>9.30</td>\n",
       "      <td>215.0</td>\n",
       "      <td>OPPO</td>\n",
       "    </tr>\n",
       "    <tr>\n",
       "      <th>405</th>\n",
       "      <td>38990</td>\n",
       "      <td>Jet Black</td>\n",
       "      <td>Dual Sim</td>\n",
       "      <td>16.76</td>\n",
       "      <td>2340 x 1080 pixels</td>\n",
       "      <td>Android Pie 9.0</td>\n",
       "      <td>Octa Core</td>\n",
       "      <td>2.8</td>\n",
       "      <td>128</td>\n",
       "      <td>6</td>\n",
       "      <td>48MP + 13MP + 8MP</td>\n",
       "      <td>16MP Front Camera</td>\n",
       "      <td>3G, 4G VOLTE, 4G, 2G</td>\n",
       "      <td>Yes</td>\n",
       "      <td>4065</td>\n",
       "      <td>77.2</td>\n",
       "      <td>162.0</td>\n",
       "      <td>9.30</td>\n",
       "      <td>215.0</td>\n",
       "      <td>OPPO</td>\n",
       "    </tr>\n",
       "  </tbody>\n",
       "</table>\n",
       "<p>406 rows × 20 columns</p>\n",
       "</div>"
      ],
      "text/plain": [
       "     mobile_price    mobile_color  dual_sim  disp_size          resolution  \\\n",
       "0            8999        So White  Dual Sim      16.56   1600 x 720 Pixels   \n",
       "1            8999         So Blue  Dual Sim      16.56   1600 x 720 Pixels   \n",
       "2            9999         So Blue  Dual Sim      16.56   1600 x 720 Pixels   \n",
       "3            9999        So White  Dual Sim      16.56   1600 x 720 Pixels   \n",
       "4           11999      That Green  Dual Sim      16.51   1600 x 720 Pixels   \n",
       "..            ...             ...       ...        ...                 ...   \n",
       "401         13990             Red  Dual Sim      14.48   1440 x 720 Pixels   \n",
       "402         17000  Stellar Purple  Dual Sim      16.00  2340 x 1080 pixels   \n",
       "403         15000          Purple  Dual Sim      15.75   1520 x 720 Pixels   \n",
       "404         41990       Jet Black  Dual Sim      16.76  2340 x 1080 pixels   \n",
       "405         38990       Jet Black  Dual Sim      16.76  2340 x 1080 pixels   \n",
       "\n",
       "                     os  num_cores  mp_speed  int_memory  ram  \\\n",
       "0            Android 10  Octa Core       2.0          32    3   \n",
       "1            Android 10  Octa Core       2.0          32    3   \n",
       "2            Android 10  Octa Core       2.0          64    4   \n",
       "3            Android 10  Octa Core       2.0          64    4   \n",
       "4            Android 10  Octa Core       2.0         128    4   \n",
       "..                  ...        ...       ...         ...  ...   \n",
       "401  Android Nougat 7.1  Octa Core       2.5          64    4   \n",
       "402  Android Oreo 8.1.0  Octa Core       2.0          64    4   \n",
       "403    Android Oreo 8.1  Octa Core       1.8          64    4   \n",
       "404     Android Pie 9.0  Octa Core       2.8         256    8   \n",
       "405     Android Pie 9.0  Octa Core       2.8         128    6   \n",
       "\n",
       "                      p_cam              f_cam               network  \\\n",
       "0          12MP + 2MP + 2MP   5MP Front Camera  4G VOLTE, 4G, 3G, 2G   \n",
       "1          12MP + 2MP + 2MP   5MP Front Camera  4G VOLTE, 4G, 3G, 2G   \n",
       "2          12MP + 2MP + 2MP   5MP Front Camera  4G VOLTE, 4G, 3G, 2G   \n",
       "3          12MP + 2MP + 2MP   5MP Front Camera  4G VOLTE, 4G, 3G, 2G   \n",
       "4    48MP + 8MP + 2MP + 2MP  16MP Front Camera  4G VOLTE, 4G, 3G, 2G   \n",
       "..                      ...                ...                   ...   \n",
       "401        13MP Rear Camera   8MP Front Camera      3G, 4G VOLTE, 2G   \n",
       "402              16MP + 2MP  16MP Front Camera  3G, 4G VOLTE, 4G, 2G   \n",
       "403              13MP + 2MP   8MP Front Camera            3G, 4G, 2G   \n",
       "404       48MP + 13MP + 8MP  16MP Front Camera  3G, 4G VOLTE, 4G, 2G   \n",
       "405       48MP + 13MP + 8MP  16MP Front Camera  3G, 4G VOLTE, 4G, 2G   \n",
       "\n",
       "    bluetooth  battery_power  mob_width  mob_height  mob_depth  mob_weight  \\\n",
       "0         Yes           5000       75.0       164.4       8.95       195.0   \n",
       "1         Yes           5000       75.0       164.4       8.95       195.0   \n",
       "2         Yes           5000       75.0       164.4       8.95       195.0   \n",
       "3         Yes           5000       75.0       164.4       8.95       195.0   \n",
       "4         Yes           5000       75.4       164.4       9.00       199.0   \n",
       "..        ...            ...        ...         ...        ...         ...   \n",
       "401       Yes           3180       73.1       150.5       7.70       143.0   \n",
       "402       Yes           3500       74.0       156.7       7.99       169.0   \n",
       "403       Yes           4230       75.6       156.2       8.20       168.0   \n",
       "404       Yes           4065       77.2       162.0       9.30       215.0   \n",
       "405       Yes           4065       77.2       162.0       9.30       215.0   \n",
       "\n",
       "      brand  \n",
       "0    Realme  \n",
       "1    Realme  \n",
       "2    Realme  \n",
       "3    Realme  \n",
       "4    Realme  \n",
       "..      ...  \n",
       "401    OPPO  \n",
       "402    OPPO  \n",
       "403    OPPO  \n",
       "404    OPPO  \n",
       "405    OPPO  \n",
       "\n",
       "[406 rows x 20 columns]"
      ]
     },
     "execution_count": 287,
     "metadata": {},
     "output_type": "execute_result"
    }
   ],
   "source": [
    "df"
   ]
  },
  {
   "cell_type": "code",
   "execution_count": 288,
   "id": "bf21b63f",
   "metadata": {},
   "outputs": [
    {
     "data": {
      "text/plain": [
       "Yes    406\n",
       "Name: bluetooth, dtype: int64"
      ]
     },
     "execution_count": 288,
     "metadata": {},
     "output_type": "execute_result"
    }
   ],
   "source": [
    "df.bluetooth.value_counts()"
   ]
  },
  {
   "cell_type": "code",
   "execution_count": 289,
   "id": "aae97cb1",
   "metadata": {},
   "outputs": [],
   "source": [
    "# Since all rows contains same entry dropping the column\n",
    "df.drop(['bluetooth'],axis=1,inplace=True)"
   ]
  },
  {
   "cell_type": "code",
   "execution_count": 290,
   "id": "1ae29916",
   "metadata": {},
   "outputs": [
    {
     "data": {
      "text/plain": [
       "Dual Sim      405\n",
       "Single Sim      1\n",
       "Name: dual_sim, dtype: int64"
      ]
     },
     "execution_count": 290,
     "metadata": {},
     "output_type": "execute_result"
    }
   ],
   "source": [
    "df.dual_sim.value_counts()"
   ]
  },
  {
   "cell_type": "code",
   "execution_count": 291,
   "id": "1430e6ac",
   "metadata": {},
   "outputs": [],
   "source": [
    "# Since their is just one entry in Single Sim category of dual_sim column removing it and dropping the row"
   ]
  },
  {
   "cell_type": "code",
   "execution_count": 292,
   "id": "c6be9b87",
   "metadata": {},
   "outputs": [],
   "source": [
    "df.drop(df[df['dual_sim']=='Single Sim'].index,inplace=True)"
   ]
  },
  {
   "cell_type": "code",
   "execution_count": 293,
   "id": "1b3fb927",
   "metadata": {},
   "outputs": [],
   "source": [
    "df.drop(['dual_sim'],axis=1,inplace=True)"
   ]
  },
  {
   "cell_type": "code",
   "execution_count": 294,
   "id": "79244035",
   "metadata": {},
   "outputs": [
    {
     "data": {
      "text/html": [
       "<div>\n",
       "<style scoped>\n",
       "    .dataframe tbody tr th:only-of-type {\n",
       "        vertical-align: middle;\n",
       "    }\n",
       "\n",
       "    .dataframe tbody tr th {\n",
       "        vertical-align: top;\n",
       "    }\n",
       "\n",
       "    .dataframe thead th {\n",
       "        text-align: right;\n",
       "    }\n",
       "</style>\n",
       "<table border=\"1\" class=\"dataframe\">\n",
       "  <thead>\n",
       "    <tr style=\"text-align: right;\">\n",
       "      <th></th>\n",
       "      <th>count</th>\n",
       "      <th>unique</th>\n",
       "      <th>top</th>\n",
       "      <th>freq</th>\n",
       "    </tr>\n",
       "  </thead>\n",
       "  <tbody>\n",
       "    <tr>\n",
       "      <th>mobile_color</th>\n",
       "      <td>405</td>\n",
       "      <td>164</td>\n",
       "      <td>Black</td>\n",
       "      <td>24</td>\n",
       "    </tr>\n",
       "    <tr>\n",
       "      <th>resolution</th>\n",
       "      <td>405</td>\n",
       "      <td>48</td>\n",
       "      <td>2340 x 1080 pixels</td>\n",
       "      <td>59</td>\n",
       "    </tr>\n",
       "    <tr>\n",
       "      <th>os</th>\n",
       "      <td>405</td>\n",
       "      <td>17</td>\n",
       "      <td>Android Pie 9</td>\n",
       "      <td>107</td>\n",
       "    </tr>\n",
       "    <tr>\n",
       "      <th>num_cores</th>\n",
       "      <td>405</td>\n",
       "      <td>3</td>\n",
       "      <td>Octa Core</td>\n",
       "      <td>393</td>\n",
       "    </tr>\n",
       "    <tr>\n",
       "      <th>p_cam</th>\n",
       "      <td>405</td>\n",
       "      <td>49</td>\n",
       "      <td>13MP + 2MP</td>\n",
       "      <td>60</td>\n",
       "    </tr>\n",
       "    <tr>\n",
       "      <th>f_cam</th>\n",
       "      <td>405</td>\n",
       "      <td>15</td>\n",
       "      <td>16MP Front Camera</td>\n",
       "      <td>100</td>\n",
       "    </tr>\n",
       "    <tr>\n",
       "      <th>network</th>\n",
       "      <td>405</td>\n",
       "      <td>17</td>\n",
       "      <td>3G, 4G VOLTE, 4G, 2G</td>\n",
       "      <td>109</td>\n",
       "    </tr>\n",
       "    <tr>\n",
       "      <th>brand</th>\n",
       "      <td>405</td>\n",
       "      <td>8</td>\n",
       "      <td>Redmi</td>\n",
       "      <td>87</td>\n",
       "    </tr>\n",
       "  </tbody>\n",
       "</table>\n",
       "</div>"
      ],
      "text/plain": [
       "             count unique                   top freq\n",
       "mobile_color   405    164                 Black   24\n",
       "resolution     405     48    2340 x 1080 pixels   59\n",
       "os             405     17         Android Pie 9  107\n",
       "num_cores      405      3             Octa Core  393\n",
       "p_cam          405     49            13MP + 2MP   60\n",
       "f_cam          405     15     16MP Front Camera  100\n",
       "network        405     17  3G, 4G VOLTE, 4G, 2G  109\n",
       "brand          405      8                 Redmi   87"
      ]
     },
     "execution_count": 294,
     "metadata": {},
     "output_type": "execute_result"
    }
   ],
   "source": [
    "df.describe(include='object').T"
   ]
  },
  {
   "cell_type": "code",
   "execution_count": 295,
   "id": "1cfb77a0",
   "metadata": {},
   "outputs": [],
   "source": [
    "df.reset_index(drop=True,inplace=True)"
   ]
  },
  {
   "cell_type": "code",
   "execution_count": 296,
   "id": "8683a4c7",
   "metadata": {},
   "outputs": [],
   "source": [
    "# Processing for mobile_color column"
   ]
  },
  {
   "cell_type": "code",
   "execution_count": 297,
   "id": "ed7ef59b",
   "metadata": {},
   "outputs": [],
   "source": [
    "def rename_color(color):\n",
    "    for i,j in enumerate(df.mobile_color.str.lower()):\n",
    "        if color in j:\n",
    "            df.loc[[i],['mobile_color']]=color\n",
    "        else:\n",
    "            df.loc[[i],['mobile_color']]=j"
   ]
  },
  {
   "cell_type": "code",
   "execution_count": 298,
   "id": "7f92a28f",
   "metadata": {},
   "outputs": [],
   "source": [
    "# Lets rename all kinds of white to white\n",
    "rename_color('white')"
   ]
  },
  {
   "cell_type": "code",
   "execution_count": 299,
   "id": "bbb54743",
   "metadata": {},
   "outputs": [],
   "source": [
    "# Now for all kinds of black\n",
    "rename_color('black')"
   ]
  },
  {
   "cell_type": "code",
   "execution_count": 300,
   "id": "a0838c89",
   "metadata": {},
   "outputs": [],
   "source": [
    "# Similarly for other colors\n",
    "rename_color('blue')\n",
    "rename_color('green')\n",
    "rename_color('red')\n",
    "rename_color('purple')\n",
    "rename_color('grey')"
   ]
  },
  {
   "cell_type": "code",
   "execution_count": 301,
   "id": "da80140a",
   "metadata": {},
   "outputs": [
    {
     "data": {
      "text/plain": [
       "array(['white', 'blue', 'green', 'black', 'red', 'lightning orange',\n",
       "       'diamond ruby', 'diamond sapphire', 'purple', 'concrete', 'grey',\n",
       "       'gold', 'rose gold', 'matte gold', 'mystic silver',\n",
       "       'metallic gold', 'violet', 'ocean wave', 'tradew gray',\n",
       "       'berlin gray', 'mocha brown', 'blush gold', 'quetzal cyan',\n",
       "       'space gray', 'flowing silver', 'champagne', 'vanilla mint',\n",
       "       'glaring gold', 'radiant mist'], dtype=object)"
      ]
     },
     "execution_count": 301,
     "metadata": {},
     "output_type": "execute_result"
    }
   ],
   "source": [
    "df.mobile_color.unique()"
   ]
  },
  {
   "cell_type": "code",
   "execution_count": 302,
   "id": "123c12a2",
   "metadata": {},
   "outputs": [],
   "source": [
    "rename_color('gray')\n",
    "rename_color('gold')\n",
    "rename_color('silver')"
   ]
  },
  {
   "cell_type": "code",
   "execution_count": 303,
   "id": "b2574ff6",
   "metadata": {},
   "outputs": [],
   "source": [
    "rename_color('cyan')\n",
    "rename_color('orange')\n",
    "rename_color('brown')"
   ]
  },
  {
   "cell_type": "code",
   "execution_count": 304,
   "id": "199801e7",
   "metadata": {},
   "outputs": [
    {
     "data": {
      "text/plain": [
       "array(['white', 'blue', 'green', 'black', 'red', 'orange', 'diamond ruby',\n",
       "       'diamond sapphire', 'purple', 'concrete', 'grey', 'gold', 'silver',\n",
       "       'violet', 'ocean wave', 'gray', 'brown', 'cyan', 'champagne',\n",
       "       'vanilla mint', 'radiant mist'], dtype=object)"
      ]
     },
     "execution_count": 304,
     "metadata": {},
     "output_type": "execute_result"
    }
   ],
   "source": [
    "df.mobile_color.unique()"
   ]
  },
  {
   "cell_type": "markdown",
   "id": "de41614c",
   "metadata": {},
   "source": [
    "Upon researching I found similarities between colors that can be considered as same here\n",
    "<br>ruby is red,<br>sapphire,ocean wave,cyan is blue, <br>brown,champagne is gold<br>vanilla mint is white,<br>radiant mist is purple <br>concrete,grey,gray are all same"
   ]
  },
  {
   "cell_type": "code",
   "execution_count": 305,
   "id": "98ca4da3",
   "metadata": {},
   "outputs": [
    {
     "data": {
      "text/plain": [
       "Int64Index([267, 269], dtype='int64')"
      ]
     },
     "execution_count": 305,
     "metadata": {},
     "output_type": "execute_result"
    }
   ],
   "source": [
    "df[df['mobile_color']=='ocean wave'].index"
   ]
  },
  {
   "cell_type": "code",
   "execution_count": 306,
   "id": "d52e8491",
   "metadata": {},
   "outputs": [],
   "source": [
    "df.loc[[267,269],['mobile_color']]='blue'"
   ]
  },
  {
   "cell_type": "code",
   "execution_count": 307,
   "id": "ba31e404",
   "metadata": {},
   "outputs": [
    {
     "data": {
      "text/plain": [
       "Int64Index([41, 274, 277, 281, 292], dtype='int64')"
      ]
     },
     "execution_count": 307,
     "metadata": {},
     "output_type": "execute_result"
    }
   ],
   "source": [
    "df[(df['mobile_color']=='gray') | (df['mobile_color']=='concrete')].index"
   ]
  },
  {
   "cell_type": "code",
   "execution_count": 308,
   "id": "2632ac18",
   "metadata": {},
   "outputs": [],
   "source": [
    "df.loc[[41,274,277,281,292],['mobile_color']]='grey'"
   ]
  },
  {
   "cell_type": "code",
   "execution_count": 309,
   "id": "20697eed",
   "metadata": {},
   "outputs": [
    {
     "data": {
      "text/plain": [
       "Int64Index([30, 286, 293], dtype='int64')"
      ]
     },
     "execution_count": 309,
     "metadata": {},
     "output_type": "execute_result"
    }
   ],
   "source": [
    "df[(df['mobile_color']=='diamond sapphire') | (df['mobile_color']=='cyan')].index"
   ]
  },
  {
   "cell_type": "code",
   "execution_count": 310,
   "id": "8b3fbd13",
   "metadata": {},
   "outputs": [],
   "source": [
    "df.loc[[30,286,293],['mobile_color']]='blue'"
   ]
  },
  {
   "cell_type": "code",
   "execution_count": 311,
   "id": "524463ad",
   "metadata": {},
   "outputs": [
    {
     "data": {
      "text/plain": [
       "array(['white', 'blue', 'green', 'black', 'red', 'orange', 'diamond ruby',\n",
       "       'purple', 'grey', 'gold', 'silver', 'violet', 'brown', 'champagne',\n",
       "       'vanilla mint', 'radiant mist'], dtype=object)"
      ]
     },
     "execution_count": 311,
     "metadata": {},
     "output_type": "execute_result"
    }
   ],
   "source": [
    "df.mobile_color.unique()"
   ]
  },
  {
   "cell_type": "code",
   "execution_count": 312,
   "id": "b2c73690",
   "metadata": {},
   "outputs": [
    {
     "data": {
      "text/plain": [
       "Int64Index([385], dtype='int64')"
      ]
     },
     "execution_count": 312,
     "metadata": {},
     "output_type": "execute_result"
    }
   ],
   "source": [
    "df[df['mobile_color']=='radiant mist'].index"
   ]
  },
  {
   "cell_type": "code",
   "execution_count": 313,
   "id": "3c2121f4",
   "metadata": {},
   "outputs": [],
   "source": [
    "df.loc[[385],['mobile_color']]='purple'"
   ]
  },
  {
   "cell_type": "code",
   "execution_count": 314,
   "id": "4b761e7c",
   "metadata": {},
   "outputs": [
    {
     "data": {
      "text/plain": [
       "Int64Index([28], dtype='int64')"
      ]
     },
     "execution_count": 314,
     "metadata": {},
     "output_type": "execute_result"
    }
   ],
   "source": [
    "df[df['mobile_color']=='diamond ruby'].index"
   ]
  },
  {
   "cell_type": "code",
   "execution_count": 315,
   "id": "77befe5c",
   "metadata": {},
   "outputs": [],
   "source": [
    "df.loc[[28],['mobile_color']]='red'"
   ]
  },
  {
   "cell_type": "code",
   "execution_count": 316,
   "id": "7831f164",
   "metadata": {},
   "outputs": [
    {
     "data": {
      "text/plain": [
       "Int64Index([279, 361], dtype='int64')"
      ]
     },
     "execution_count": 316,
     "metadata": {},
     "output_type": "execute_result"
    }
   ],
   "source": [
    "df[(df['mobile_color']=='brown') | (df['mobile_color']=='champagne')].index"
   ]
  },
  {
   "cell_type": "code",
   "execution_count": 317,
   "id": "21e4eec0",
   "metadata": {},
   "outputs": [],
   "source": [
    "df.loc[[279,361],['mobile_color']]='gold'"
   ]
  },
  {
   "cell_type": "code",
   "execution_count": 318,
   "id": "bb26bc8e",
   "metadata": {},
   "outputs": [
    {
     "data": {
      "text/plain": [
       "Int64Index([362, 380], dtype='int64')"
      ]
     },
     "execution_count": 318,
     "metadata": {},
     "output_type": "execute_result"
    }
   ],
   "source": [
    "df[df['mobile_color']=='vanilla mint'].index"
   ]
  },
  {
   "cell_type": "code",
   "execution_count": 319,
   "id": "a4ead10e",
   "metadata": {},
   "outputs": [],
   "source": [
    "df.loc[[362,380],['mobile_color']]='white'"
   ]
  },
  {
   "cell_type": "code",
   "execution_count": 320,
   "id": "1299b553",
   "metadata": {},
   "outputs": [
    {
     "data": {
      "text/plain": [
       "blue      114\n",
       "black     102\n",
       "red        48\n",
       "white      42\n",
       "gold       33\n",
       "green      21\n",
       "purple     19\n",
       "grey       17\n",
       "violet      5\n",
       "silver      3\n",
       "orange      1\n",
       "Name: mobile_color, dtype: int64"
      ]
     },
     "execution_count": 320,
     "metadata": {},
     "output_type": "execute_result"
    }
   ],
   "source": [
    "df.mobile_color.value_counts()"
   ]
  },
  {
   "cell_type": "markdown",
   "id": "2eed90b3",
   "metadata": {},
   "source": [
    "furthermore, orange can be considered as red, as orange has just one entry and red is closest to orange<br>\n",
    "similarly silver to grey and violet to purple"
   ]
  },
  {
   "cell_type": "code",
   "execution_count": 321,
   "id": "58ac92d4",
   "metadata": {},
   "outputs": [
    {
     "data": {
      "text/plain": [
       "Int64Index([22], dtype='int64')"
      ]
     },
     "execution_count": 321,
     "metadata": {},
     "output_type": "execute_result"
    }
   ],
   "source": [
    "df[df['mobile_color']=='orange'].index"
   ]
  },
  {
   "cell_type": "code",
   "execution_count": 322,
   "id": "4c3dc2c4",
   "metadata": {},
   "outputs": [],
   "source": [
    "df.loc[[22],['mobile_color']]='red'"
   ]
  },
  {
   "cell_type": "code",
   "execution_count": 323,
   "id": "49322f12",
   "metadata": {},
   "outputs": [
    {
     "data": {
      "text/plain": [
       "Int64Index([192, 193, 346], dtype='int64')"
      ]
     },
     "execution_count": 323,
     "metadata": {},
     "output_type": "execute_result"
    }
   ],
   "source": [
    "df[df['mobile_color']=='silver'].index"
   ]
  },
  {
   "cell_type": "code",
   "execution_count": 324,
   "id": "c576aaa1",
   "metadata": {},
   "outputs": [],
   "source": [
    "df.loc[[192,193,346],['mobile_color']]='grey'"
   ]
  },
  {
   "cell_type": "code",
   "execution_count": 325,
   "id": "d72d3503",
   "metadata": {},
   "outputs": [
    {
     "data": {
      "text/plain": [
       "Int64Index([266, 268, 272, 285, 294], dtype='int64')"
      ]
     },
     "execution_count": 325,
     "metadata": {},
     "output_type": "execute_result"
    }
   ],
   "source": [
    "df[df['mobile_color']=='violet'].index"
   ]
  },
  {
   "cell_type": "code",
   "execution_count": 326,
   "id": "7b323bc6",
   "metadata": {},
   "outputs": [],
   "source": [
    "df.loc[[266,268,272,285,294],['mobile_color']]='purple'"
   ]
  },
  {
   "cell_type": "code",
   "execution_count": 327,
   "id": "5122b8bb",
   "metadata": {},
   "outputs": [
    {
     "data": {
      "text/plain": [
       "blue      114\n",
       "black     102\n",
       "red        49\n",
       "white      42\n",
       "gold       33\n",
       "purple     24\n",
       "green      21\n",
       "grey       20\n",
       "Name: mobile_color, dtype: int64"
      ]
     },
     "execution_count": 327,
     "metadata": {},
     "output_type": "execute_result"
    }
   ],
   "source": [
    "df.mobile_color.value_counts()"
   ]
  },
  {
   "cell_type": "code",
   "execution_count": 328,
   "id": "d397cf8d",
   "metadata": {},
   "outputs": [
    {
     "name": "stderr",
     "output_type": "stream",
     "text": [
      "c:\\users\\ukarj\\appdata\\local\\programs\\python\\python39\\lib\\site-packages\\seaborn\\_decorators.py:36: FutureWarning: Pass the following variable as a keyword arg: x. From version 0.12, the only valid positional argument will be `data`, and passing other arguments without an explicit keyword will result in an error or misinterpretation.\n",
      "  warnings.warn(\n"
     ]
    },
    {
     "data": {
      "image/png": "[encoded data removed]",
      "text/plain": [
       "<Figure size 936x504 with 1 Axes>"
      ]
     },
     "metadata": {
      "needs_background": "light"
     },
     "output_type": "display_data"
    }
   ],
   "source": [
    "plt.figure(figsize=(13,7))\n",
    "sns.countplot(df.mobile_color,order=df.mobile_color.value_counts().index,palette='plasma')\n",
    "plt.show()"
   ]
  },
  {
   "cell_type": "code",
   "execution_count": 329,
   "id": "29f23b63",
   "metadata": {},
   "outputs": [
    {
     "data": {
      "text/html": [
       "<div>\n",
       "<style scoped>\n",
       "    .dataframe tbody tr th:only-of-type {\n",
       "        vertical-align: middle;\n",
       "    }\n",
       "\n",
       "    .dataframe tbody tr th {\n",
       "        vertical-align: top;\n",
       "    }\n",
       "\n",
       "    .dataframe thead th {\n",
       "        text-align: right;\n",
       "    }\n",
       "</style>\n",
       "<table border=\"1\" class=\"dataframe\">\n",
       "  <thead>\n",
       "    <tr style=\"text-align: right;\">\n",
       "      <th></th>\n",
       "      <th>mobile_price</th>\n",
       "      <th>mobile_color</th>\n",
       "      <th>disp_size</th>\n",
       "      <th>resolution</th>\n",
       "      <th>os</th>\n",
       "      <th>num_cores</th>\n",
       "      <th>mp_speed</th>\n",
       "      <th>int_memory</th>\n",
       "      <th>ram</th>\n",
       "      <th>p_cam</th>\n",
       "      <th>f_cam</th>\n",
       "      <th>network</th>\n",
       "      <th>battery_power</th>\n",
       "      <th>mob_width</th>\n",
       "      <th>mob_height</th>\n",
       "      <th>mob_depth</th>\n",
       "      <th>mob_weight</th>\n",
       "      <th>brand</th>\n",
       "    </tr>\n",
       "  </thead>\n",
       "  <tbody>\n",
       "    <tr>\n",
       "      <th>0</th>\n",
       "      <td>8999</td>\n",
       "      <td>white</td>\n",
       "      <td>16.56</td>\n",
       "      <td>1600 x 720 Pixels</td>\n",
       "      <td>Android 10</td>\n",
       "      <td>Octa Core</td>\n",
       "      <td>2.0</td>\n",
       "      <td>32</td>\n",
       "      <td>3</td>\n",
       "      <td>12MP + 2MP + 2MP</td>\n",
       "      <td>5MP Front Camera</td>\n",
       "      <td>4G VOLTE, 4G, 3G, 2G</td>\n",
       "      <td>5000</td>\n",
       "      <td>75.0</td>\n",
       "      <td>164.4</td>\n",
       "      <td>8.95</td>\n",
       "      <td>195.0</td>\n",
       "      <td>Realme</td>\n",
       "    </tr>\n",
       "    <tr>\n",
       "      <th>1</th>\n",
       "      <td>8999</td>\n",
       "      <td>blue</td>\n",
       "      <td>16.56</td>\n",
       "      <td>1600 x 720 Pixels</td>\n",
       "      <td>Android 10</td>\n",
       "      <td>Octa Core</td>\n",
       "      <td>2.0</td>\n",
       "      <td>32</td>\n",
       "      <td>3</td>\n",
       "      <td>12MP + 2MP + 2MP</td>\n",
       "      <td>5MP Front Camera</td>\n",
       "      <td>4G VOLTE, 4G, 3G, 2G</td>\n",
       "      <td>5000</td>\n",
       "      <td>75.0</td>\n",
       "      <td>164.4</td>\n",
       "      <td>8.95</td>\n",
       "      <td>195.0</td>\n",
       "      <td>Realme</td>\n",
       "    </tr>\n",
       "    <tr>\n",
       "      <th>2</th>\n",
       "      <td>9999</td>\n",
       "      <td>blue</td>\n",
       "      <td>16.56</td>\n",
       "      <td>1600 x 720 Pixels</td>\n",
       "      <td>Android 10</td>\n",
       "      <td>Octa Core</td>\n",
       "      <td>2.0</td>\n",
       "      <td>64</td>\n",
       "      <td>4</td>\n",
       "      <td>12MP + 2MP + 2MP</td>\n",
       "      <td>5MP Front Camera</td>\n",
       "      <td>4G VOLTE, 4G, 3G, 2G</td>\n",
       "      <td>5000</td>\n",
       "      <td>75.0</td>\n",
       "      <td>164.4</td>\n",
       "      <td>8.95</td>\n",
       "      <td>195.0</td>\n",
       "      <td>Realme</td>\n",
       "    </tr>\n",
       "    <tr>\n",
       "      <th>3</th>\n",
       "      <td>9999</td>\n",
       "      <td>white</td>\n",
       "      <td>16.56</td>\n",
       "      <td>1600 x 720 Pixels</td>\n",
       "      <td>Android 10</td>\n",
       "      <td>Octa Core</td>\n",
       "      <td>2.0</td>\n",
       "      <td>64</td>\n",
       "      <td>4</td>\n",
       "      <td>12MP + 2MP + 2MP</td>\n",
       "      <td>5MP Front Camera</td>\n",
       "      <td>4G VOLTE, 4G, 3G, 2G</td>\n",
       "      <td>5000</td>\n",
       "      <td>75.0</td>\n",
       "      <td>164.4</td>\n",
       "      <td>8.95</td>\n",
       "      <td>195.0</td>\n",
       "      <td>Realme</td>\n",
       "    </tr>\n",
       "    <tr>\n",
       "      <th>4</th>\n",
       "      <td>11999</td>\n",
       "      <td>green</td>\n",
       "      <td>16.51</td>\n",
       "      <td>1600 x 720 Pixels</td>\n",
       "      <td>Android 10</td>\n",
       "      <td>Octa Core</td>\n",
       "      <td>2.0</td>\n",
       "      <td>128</td>\n",
       "      <td>4</td>\n",
       "      <td>48MP + 8MP + 2MP + 2MP</td>\n",
       "      <td>16MP Front Camera</td>\n",
       "      <td>4G VOLTE, 4G, 3G, 2G</td>\n",
       "      <td>5000</td>\n",
       "      <td>75.4</td>\n",
       "      <td>164.4</td>\n",
       "      <td>9.00</td>\n",
       "      <td>199.0</td>\n",
       "      <td>Realme</td>\n",
       "    </tr>\n",
       "    <tr>\n",
       "      <th>...</th>\n",
       "      <td>...</td>\n",
       "      <td>...</td>\n",
       "      <td>...</td>\n",
       "      <td>...</td>\n",
       "      <td>...</td>\n",
       "      <td>...</td>\n",
       "      <td>...</td>\n",
       "      <td>...</td>\n",
       "      <td>...</td>\n",
       "      <td>...</td>\n",
       "      <td>...</td>\n",
       "      <td>...</td>\n",
       "      <td>...</td>\n",
       "      <td>...</td>\n",
       "      <td>...</td>\n",
       "      <td>...</td>\n",
       "      <td>...</td>\n",
       "      <td>...</td>\n",
       "    </tr>\n",
       "    <tr>\n",
       "      <th>400</th>\n",
       "      <td>13990</td>\n",
       "      <td>red</td>\n",
       "      <td>14.48</td>\n",
       "      <td>1440 x 720 Pixels</td>\n",
       "      <td>Android Nougat 7.1</td>\n",
       "      <td>Octa Core</td>\n",
       "      <td>2.5</td>\n",
       "      <td>64</td>\n",
       "      <td>4</td>\n",
       "      <td>13MP Rear Camera</td>\n",
       "      <td>8MP Front Camera</td>\n",
       "      <td>3G, 4G VOLTE, 2G</td>\n",
       "      <td>3180</td>\n",
       "      <td>73.1</td>\n",
       "      <td>150.5</td>\n",
       "      <td>7.70</td>\n",
       "      <td>143.0</td>\n",
       "      <td>OPPO</td>\n",
       "    </tr>\n",
       "    <tr>\n",
       "      <th>401</th>\n",
       "      <td>17000</td>\n",
       "      <td>purple</td>\n",
       "      <td>16.00</td>\n",
       "      <td>2340 x 1080 pixels</td>\n",
       "      <td>Android Oreo 8.1.0</td>\n",
       "      <td>Octa Core</td>\n",
       "      <td>2.0</td>\n",
       "      <td>64</td>\n",
       "      <td>4</td>\n",
       "      <td>16MP + 2MP</td>\n",
       "      <td>16MP Front Camera</td>\n",
       "      <td>3G, 4G VOLTE, 4G, 2G</td>\n",
       "      <td>3500</td>\n",
       "      <td>74.0</td>\n",
       "      <td>156.7</td>\n",
       "      <td>7.99</td>\n",
       "      <td>169.0</td>\n",
       "      <td>OPPO</td>\n",
       "    </tr>\n",
       "    <tr>\n",
       "      <th>402</th>\n",
       "      <td>15000</td>\n",
       "      <td>purple</td>\n",
       "      <td>15.75</td>\n",
       "      <td>1520 x 720 Pixels</td>\n",
       "      <td>Android Oreo 8.1</td>\n",
       "      <td>Octa Core</td>\n",
       "      <td>1.8</td>\n",
       "      <td>64</td>\n",
       "      <td>4</td>\n",
       "      <td>13MP + 2MP</td>\n",
       "      <td>8MP Front Camera</td>\n",
       "      <td>3G, 4G, 2G</td>\n",
       "      <td>4230</td>\n",
       "      <td>75.6</td>\n",
       "      <td>156.2</td>\n",
       "      <td>8.20</td>\n",
       "      <td>168.0</td>\n",
       "      <td>OPPO</td>\n",
       "    </tr>\n",
       "    <tr>\n",
       "      <th>403</th>\n",
       "      <td>41990</td>\n",
       "      <td>black</td>\n",
       "      <td>16.76</td>\n",
       "      <td>2340 x 1080 pixels</td>\n",
       "      <td>Android Pie 9.0</td>\n",
       "      <td>Octa Core</td>\n",
       "      <td>2.8</td>\n",
       "      <td>256</td>\n",
       "      <td>8</td>\n",
       "      <td>48MP + 13MP + 8MP</td>\n",
       "      <td>16MP Front Camera</td>\n",
       "      <td>3G, 4G VOLTE, 4G, 2G</td>\n",
       "      <td>4065</td>\n",
       "      <td>77.2</td>\n",
       "      <td>162.0</td>\n",
       "      <td>9.30</td>\n",
       "      <td>215.0</td>\n",
       "      <td>OPPO</td>\n",
       "    </tr>\n",
       "    <tr>\n",
       "      <th>404</th>\n",
       "      <td>38990</td>\n",
       "      <td>black</td>\n",
       "      <td>16.76</td>\n",
       "      <td>2340 x 1080 pixels</td>\n",
       "      <td>Android Pie 9.0</td>\n",
       "      <td>Octa Core</td>\n",
       "      <td>2.8</td>\n",
       "      <td>128</td>\n",
       "      <td>6</td>\n",
       "      <td>48MP + 13MP + 8MP</td>\n",
       "      <td>16MP Front Camera</td>\n",
       "      <td>3G, 4G VOLTE, 4G, 2G</td>\n",
       "      <td>4065</td>\n",
       "      <td>77.2</td>\n",
       "      <td>162.0</td>\n",
       "      <td>9.30</td>\n",
       "      <td>215.0</td>\n",
       "      <td>OPPO</td>\n",
       "    </tr>\n",
       "  </tbody>\n",
       "</table>\n",
       "<p>405 rows × 18 columns</p>\n",
       "</div>"
      ],
      "text/plain": [
       "     mobile_price mobile_color  disp_size          resolution  \\\n",
       "0            8999        white      16.56   1600 x 720 Pixels   \n",
       "1            8999         blue      16.56   1600 x 720 Pixels   \n",
       "2            9999         blue      16.56   1600 x 720 Pixels   \n",
       "3            9999        white      16.56   1600 x 720 Pixels   \n",
       "4           11999        green      16.51   1600 x 720 Pixels   \n",
       "..            ...          ...        ...                 ...   \n",
       "400         13990          red      14.48   1440 x 720 Pixels   \n",
       "401         17000       purple      16.00  2340 x 1080 pixels   \n",
       "402         15000       purple      15.75   1520 x 720 Pixels   \n",
       "403         41990        black      16.76  2340 x 1080 pixels   \n",
       "404         38990        black      16.76  2340 x 1080 pixels   \n",
       "\n",
       "                     os  num_cores  mp_speed  int_memory  ram  \\\n",
       "0            Android 10  Octa Core       2.0          32    3   \n",
       "1            Android 10  Octa Core       2.0          32    3   \n",
       "2            Android 10  Octa Core       2.0          64    4   \n",
       "3            Android 10  Octa Core       2.0          64    4   \n",
       "4            Android 10  Octa Core       2.0         128    4   \n",
       "..                  ...        ...       ...         ...  ...   \n",
       "400  Android Nougat 7.1  Octa Core       2.5          64    4   \n",
       "401  Android Oreo 8.1.0  Octa Core       2.0          64    4   \n",
       "402    Android Oreo 8.1  Octa Core       1.8          64    4   \n",
       "403     Android Pie 9.0  Octa Core       2.8         256    8   \n",
       "404     Android Pie 9.0  Octa Core       2.8         128    6   \n",
       "\n",
       "                      p_cam              f_cam               network  \\\n",
       "0          12MP + 2MP + 2MP   5MP Front Camera  4G VOLTE, 4G, 3G, 2G   \n",
       "1          12MP + 2MP + 2MP   5MP Front Camera  4G VOLTE, 4G, 3G, 2G   \n",
       "2          12MP + 2MP + 2MP   5MP Front Camera  4G VOLTE, 4G, 3G, 2G   \n",
       "3          12MP + 2MP + 2MP   5MP Front Camera  4G VOLTE, 4G, 3G, 2G   \n",
       "4    48MP + 8MP + 2MP + 2MP  16MP Front Camera  4G VOLTE, 4G, 3G, 2G   \n",
       "..                      ...                ...                   ...   \n",
       "400        13MP Rear Camera   8MP Front Camera      3G, 4G VOLTE, 2G   \n",
       "401              16MP + 2MP  16MP Front Camera  3G, 4G VOLTE, 4G, 2G   \n",
       "402              13MP + 2MP   8MP Front Camera            3G, 4G, 2G   \n",
       "403       48MP + 13MP + 8MP  16MP Front Camera  3G, 4G VOLTE, 4G, 2G   \n",
       "404       48MP + 13MP + 8MP  16MP Front Camera  3G, 4G VOLTE, 4G, 2G   \n",
       "\n",
       "     battery_power  mob_width  mob_height  mob_depth  mob_weight   brand  \n",
       "0             5000       75.0       164.4       8.95       195.0  Realme  \n",
       "1             5000       75.0       164.4       8.95       195.0  Realme  \n",
       "2             5000       75.0       164.4       8.95       195.0  Realme  \n",
       "3             5000       75.0       164.4       8.95       195.0  Realme  \n",
       "4             5000       75.4       164.4       9.00       199.0  Realme  \n",
       "..             ...        ...         ...        ...         ...     ...  \n",
       "400           3180       73.1       150.5       7.70       143.0    OPPO  \n",
       "401           3500       74.0       156.7       7.99       169.0    OPPO  \n",
       "402           4230       75.6       156.2       8.20       168.0    OPPO  \n",
       "403           4065       77.2       162.0       9.30       215.0    OPPO  \n",
       "404           4065       77.2       162.0       9.30       215.0    OPPO  \n",
       "\n",
       "[405 rows x 18 columns]"
      ]
     },
     "execution_count": 329,
     "metadata": {},
     "output_type": "execute_result"
    }
   ],
   "source": [
    "df"
   ]
  },
  {
   "cell_type": "code",
   "execution_count": 330,
   "id": "2663d799",
   "metadata": {},
   "outputs": [],
   "source": [
    "# Lets work on num_cores column"
   ]
  },
  {
   "cell_type": "code",
   "execution_count": 331,
   "id": "99d9eb56",
   "metadata": {},
   "outputs": [
    {
     "data": {
      "text/plain": [
       "Octa Core      393\n",
       "Quad Core       11\n",
       "Single Core      1\n",
       "Name: num_cores, dtype: int64"
      ]
     },
     "execution_count": 331,
     "metadata": {},
     "output_type": "execute_result"
    }
   ],
   "source": [
    "df.num_cores.value_counts()"
   ]
  },
  {
   "cell_type": "markdown",
   "id": "fc274ffc",
   "metadata": {},
   "source": [
    "Single core means 1, Quad Core means 4 and Octa Core means 8"
   ]
  },
  {
   "cell_type": "code",
   "execution_count": 332,
   "id": "1defd12e",
   "metadata": {},
   "outputs": [
    {
     "name": "stderr",
     "output_type": "stream",
     "text": [
      "c:\\users\\ukarj\\appdata\\local\\programs\\python\\python39\\lib\\site-packages\\seaborn\\_decorators.py:36: FutureWarning: Pass the following variable as a keyword arg: x. From version 0.12, the only valid positional argument will be `data`, and passing other arguments without an explicit keyword will result in an error or misinterpretation.\n",
      "  warnings.warn(\n"
     ]
    },
    {
     "data": {
      "text/plain": [
       "<AxesSubplot:xlabel='num_cores', ylabel='count'>"
      ]
     },
     "execution_count": 332,
     "metadata": {},
     "output_type": "execute_result"
    },
    {
     "data": {
      "image/png": "[encoded data removed]",
      "text/plain": [
       "<Figure size 432x288 with 1 Axes>"
      ]
     },
     "metadata": {
      "needs_background": "light"
     },
     "output_type": "display_data"
    }
   ],
   "source": [
    "sns.countplot(df.num_cores)"
   ]
  },
  {
   "cell_type": "markdown",
   "id": "6bd4fe9f",
   "metadata": {},
   "source": [
    "The number of mobiles with Octa Core is substantially higher than mobiles with Quad core and Single core"
   ]
  },
  {
   "cell_type": "code",
   "execution_count": 333,
   "id": "cad76b67",
   "metadata": {},
   "outputs": [
    {
     "data": {
      "text/plain": [
       "[395]"
      ]
     },
     "execution_count": 333,
     "metadata": {},
     "output_type": "execute_result"
    }
   ],
   "source": [
    "#renaming these values\n",
    "list(df[df['num_cores']=='Single Core'].index)"
   ]
  },
  {
   "cell_type": "code",
   "execution_count": 334,
   "id": "697e82d8",
   "metadata": {},
   "outputs": [],
   "source": [
    "df.loc[[395],['num_cores']]=1"
   ]
  },
  {
   "cell_type": "code",
   "execution_count": 335,
   "id": "9938bc23",
   "metadata": {},
   "outputs": [],
   "source": [
    "quad = list(df[df['num_cores']=='Quad Core'].index)\n",
    "octa = list(df[df['num_cores']=='Octa Core'].index)"
   ]
  },
  {
   "cell_type": "code",
   "execution_count": 336,
   "id": "f054da76",
   "metadata": {},
   "outputs": [],
   "source": [
    "df.loc[quad,['num_cores']]=4\n",
    "df.loc[octa,['num_cores']]=8"
   ]
  },
  {
   "cell_type": "code",
   "execution_count": 337,
   "id": "25827c3d",
   "metadata": {},
   "outputs": [],
   "source": [
    "df['num_cores'] = pd.to_numeric(df['num_cores'])"
   ]
  },
  {
   "cell_type": "code",
   "execution_count": 338,
   "id": "c10ee8a9",
   "metadata": {},
   "outputs": [
    {
     "data": {
      "text/plain": [
       "array(['Android 10', 'Android Pie 9.0', 'Android Pie 9',\n",
       "       'Android Oreo 8.1', 'Android Pie 10', 'Android Nougat 7.1.1',\n",
       "       'Android Oreo 8.0', 'Android Nougat 7.1.2',\n",
       "       'Android Marshmallow 6.0.1', 'Android Nougat 7.1',\n",
       "       'Android Marshmallow 6', 'Android Nougat 7',\n",
       "       'Android Lollipop 5.4.1', 'Android Oreo 8.1.0', 'Android Oreo 8',\n",
       "       'Android Lollipop 5.1', 'Android Lollipop 5.1.1'], dtype=object)"
      ]
     },
     "execution_count": 338,
     "metadata": {},
     "output_type": "execute_result"
    }
   ],
   "source": [
    "df.os.unique()"
   ]
  },
  {
   "cell_type": "code",
   "execution_count": 339,
   "id": "cb67e71c",
   "metadata": {},
   "outputs": [
    {
     "data": {
      "text/plain": [
       "Android Pie 9                107\n",
       "Android Oreo 8.1              79\n",
       "Android Pie 9.0               75\n",
       "Android 10                    68\n",
       "Android Pie 10                15\n",
       "Android Oreo 8.1.0            12\n",
       "Android Nougat 7.1.2          10\n",
       "Android Nougat 7.1             8\n",
       "Android Nougat 7               7\n",
       "Android Oreo 8                 7\n",
       "Android Oreo 8.0               6\n",
       "Android Lollipop 5.1           3\n",
       "Android Marshmallow 6          3\n",
       "Android Marshmallow 6.0.1      2\n",
       "Android Lollipop 5.4.1         1\n",
       "Android Nougat 7.1.1           1\n",
       "Android Lollipop 5.1.1         1\n",
       "Name: os, dtype: int64"
      ]
     },
     "execution_count": 339,
     "metadata": {},
     "output_type": "execute_result"
    }
   ],
   "source": [
    "df.os.value_counts()"
   ]
  },
  {
   "cell_type": "code",
   "execution_count": 340,
   "id": "6c41ff1a",
   "metadata": {},
   "outputs": [],
   "source": [
    "# Renaming these in similar way can be hectic, lets define a function for it\n",
    "def reduce(df,col,old,new):\n",
    "    inds = list(df[df[col]==old].index)\n",
    "    df.loc[inds,[col]] = new"
   ]
  },
  {
   "cell_type": "code",
   "execution_count": 341,
   "id": "bae75064",
   "metadata": {},
   "outputs": [],
   "source": [
    "# Lets ignore the second decimals here and group os"
   ]
  },
  {
   "cell_type": "code",
   "execution_count": 342,
   "id": "bfa02584",
   "metadata": {},
   "outputs": [],
   "source": [
    "reduce(df,'os','Android Pie 9',9.0)\n",
    "reduce(df,'os','Android Oreo 8.1',8.1)\n",
    "reduce(df,'os','Android Pie 9.0',9.0)\n",
    "reduce(df,'os','Android 10',10.0)\n",
    "reduce(df,'os','Android Pie 10',10.0)\n",
    "reduce(df,'os','Android Oreo 8.1.0',8.1)\n",
    "reduce(df,'os','Android Nougat 7.1.2',7.1)\n",
    "reduce(df,'os','Android Nougat 7.1',7.1)\n",
    "reduce(df,'os','Android Nougat 7',7.0)\n",
    "reduce(df,'os','Android Oreo 8',8.0)\n",
    "reduce(df,'os','Android Oreo 8.0',8.0)\n",
    "reduce(df,'os','Android Lollipop 5.1',5.1)\n",
    "reduce(df,'os','Android Marshmallow 6',6.0)\n",
    "reduce(df,'os','Android Marshmallow 6.0.1',6.0)\n",
    "reduce(df,'os','Android Lollipop 5.4.1',5.4)\n",
    "reduce(df,'os','Android Nougat 7.1.1',7.1)\n",
    "reduce(df,'os','Android Lollipop 5.1.1',5.1)"
   ]
  },
  {
   "cell_type": "code",
   "execution_count": 343,
   "id": "51105d7f",
   "metadata": {},
   "outputs": [],
   "source": [
    "df['os'] = pd.to_numeric(df['os'])"
   ]
  },
  {
   "cell_type": "code",
   "execution_count": 344,
   "id": "c34d42ae",
   "metadata": {},
   "outputs": [
    {
     "data": {
      "image/png": "[encoded data removed]",
      "text/plain": [
       "<Figure size 720x576 with 1 Axes>"
      ]
     },
     "metadata": {
      "needs_background": "light"
     },
     "output_type": "display_data"
    }
   ],
   "source": [
    "plt.figure(figsize=(10,8))\n",
    "sns.histplot(df.os)\n",
    "plt.show()"
   ]
  },
  {
   "cell_type": "markdown",
   "id": "f42056b7",
   "metadata": {},
   "source": [
    "Most of the mobiles have android 9"
   ]
  },
  {
   "cell_type": "code",
   "execution_count": 345,
   "id": "91910daa",
   "metadata": {},
   "outputs": [
    {
     "data": {
      "text/html": [
       "<div>\n",
       "<style scoped>\n",
       "    .dataframe tbody tr th:only-of-type {\n",
       "        vertical-align: middle;\n",
       "    }\n",
       "\n",
       "    .dataframe tbody tr th {\n",
       "        vertical-align: top;\n",
       "    }\n",
       "\n",
       "    .dataframe thead th {\n",
       "        text-align: right;\n",
       "    }\n",
       "</style>\n",
       "<table border=\"1\" class=\"dataframe\">\n",
       "  <thead>\n",
       "    <tr style=\"text-align: right;\">\n",
       "      <th></th>\n",
       "      <th>mobile_color</th>\n",
       "      <th>resolution</th>\n",
       "      <th>p_cam</th>\n",
       "      <th>f_cam</th>\n",
       "      <th>network</th>\n",
       "      <th>brand</th>\n",
       "    </tr>\n",
       "  </thead>\n",
       "  <tbody>\n",
       "    <tr>\n",
       "      <th>count</th>\n",
       "      <td>405</td>\n",
       "      <td>405</td>\n",
       "      <td>405</td>\n",
       "      <td>405</td>\n",
       "      <td>405</td>\n",
       "      <td>405</td>\n",
       "    </tr>\n",
       "    <tr>\n",
       "      <th>unique</th>\n",
       "      <td>8</td>\n",
       "      <td>48</td>\n",
       "      <td>49</td>\n",
       "      <td>15</td>\n",
       "      <td>17</td>\n",
       "      <td>8</td>\n",
       "    </tr>\n",
       "    <tr>\n",
       "      <th>top</th>\n",
       "      <td>blue</td>\n",
       "      <td>2340 x 1080 pixels</td>\n",
       "      <td>13MP + 2MP</td>\n",
       "      <td>16MP Front Camera</td>\n",
       "      <td>3G, 4G VOLTE, 4G, 2G</td>\n",
       "      <td>Redmi</td>\n",
       "    </tr>\n",
       "    <tr>\n",
       "      <th>freq</th>\n",
       "      <td>114</td>\n",
       "      <td>59</td>\n",
       "      <td>60</td>\n",
       "      <td>100</td>\n",
       "      <td>109</td>\n",
       "      <td>87</td>\n",
       "    </tr>\n",
       "  </tbody>\n",
       "</table>\n",
       "</div>"
      ],
      "text/plain": [
       "       mobile_color          resolution       p_cam              f_cam  \\\n",
       "count           405                 405         405                405   \n",
       "unique            8                  48          49                 15   \n",
       "top            blue  2340 x 1080 pixels  13MP + 2MP  16MP Front Camera   \n",
       "freq            114                  59          60                100   \n",
       "\n",
       "                     network  brand  \n",
       "count                    405    405  \n",
       "unique                    17      8  \n",
       "top     3G, 4G VOLTE, 4G, 2G  Redmi  \n",
       "freq                     109     87  "
      ]
     },
     "execution_count": 345,
     "metadata": {},
     "output_type": "execute_result"
    }
   ],
   "source": [
    "df.describe(include='object')"
   ]
  },
  {
   "cell_type": "code",
   "execution_count": 346,
   "id": "deb144c9",
   "metadata": {},
   "outputs": [
    {
     "data": {
      "text/html": [
       "<div>\n",
       "<style scoped>\n",
       "    .dataframe tbody tr th:only-of-type {\n",
       "        vertical-align: middle;\n",
       "    }\n",
       "\n",
       "    .dataframe tbody tr th {\n",
       "        vertical-align: top;\n",
       "    }\n",
       "\n",
       "    .dataframe thead th {\n",
       "        text-align: right;\n",
       "    }\n",
       "</style>\n",
       "<table border=\"1\" class=\"dataframe\">\n",
       "  <thead>\n",
       "    <tr style=\"text-align: right;\">\n",
       "      <th></th>\n",
       "      <th>mobile_price</th>\n",
       "      <th>mobile_color</th>\n",
       "      <th>disp_size</th>\n",
       "      <th>resolution</th>\n",
       "      <th>os</th>\n",
       "      <th>num_cores</th>\n",
       "      <th>mp_speed</th>\n",
       "      <th>int_memory</th>\n",
       "      <th>ram</th>\n",
       "      <th>p_cam</th>\n",
       "      <th>f_cam</th>\n",
       "      <th>network</th>\n",
       "      <th>battery_power</th>\n",
       "      <th>mob_width</th>\n",
       "      <th>mob_height</th>\n",
       "      <th>mob_depth</th>\n",
       "      <th>mob_weight</th>\n",
       "      <th>brand</th>\n",
       "    </tr>\n",
       "  </thead>\n",
       "  <tbody>\n",
       "    <tr>\n",
       "      <th>0</th>\n",
       "      <td>8999</td>\n",
       "      <td>white</td>\n",
       "      <td>16.56</td>\n",
       "      <td>1600 x 720 Pixels</td>\n",
       "      <td>10.0</td>\n",
       "      <td>8</td>\n",
       "      <td>2.0</td>\n",
       "      <td>32</td>\n",
       "      <td>3</td>\n",
       "      <td>12MP + 2MP + 2MP</td>\n",
       "      <td>5MP Front Camera</td>\n",
       "      <td>4G VOLTE, 4G, 3G, 2G</td>\n",
       "      <td>5000</td>\n",
       "      <td>75.0</td>\n",
       "      <td>164.4</td>\n",
       "      <td>8.95</td>\n",
       "      <td>195.0</td>\n",
       "      <td>Realme</td>\n",
       "    </tr>\n",
       "    <tr>\n",
       "      <th>1</th>\n",
       "      <td>8999</td>\n",
       "      <td>blue</td>\n",
       "      <td>16.56</td>\n",
       "      <td>1600 x 720 Pixels</td>\n",
       "      <td>10.0</td>\n",
       "      <td>8</td>\n",
       "      <td>2.0</td>\n",
       "      <td>32</td>\n",
       "      <td>3</td>\n",
       "      <td>12MP + 2MP + 2MP</td>\n",
       "      <td>5MP Front Camera</td>\n",
       "      <td>4G VOLTE, 4G, 3G, 2G</td>\n",
       "      <td>5000</td>\n",
       "      <td>75.0</td>\n",
       "      <td>164.4</td>\n",
       "      <td>8.95</td>\n",
       "      <td>195.0</td>\n",
       "      <td>Realme</td>\n",
       "    </tr>\n",
       "    <tr>\n",
       "      <th>2</th>\n",
       "      <td>9999</td>\n",
       "      <td>blue</td>\n",
       "      <td>16.56</td>\n",
       "      <td>1600 x 720 Pixels</td>\n",
       "      <td>10.0</td>\n",
       "      <td>8</td>\n",
       "      <td>2.0</td>\n",
       "      <td>64</td>\n",
       "      <td>4</td>\n",
       "      <td>12MP + 2MP + 2MP</td>\n",
       "      <td>5MP Front Camera</td>\n",
       "      <td>4G VOLTE, 4G, 3G, 2G</td>\n",
       "      <td>5000</td>\n",
       "      <td>75.0</td>\n",
       "      <td>164.4</td>\n",
       "      <td>8.95</td>\n",
       "      <td>195.0</td>\n",
       "      <td>Realme</td>\n",
       "    </tr>\n",
       "    <tr>\n",
       "      <th>3</th>\n",
       "      <td>9999</td>\n",
       "      <td>white</td>\n",
       "      <td>16.56</td>\n",
       "      <td>1600 x 720 Pixels</td>\n",
       "      <td>10.0</td>\n",
       "      <td>8</td>\n",
       "      <td>2.0</td>\n",
       "      <td>64</td>\n",
       "      <td>4</td>\n",
       "      <td>12MP + 2MP + 2MP</td>\n",
       "      <td>5MP Front Camera</td>\n",
       "      <td>4G VOLTE, 4G, 3G, 2G</td>\n",
       "      <td>5000</td>\n",
       "      <td>75.0</td>\n",
       "      <td>164.4</td>\n",
       "      <td>8.95</td>\n",
       "      <td>195.0</td>\n",
       "      <td>Realme</td>\n",
       "    </tr>\n",
       "    <tr>\n",
       "      <th>4</th>\n",
       "      <td>11999</td>\n",
       "      <td>green</td>\n",
       "      <td>16.51</td>\n",
       "      <td>1600 x 720 Pixels</td>\n",
       "      <td>10.0</td>\n",
       "      <td>8</td>\n",
       "      <td>2.0</td>\n",
       "      <td>128</td>\n",
       "      <td>4</td>\n",
       "      <td>48MP + 8MP + 2MP + 2MP</td>\n",
       "      <td>16MP Front Camera</td>\n",
       "      <td>4G VOLTE, 4G, 3G, 2G</td>\n",
       "      <td>5000</td>\n",
       "      <td>75.4</td>\n",
       "      <td>164.4</td>\n",
       "      <td>9.00</td>\n",
       "      <td>199.0</td>\n",
       "      <td>Realme</td>\n",
       "    </tr>\n",
       "  </tbody>\n",
       "</table>\n",
       "</div>"
      ],
      "text/plain": [
       "   mobile_price mobile_color  disp_size         resolution    os  num_cores  \\\n",
       "0          8999        white      16.56  1600 x 720 Pixels  10.0          8   \n",
       "1          8999         blue      16.56  1600 x 720 Pixels  10.0          8   \n",
       "2          9999         blue      16.56  1600 x 720 Pixels  10.0          8   \n",
       "3          9999        white      16.56  1600 x 720 Pixels  10.0          8   \n",
       "4         11999        green      16.51  1600 x 720 Pixels  10.0          8   \n",
       "\n",
       "   mp_speed  int_memory  ram                   p_cam              f_cam  \\\n",
       "0       2.0          32    3        12MP + 2MP + 2MP   5MP Front Camera   \n",
       "1       2.0          32    3        12MP + 2MP + 2MP   5MP Front Camera   \n",
       "2       2.0          64    4        12MP + 2MP + 2MP   5MP Front Camera   \n",
       "3       2.0          64    4        12MP + 2MP + 2MP   5MP Front Camera   \n",
       "4       2.0         128    4  48MP + 8MP + 2MP + 2MP  16MP Front Camera   \n",
       "\n",
       "                network  battery_power  mob_width  mob_height  mob_depth  \\\n",
       "0  4G VOLTE, 4G, 3G, 2G           5000       75.0       164.4       8.95   \n",
       "1  4G VOLTE, 4G, 3G, 2G           5000       75.0       164.4       8.95   \n",
       "2  4G VOLTE, 4G, 3G, 2G           5000       75.0       164.4       8.95   \n",
       "3  4G VOLTE, 4G, 3G, 2G           5000       75.0       164.4       8.95   \n",
       "4  4G VOLTE, 4G, 3G, 2G           5000       75.4       164.4       9.00   \n",
       "\n",
       "   mob_weight   brand  \n",
       "0       195.0  Realme  \n",
       "1       195.0  Realme  \n",
       "2       195.0  Realme  \n",
       "3       195.0  Realme  \n",
       "4       199.0  Realme  "
      ]
     },
     "execution_count": 346,
     "metadata": {},
     "output_type": "execute_result"
    }
   ],
   "source": [
    "df.head()"
   ]
  },
  {
   "cell_type": "code",
   "execution_count": 347,
   "id": "be4aff88",
   "metadata": {},
   "outputs": [],
   "source": [
    "# Some other visualizations"
   ]
  },
  {
   "cell_type": "code",
   "execution_count": 348,
   "id": "c0f4f311",
   "metadata": {},
   "outputs": [
    {
     "name": "stderr",
     "output_type": "stream",
     "text": [
      "c:\\users\\ukarj\\appdata\\local\\programs\\python\\python39\\lib\\site-packages\\seaborn\\_decorators.py:36: FutureWarning: Pass the following variable as a keyword arg: x. From version 0.12, the only valid positional argument will be `data`, and passing other arguments without an explicit keyword will result in an error or misinterpretation.\n",
      "  warnings.warn(\n"
     ]
    },
    {
     "data": {
      "text/plain": [
       "<AxesSubplot:xlabel='int_memory', ylabel='count'>"
      ]
     },
     "execution_count": 348,
     "metadata": {},
     "output_type": "execute_result"
    },
    {
     "data": {
      "image/png": "[encoded data removed]",
      "text/plain": [
       "<Figure size 432x288 with 1 Axes>"
      ]
     },
     "metadata": {
      "needs_background": "light"
     },
     "output_type": "display_data"
    }
   ],
   "source": [
    "sns.countplot(df.int_memory)"
   ]
  },
  {
   "cell_type": "code",
   "execution_count": 349,
   "id": "45b5d6fb",
   "metadata": {},
   "outputs": [
    {
     "data": {
      "text/plain": [
       "<AxesSubplot:xlabel='mob_weight', ylabel='Count'>"
      ]
     },
     "execution_count": 349,
     "metadata": {},
     "output_type": "execute_result"
    },
    {
     "data": {
      "image/png": "[encoded data removed]",
      "text/plain": [
       "<Figure size 432x288 with 1 Axes>"
      ]
     },
     "metadata": {
      "needs_background": "light"
     },
     "output_type": "display_data"
    }
   ],
   "source": [
    "sns.histplot(df.mob_weight)"
   ]
  },
  {
   "cell_type": "code",
   "execution_count": 350,
   "id": "06994081",
   "metadata": {},
   "outputs": [
    {
     "data": {
      "text/plain": [
       "3G, 4G VOLTE, 4G, 2G        109\n",
       "3G, 4G VOLTE, 2G             79\n",
       "4G VOLTE, 4G, 3G, 2G         76\n",
       "3G, 4G, 2G                   34\n",
       "4G, 3G, 2G                   26\n",
       "4G VOLTE, 4G, 2G, 3G         17\n",
       "4G VOLTE, 3G, 2G             13\n",
       "4G VOLTE, 3G                 10\n",
       "3G, 4G VOLTE, 4G              9\n",
       "4G VOLTE                      8\n",
       "3G, 4G VOLTE                  8\n",
       "5G, 4G VOLTE, 4G, 3G, 2G      3\n",
       "4G VOLTE, 5G                  3\n",
       "4G, 2G, 3G                    3\n",
       "4G VOLTE, 4G                  3\n",
       "2G                            2\n",
       "3G, 4G                        2\n",
       "Name: network, dtype: int64"
      ]
     },
     "execution_count": 350,
     "metadata": {},
     "output_type": "execute_result"
    }
   ],
   "source": [
    "df.network.value_counts()"
   ]
  },
  {
   "cell_type": "code",
   "execution_count": 351,
   "id": "aca35451",
   "metadata": {},
   "outputs": [],
   "source": [
    "# we can reduce the network column with reduce function earlier defined\n",
    "# we will make new variables as 5G, 4G VOLTE, 4G, 3G. 2G as per the highest from available"
   ]
  },
  {
   "cell_type": "code",
   "execution_count": 352,
   "id": "7400c9ef",
   "metadata": {},
   "outputs": [],
   "source": [
    "reduce(df,'network','3G, 4G VOLTE, 4G, 2G','4G VOLTE')\n",
    "reduce(df,'network','3G, 4G VOLTE, 2G','4G VOLTE')\n",
    "reduce(df,'network','4G VOLTE, 4G, 3G, 2G','4G VOLTE')\n",
    "reduce(df,'network','3G, 4G, 2G','4G')\n",
    "reduce(df,'network','4G, 3G, 2G','4G')\n",
    "reduce(df,'network','4G VOLTE, 4G, 2G, 3G','4G VOLTE')\n",
    "reduce(df,'network','4G VOLTE, 3G, 2G','4G VOLTE')\n",
    "reduce(df,'network','4G VOLTE, 3G','4G VOLTE')\n",
    "reduce(df,'network','3G, 4G VOLTE, 4G','4G VOLTE')\n",
    "reduce(df,'network','4G VOLTE','4G VOLTE')\n",
    "reduce(df,'network','3G, 4G VOLTE','4G VOLTE')\n",
    "reduce(df,'network','5G, 4G VOLTE, 4G, 3G, 2G','5G')\n",
    "reduce(df,'network','4G VOLTE, 5G','4G VOLTE')\n",
    "reduce(df,'network','4G, 2G, 3G','4G')\n",
    "reduce(df,'network','4G VOLTE, 4G','4G VOLTE')\n",
    "reduce(df,'network','2G','2G')\n",
    "reduce(df,'network','3G, 4G','4G')"
   ]
  },
  {
   "cell_type": "code",
   "execution_count": 353,
   "id": "844341c0",
   "metadata": {},
   "outputs": [
    {
     "data": {
      "text/plain": [
       "<AxesSubplot:>"
      ]
     },
     "execution_count": 353,
     "metadata": {},
     "output_type": "execute_result"
    },
    {
     "data": {
      "image/png": "[encoded data removed]",
      "text/plain": [
       "<Figure size 432x288 with 1 Axes>"
      ]
     },
     "metadata": {
      "needs_background": "light"
     },
     "output_type": "display_data"
    }
   ],
   "source": [
    "df.network.value_counts().plot(kind='bar')"
   ]
  },
  {
   "cell_type": "code",
   "execution_count": 354,
   "id": "5b416526",
   "metadata": {},
   "outputs": [
    {
     "data": {
      "text/plain": [
       "2340 x 1080 pixels     59\n",
       "2400 x 1080 Pixels     45\n",
       "1520 x 720 pixels      32\n",
       "1600 x 720 Pixels      25\n",
       "1080 x 2340 Pixels     19\n",
       "1520 x 720 Pixels      19\n",
       "2160 x 1080 pixels     14\n",
       "2160 x 1080 Pixels     13\n",
       "1440 x 720 pixels      12\n",
       "720 x 1600 Pixels      12\n",
       "2340 x 1080 Pixels     12\n",
       "1440 x 720 Pixels      11\n",
       "2400 × 1080 Pixels     11\n",
       "1280 x 720 Pixels       9\n",
       "720 x 1544 Pixels       8\n",
       "1080 x 2160 pixels      7\n",
       "1560 x 720 pixels       7\n",
       "2280 x 1080 pixels      7\n",
       "2400 x 1080 pixel       6\n",
       "1560 x 720 Pixels       6\n",
       "1520 x 720$$pixel       5\n",
       "1080 x 2400 Pixels      5\n",
       "2280 x 1080$$Pixels     5\n",
       "1500 x 720 pixels       5\n",
       "1520 x 720$$Pixels      4\n",
       "2280 x 1080 Pixels      4\n",
       "1080 x 2340 pixels      4\n",
       "720 x 1544 pixels       3\n",
       "2340 x 1080 Pixel       3\n",
       "1920 x 1080 pixels      3\n",
       "720 x 1520 pixels       3\n",
       "1080 x 1920 Pixels      3\n",
       "720*1440 Pixels         3\n",
       "720 x 1440 Pixels       3\n",
       "1280 x 720 pixels       2\n",
       "2400 x 1080 Pixel       2\n",
       "2340 x 1080$$pixel      2\n",
       "2340 x 1080$$Pixel      2\n",
       "720 x 1560 pixels       1\n",
       "1440 x 720 Pixel        1\n",
       "1920 x 1080 Pixels      1\n",
       "540 x 960 Pixels        1\n",
       "960 x 540 Pixels        1\n",
       "1520 x 720$pixels       1\n",
       "1520 x 720$$ pixels     1\n",
       "2316 x 1080 pixels      1\n",
       "2400 x 1080$$pixel      1\n",
       "720 x 1280              1\n",
       "Name: resolution, dtype: int64"
      ]
     },
     "execution_count": 354,
     "metadata": {},
     "output_type": "execute_result"
    }
   ],
   "source": [
    "df.resolution.value_counts()"
   ]
  },
  {
   "cell_type": "code",
   "execution_count": 355,
   "id": "b62016de",
   "metadata": {},
   "outputs": [],
   "source": [
    "# Lets clean resolutions column"
   ]
  },
  {
   "cell_type": "code",
   "execution_count": 356,
   "id": "70377877",
   "metadata": {},
   "outputs": [],
   "source": [
    "df['resolution'] = df['resolution'].str.replace('$',' ',regex=False)"
   ]
  },
  {
   "cell_type": "code",
   "execution_count": 357,
   "id": "8b143aad",
   "metadata": {},
   "outputs": [],
   "source": [
    "df['resolution'] = df['resolution'].str.replace('*',' x ',regex=False)"
   ]
  },
  {
   "cell_type": "code",
   "execution_count": 358,
   "id": "742e8b9f",
   "metadata": {},
   "outputs": [],
   "source": [
    "resols = list(df.resolution.value_counts().index)"
   ]
  },
  {
   "cell_type": "code",
   "execution_count": 359,
   "id": "bee6a3d1",
   "metadata": {},
   "outputs": [],
   "source": [
    "newresols=[]"
   ]
  },
  {
   "cell_type": "code",
   "execution_count": 360,
   "id": "4cb7e2f2",
   "metadata": {},
   "outputs": [],
   "source": [
    "for i in resols:\n",
    "    tmp=i.split(' ')\n",
    "    a=int(tmp[0])\n",
    "    b=int(tmp[2])\n",
    "    ntmp=str(max(a,b))+' x '+str(min(a,b))\n",
    "    newresols.append(ntmp)"
   ]
  },
  {
   "cell_type": "code",
   "execution_count": 361,
   "id": "e82df414",
   "metadata": {},
   "outputs": [],
   "source": [
    "for i,j in zip(resols,newresols):\n",
    "    reduce(df,'resolution',i,j)"
   ]
  },
  {
   "cell_type": "code",
   "execution_count": 362,
   "id": "e6c49e3b",
   "metadata": {},
   "outputs": [
    {
     "data": {
      "text/plain": [
       "2340 x 1080    101\n",
       "2400 x 1080     70\n",
       "1520 x 720      65\n",
       "1600 x 720      37\n",
       "2160 x 1080     34\n",
       "1440 x 720      30\n",
       "2280 x 1080     16\n",
       "1560 x 720      14\n",
       "1280 x 720      12\n",
       "1544 x 720      11\n",
       "1920 x 1080      7\n",
       "1500 x 720       5\n",
       "960 x 540        2\n",
       "2316 x 1080      1\n",
       "Name: resolution, dtype: int64"
      ]
     },
     "execution_count": 362,
     "metadata": {},
     "output_type": "execute_result"
    }
   ],
   "source": [
    "df.resolution.value_counts()"
   ]
  },
  {
   "cell_type": "code",
   "execution_count": 363,
   "id": "c2e2e5e4",
   "metadata": {},
   "outputs": [
    {
     "data": {
      "text/html": [
       "<div>\n",
       "<style scoped>\n",
       "    .dataframe tbody tr th:only-of-type {\n",
       "        vertical-align: middle;\n",
       "    }\n",
       "\n",
       "    .dataframe tbody tr th {\n",
       "        vertical-align: top;\n",
       "    }\n",
       "\n",
       "    .dataframe thead th {\n",
       "        text-align: right;\n",
       "    }\n",
       "</style>\n",
       "<table border=\"1\" class=\"dataframe\">\n",
       "  <thead>\n",
       "    <tr style=\"text-align: right;\">\n",
       "      <th></th>\n",
       "      <th>mobile_color</th>\n",
       "      <th>resolution</th>\n",
       "      <th>p_cam</th>\n",
       "      <th>f_cam</th>\n",
       "      <th>network</th>\n",
       "      <th>brand</th>\n",
       "    </tr>\n",
       "  </thead>\n",
       "  <tbody>\n",
       "    <tr>\n",
       "      <th>count</th>\n",
       "      <td>405</td>\n",
       "      <td>405</td>\n",
       "      <td>405</td>\n",
       "      <td>405</td>\n",
       "      <td>405</td>\n",
       "      <td>405</td>\n",
       "    </tr>\n",
       "    <tr>\n",
       "      <th>unique</th>\n",
       "      <td>8</td>\n",
       "      <td>14</td>\n",
       "      <td>49</td>\n",
       "      <td>15</td>\n",
       "      <td>4</td>\n",
       "      <td>8</td>\n",
       "    </tr>\n",
       "    <tr>\n",
       "      <th>top</th>\n",
       "      <td>blue</td>\n",
       "      <td>2340 x 1080</td>\n",
       "      <td>13MP + 2MP</td>\n",
       "      <td>16MP Front Camera</td>\n",
       "      <td>4G VOLTE</td>\n",
       "      <td>Redmi</td>\n",
       "    </tr>\n",
       "    <tr>\n",
       "      <th>freq</th>\n",
       "      <td>114</td>\n",
       "      <td>101</td>\n",
       "      <td>60</td>\n",
       "      <td>100</td>\n",
       "      <td>335</td>\n",
       "      <td>87</td>\n",
       "    </tr>\n",
       "  </tbody>\n",
       "</table>\n",
       "</div>"
      ],
      "text/plain": [
       "       mobile_color   resolution       p_cam              f_cam   network  \\\n",
       "count           405          405         405                405       405   \n",
       "unique            8           14          49                 15         4   \n",
       "top            blue  2340 x 1080  13MP + 2MP  16MP Front Camera  4G VOLTE   \n",
       "freq            114          101          60                100       335   \n",
       "\n",
       "        brand  \n",
       "count     405  \n",
       "unique      8  \n",
       "top     Redmi  \n",
       "freq       87  "
      ]
     },
     "execution_count": 363,
     "metadata": {},
     "output_type": "execute_result"
    }
   ],
   "source": [
    "df.describe(include='object')"
   ]
  },
  {
   "cell_type": "code",
   "execution_count": 364,
   "id": "8802f40e",
   "metadata": {},
   "outputs": [],
   "source": [
    "# making a dictionary for cat coding brand and mobile_color columns"
   ]
  },
  {
   "cell_type": "code",
   "execution_count": 365,
   "id": "97dda180",
   "metadata": {},
   "outputs": [],
   "source": [
    "brands_dict = dict()\n",
    "colors_dict = dict()"
   ]
  },
  {
   "cell_type": "code",
   "execution_count": 366,
   "id": "687d10b8",
   "metadata": {},
   "outputs": [],
   "source": [
    "for no,br in enumerate(list(df.brand.value_counts().index)):\n",
    "    brands_dict[br]=no"
   ]
  },
  {
   "cell_type": "code",
   "execution_count": 367,
   "id": "99278482",
   "metadata": {},
   "outputs": [
    {
     "data": {
      "text/plain": [
       "{'Redmi': 0,\n",
       " 'Vivo': 1,\n",
       " 'OPPO': 2,\n",
       " 'Realme': 3,\n",
       " 'Infinix': 4,\n",
       " 'POCO': 5,\n",
       " 'Samsung': 6,\n",
       " 'Mi': 7}"
      ]
     },
     "execution_count": 367,
     "metadata": {},
     "output_type": "execute_result"
    }
   ],
   "source": [
    "brands_dict"
   ]
  },
  {
   "cell_type": "code",
   "execution_count": 368,
   "id": "4b39755b",
   "metadata": {},
   "outputs": [],
   "source": [
    "for no,co in enumerate(list(df.mobile_color.value_counts().index)):\n",
    "    colors_dict[co]=no"
   ]
  },
  {
   "cell_type": "code",
   "execution_count": 369,
   "id": "942cee4e",
   "metadata": {},
   "outputs": [
    {
     "data": {
      "text/plain": [
       "{'blue': 0,\n",
       " 'black': 1,\n",
       " 'red': 2,\n",
       " 'white': 3,\n",
       " 'gold': 4,\n",
       " 'purple': 5,\n",
       " 'green': 6,\n",
       " 'grey': 7}"
      ]
     },
     "execution_count": 369,
     "metadata": {},
     "output_type": "execute_result"
    }
   ],
   "source": [
    "colors_dict"
   ]
  },
  {
   "cell_type": "code",
   "execution_count": 370,
   "id": "0bce89dc",
   "metadata": {},
   "outputs": [
    {
     "data": {
      "text/plain": [
       "4G VOLTE    335\n",
       "4G           65\n",
       "5G            3\n",
       "2G            2\n",
       "Name: network, dtype: int64"
      ]
     },
     "execution_count": 370,
     "metadata": {},
     "output_type": "execute_result"
    }
   ],
   "source": [
    "df.network.value_counts()"
   ]
  },
  {
   "cell_type": "code",
   "execution_count": 371,
   "id": "5fe26934",
   "metadata": {},
   "outputs": [],
   "source": [
    "network_dict = {'5G':4,'4G VOLTE':3,'4G':2,'2G':1}"
   ]
  },
  {
   "cell_type": "code",
   "execution_count": 372,
   "id": "fc88bd41",
   "metadata": {},
   "outputs": [],
   "source": [
    "# Mapping these codes in df"
   ]
  },
  {
   "cell_type": "code",
   "execution_count": 373,
   "id": "b74f0a7f",
   "metadata": {},
   "outputs": [],
   "source": [
    "df['brand'] = df['brand'].map(brands_dict)\n",
    "df['mobile_color'] = df['mobile_color'].map(colors_dict)\n",
    "df['network'] = df['network'].map(network_dict)"
   ]
  },
  {
   "cell_type": "code",
   "execution_count": 376,
   "id": "8f3ab2ec",
   "metadata": {},
   "outputs": [],
   "source": [
    "# lets code resolution, p_cam, f_cam  with category codes\n",
    "df['resolution']=df['resolution'].astype('category').cat.codes\n",
    "df['p_cam']=df['p_cam'].astype('category').cat.codes\n",
    "df['f_cam']=df['f_cam'].astype('category').cat.codes"
   ]
  },
  {
   "cell_type": "code",
   "execution_count": 377,
   "id": "5db9695c",
   "metadata": {},
   "outputs": [
    {
     "data": {
      "text/plain": [
       "mobile_price       int64\n",
       "mobile_color       int64\n",
       "disp_size        float64\n",
       "resolution          int8\n",
       "os               float64\n",
       "num_cores          int64\n",
       "mp_speed         float64\n",
       "int_memory         int64\n",
       "ram                int64\n",
       "p_cam               int8\n",
       "f_cam               int8\n",
       "network            int64\n",
       "battery_power      int64\n",
       "mob_width        float64\n",
       "mob_height       float64\n",
       "mob_depth        float64\n",
       "mob_weight       float64\n",
       "brand              int64\n",
       "dtype: object"
      ]
     },
     "execution_count": 377,
     "metadata": {},
     "output_type": "execute_result"
    }
   ],
   "source": [
    "df.dtypes"
   ]
  },
  {
   "cell_type": "code",
   "execution_count": 378,
   "id": "0c1b2c91",
   "metadata": {},
   "outputs": [],
   "source": [
    "# Though All the column may look numerical but some of them are categorical represented by number, changing these to category type.\n",
    "# out of which disp_size, os, num_cores, mp_speed, int_memory, ram, battery_power, mob_width, mob_height, mob_depth, mob_weight can be left as numeriacal as they have numerical significance as its label\n",
    "\n",
    "df['mobile_color'] = df['mobile_color'].astype('category')\n",
    "df['resolution'] = df['resolution'].astype('category')\n",
    "df['p_cam'] = df['p_cam'].astype('category')\n",
    "df['f_cam'] = df['f_cam'].astype('category')\n",
    "df['network'] = df['network'].astype('category')\n",
    "df['brand'] = df['brand'].astype('category')"
   ]
  },
  {
   "cell_type": "code",
   "execution_count": 379,
   "id": "159915f3",
   "metadata": {},
   "outputs": [
    {
     "data": {
      "text/html": [
       "<div>\n",
       "<style scoped>\n",
       "    .dataframe tbody tr th:only-of-type {\n",
       "        vertical-align: middle;\n",
       "    }\n",
       "\n",
       "    .dataframe tbody tr th {\n",
       "        vertical-align: top;\n",
       "    }\n",
       "\n",
       "    .dataframe thead th {\n",
       "        text-align: right;\n",
       "    }\n",
       "</style>\n",
       "<table border=\"1\" class=\"dataframe\">\n",
       "  <thead>\n",
       "    <tr style=\"text-align: right;\">\n",
       "      <th></th>\n",
       "      <th>mobile_price</th>\n",
       "      <th>disp_size</th>\n",
       "      <th>os</th>\n",
       "      <th>num_cores</th>\n",
       "      <th>mp_speed</th>\n",
       "      <th>int_memory</th>\n",
       "      <th>ram</th>\n",
       "      <th>battery_power</th>\n",
       "      <th>mob_width</th>\n",
       "      <th>mob_height</th>\n",
       "      <th>mob_depth</th>\n",
       "      <th>mob_weight</th>\n",
       "    </tr>\n",
       "  </thead>\n",
       "  <tbody>\n",
       "    <tr>\n",
       "      <th>count</th>\n",
       "      <td>405.000000</td>\n",
       "      <td>405.000000</td>\n",
       "      <td>405.000000</td>\n",
       "      <td>405.000000</td>\n",
       "      <td>405.000000</td>\n",
       "      <td>405.000000</td>\n",
       "      <td>405.000000</td>\n",
       "      <td>405.000000</td>\n",
       "      <td>405.000000</td>\n",
       "      <td>405.000000</td>\n",
       "      <td>405.000000</td>\n",
       "      <td>405.000000</td>\n",
       "    </tr>\n",
       "    <tr>\n",
       "      <th>mean</th>\n",
       "      <td>16689.629630</td>\n",
       "      <td>15.921975</td>\n",
       "      <td>8.762469</td>\n",
       "      <td>7.874074</td>\n",
       "      <td>2.122143</td>\n",
       "      <td>88.671605</td>\n",
       "      <td>4.938272</td>\n",
       "      <td>4175.333333</td>\n",
       "      <td>74.090593</td>\n",
       "      <td>157.723802</td>\n",
       "      <td>11.050346</td>\n",
       "      <td>180.856049</td>\n",
       "    </tr>\n",
       "    <tr>\n",
       "      <th>std</th>\n",
       "      <td>8730.981798</td>\n",
       "      <td>0.806525</td>\n",
       "      <td>0.946920</td>\n",
       "      <td>0.735550</td>\n",
       "      <td>0.351857</td>\n",
       "      <td>65.985472</td>\n",
       "      <td>2.082136</td>\n",
       "      <td>603.463149</td>\n",
       "      <td>13.941616</td>\n",
       "      <td>12.882975</td>\n",
       "      <td>13.626880</td>\n",
       "      <td>17.449679</td>\n",
       "    </tr>\n",
       "    <tr>\n",
       "      <th>min</th>\n",
       "      <td>6000.000000</td>\n",
       "      <td>11.940000</td>\n",
       "      <td>5.100000</td>\n",
       "      <td>1.000000</td>\n",
       "      <td>1.300000</td>\n",
       "      <td>8.000000</td>\n",
       "      <td>1.000000</td>\n",
       "      <td>2000.000000</td>\n",
       "      <td>8.350000</td>\n",
       "      <td>7.380000</td>\n",
       "      <td>7.300000</td>\n",
       "      <td>130.000000</td>\n",
       "    </tr>\n",
       "    <tr>\n",
       "      <th>25%</th>\n",
       "      <td>10900.000000</td>\n",
       "      <td>15.720000</td>\n",
       "      <td>8.100000</td>\n",
       "      <td>8.000000</td>\n",
       "      <td>2.000000</td>\n",
       "      <td>32.000000</td>\n",
       "      <td>3.000000</td>\n",
       "      <td>4000.000000</td>\n",
       "      <td>74.800000</td>\n",
       "      <td>155.900000</td>\n",
       "      <td>8.100000</td>\n",
       "      <td>168.000000</td>\n",
       "    </tr>\n",
       "    <tr>\n",
       "      <th>50%</th>\n",
       "      <td>14990.000000</td>\n",
       "      <td>16.000000</td>\n",
       "      <td>9.000000</td>\n",
       "      <td>8.000000</td>\n",
       "      <td>2.000000</td>\n",
       "      <td>64.000000</td>\n",
       "      <td>4.000000</td>\n",
       "      <td>4030.000000</td>\n",
       "      <td>75.300000</td>\n",
       "      <td>158.700000</td>\n",
       "      <td>8.500000</td>\n",
       "      <td>184.000000</td>\n",
       "    </tr>\n",
       "    <tr>\n",
       "      <th>75%</th>\n",
       "      <td>18990.000000</td>\n",
       "      <td>16.510000</td>\n",
       "      <td>9.000000</td>\n",
       "      <td>8.000000</td>\n",
       "      <td>2.300000</td>\n",
       "      <td>128.000000</td>\n",
       "      <td>6.000000</td>\n",
       "      <td>4500.000000</td>\n",
       "      <td>75.800000</td>\n",
       "      <td>162.040000</td>\n",
       "      <td>8.890000</td>\n",
       "      <td>191.000000</td>\n",
       "    </tr>\n",
       "    <tr>\n",
       "      <th>max</th>\n",
       "      <td>60990.000000</td>\n",
       "      <td>17.020000</td>\n",
       "      <td>10.000000</td>\n",
       "      <td>8.000000</td>\n",
       "      <td>2.960000</td>\n",
       "      <td>512.000000</td>\n",
       "      <td>12.000000</td>\n",
       "      <td>6000.000000</td>\n",
       "      <td>159.000000</td>\n",
       "      <td>175.000000</td>\n",
       "      <td>92.000000</td>\n",
       "      <td>215.000000</td>\n",
       "    </tr>\n",
       "  </tbody>\n",
       "</table>\n",
       "</div>"
      ],
      "text/plain": [
       "       mobile_price   disp_size          os   num_cores    mp_speed  \\\n",
       "count    405.000000  405.000000  405.000000  405.000000  405.000000   \n",
       "mean   16689.629630   15.921975    8.762469    7.874074    2.122143   \n",
       "std     8730.981798    0.806525    0.946920    0.735550    0.351857   \n",
       "min     6000.000000   11.940000    5.100000    1.000000    1.300000   \n",
       "25%    10900.000000   15.720000    8.100000    8.000000    2.000000   \n",
       "50%    14990.000000   16.000000    9.000000    8.000000    2.000000   \n",
       "75%    18990.000000   16.510000    9.000000    8.000000    2.300000   \n",
       "max    60990.000000   17.020000   10.000000    8.000000    2.960000   \n",
       "\n",
       "       int_memory         ram  battery_power   mob_width  mob_height  \\\n",
       "count  405.000000  405.000000     405.000000  405.000000  405.000000   \n",
       "mean    88.671605    4.938272    4175.333333   74.090593  157.723802   \n",
       "std     65.985472    2.082136     603.463149   13.941616   12.882975   \n",
       "min      8.000000    1.000000    2000.000000    8.350000    7.380000   \n",
       "25%     32.000000    3.000000    4000.000000   74.800000  155.900000   \n",
       "50%     64.000000    4.000000    4030.000000   75.300000  158.700000   \n",
       "75%    128.000000    6.000000    4500.000000   75.800000  162.040000   \n",
       "max    512.000000   12.000000    6000.000000  159.000000  175.000000   \n",
       "\n",
       "        mob_depth  mob_weight  \n",
       "count  405.000000  405.000000  \n",
       "mean    11.050346  180.856049  \n",
       "std     13.626880   17.449679  \n",
       "min      7.300000  130.000000  \n",
       "25%      8.100000  168.000000  \n",
       "50%      8.500000  184.000000  \n",
       "75%      8.890000  191.000000  \n",
       "max     92.000000  215.000000  "
      ]
     },
     "execution_count": 379,
     "metadata": {},
     "output_type": "execute_result"
    }
   ],
   "source": [
    "df.describe()"
   ]
  },
  {
   "cell_type": "code",
   "execution_count": 386,
   "id": "dedd7f0d",
   "metadata": {},
   "outputs": [],
   "source": [
    "cat_features = list(df.describe(include='category').T.index)"
   ]
  },
  {
   "cell_type": "code",
   "execution_count": 387,
   "id": "aa5f0c72",
   "metadata": {},
   "outputs": [],
   "source": [
    "# lets check for outliers"
   ]
  },
  {
   "cell_type": "code",
   "execution_count": 409,
   "id": "19ed9bbe",
   "metadata": {},
   "outputs": [],
   "source": [
    "# From the describe table above it can be seen that the mob_depth column has min 7.3 and max 92 which seems odd, lets look into it.\n",
    "# similarly mob_width and mob_height"
   ]
  },
  {
   "cell_type": "code",
   "execution_count": 410,
   "id": "89d4ebb2",
   "metadata": {},
   "outputs": [
    {
     "data": {
      "text/plain": [
       "array([ 8.95 ,  9.   ,  8.9  ,  8.7  ,  8.5  ,  8.55 ,  9.65 ,  9.6  ,\n",
       "        9.4  ,  9.3  ,  8.6  ,  8.3  ,  8.8  ,  8.475,  8.1  ,  7.7  ,\n",
       "        8.26 ,  7.3  ,  8.96 ,  8.05 , 92.   , 75.3  ,  8.4  ,  8.35 ,\n",
       "        9.55 ,  8.47 ,  8.92 ,  8.13 ,  8.68 ,  8.28 ,  9.11 ,  8.85 ,\n",
       "        8.89 ,  8.54 ,  8.21 ,  9.8  ,  7.9  ,  7.98 ,  7.77 ,  7.89 ,\n",
       "        7.8  ,  7.5  , 75.   ,  7.6  ,  8.65 ,  7.95 ,  8.79 ,  9.1  ,\n",
       "        8.2  ,  9.5  ,  8.67 ,  7.4  ,  7.99 ,  7.38 , 76.   ])"
      ]
     },
     "execution_count": 410,
     "metadata": {},
     "output_type": "execute_result"
    }
   ],
   "source": [
    "df.mob_depth.unique()"
   ]
  },
  {
   "cell_type": "markdown",
   "id": "6871e4c3",
   "metadata": {},
   "source": [
    "As per [this source ↗](https://images.squarespace-cdn.com/content/v1/57302e3040261d2ef98c91c0/1566370953244-OHZG55B62NV35SQPO5S4/Screen+Shot+2019-08-03+at+3.16.39+PM.png?format=500w) depth is the thickness\n"
   ]
  },
  {
   "cell_type": "code",
   "execution_count": 418,
   "id": "b300c468",
   "metadata": {},
   "outputs": [
    {
     "data": {
      "text/html": [
       "<div>\n",
       "<style scoped>\n",
       "    .dataframe tbody tr th:only-of-type {\n",
       "        vertical-align: middle;\n",
       "    }\n",
       "\n",
       "    .dataframe tbody tr th {\n",
       "        vertical-align: top;\n",
       "    }\n",
       "\n",
       "    .dataframe thead th {\n",
       "        text-align: right;\n",
       "    }\n",
       "</style>\n",
       "<table border=\"1\" class=\"dataframe\">\n",
       "  <thead>\n",
       "    <tr style=\"text-align: right;\">\n",
       "      <th></th>\n",
       "      <th>mobile_price</th>\n",
       "      <th>mobile_color</th>\n",
       "      <th>disp_size</th>\n",
       "      <th>resolution</th>\n",
       "      <th>os</th>\n",
       "      <th>num_cores</th>\n",
       "      <th>mp_speed</th>\n",
       "      <th>int_memory</th>\n",
       "      <th>ram</th>\n",
       "      <th>p_cam</th>\n",
       "      <th>f_cam</th>\n",
       "      <th>network</th>\n",
       "      <th>battery_power</th>\n",
       "      <th>mob_width</th>\n",
       "      <th>mob_height</th>\n",
       "      <th>mob_depth</th>\n",
       "      <th>mob_weight</th>\n",
       "      <th>brand</th>\n",
       "    </tr>\n",
       "  </thead>\n",
       "  <tbody>\n",
       "    <tr>\n",
       "      <th>102</th>\n",
       "      <td>7399</td>\n",
       "      <td>0</td>\n",
       "      <td>15.80</td>\n",
       "      <td>3</td>\n",
       "      <td>9.0</td>\n",
       "      <td>8</td>\n",
       "      <td>2.0</td>\n",
       "      <td>32</td>\n",
       "      <td>2</td>\n",
       "      <td>10</td>\n",
       "      <td>13</td>\n",
       "      <td>3</td>\n",
       "      <td>5000</td>\n",
       "      <td>9.00</td>\n",
       "      <td>175.00</td>\n",
       "      <td>92.0</td>\n",
       "      <td>186.0</td>\n",
       "      <td>0</td>\n",
       "    </tr>\n",
       "    <tr>\n",
       "      <th>103</th>\n",
       "      <td>7499</td>\n",
       "      <td>7</td>\n",
       "      <td>15.80</td>\n",
       "      <td>3</td>\n",
       "      <td>9.0</td>\n",
       "      <td>8</td>\n",
       "      <td>2.0</td>\n",
       "      <td>32</td>\n",
       "      <td>3</td>\n",
       "      <td>10</td>\n",
       "      <td>13</td>\n",
       "      <td>3</td>\n",
       "      <td>5000</td>\n",
       "      <td>9.00</td>\n",
       "      <td>175.00</td>\n",
       "      <td>92.0</td>\n",
       "      <td>186.0</td>\n",
       "      <td>0</td>\n",
       "    </tr>\n",
       "    <tr>\n",
       "      <th>104</th>\n",
       "      <td>11199</td>\n",
       "      <td>3</td>\n",
       "      <td>16.00</td>\n",
       "      <td>9</td>\n",
       "      <td>9.0</td>\n",
       "      <td>8</td>\n",
       "      <td>2.0</td>\n",
       "      <td>64</td>\n",
       "      <td>4</td>\n",
       "      <td>33</td>\n",
       "      <td>1</td>\n",
       "      <td>3</td>\n",
       "      <td>4000</td>\n",
       "      <td>8.35</td>\n",
       "      <td>158.30</td>\n",
       "      <td>75.3</td>\n",
       "      <td>190.0</td>\n",
       "      <td>0</td>\n",
       "    </tr>\n",
       "    <tr>\n",
       "      <th>105</th>\n",
       "      <td>13261</td>\n",
       "      <td>0</td>\n",
       "      <td>16.00</td>\n",
       "      <td>9</td>\n",
       "      <td>9.0</td>\n",
       "      <td>8</td>\n",
       "      <td>2.0</td>\n",
       "      <td>128</td>\n",
       "      <td>6</td>\n",
       "      <td>33</td>\n",
       "      <td>1</td>\n",
       "      <td>3</td>\n",
       "      <td>4000</td>\n",
       "      <td>8.35</td>\n",
       "      <td>158.30</td>\n",
       "      <td>75.3</td>\n",
       "      <td>190.0</td>\n",
       "      <td>0</td>\n",
       "    </tr>\n",
       "    <tr>\n",
       "      <th>106</th>\n",
       "      <td>10978</td>\n",
       "      <td>0</td>\n",
       "      <td>16.00</td>\n",
       "      <td>9</td>\n",
       "      <td>9.0</td>\n",
       "      <td>8</td>\n",
       "      <td>2.0</td>\n",
       "      <td>32</td>\n",
       "      <td>3</td>\n",
       "      <td>33</td>\n",
       "      <td>1</td>\n",
       "      <td>3</td>\n",
       "      <td>4000</td>\n",
       "      <td>8.35</td>\n",
       "      <td>158.30</td>\n",
       "      <td>75.3</td>\n",
       "      <td>190.0</td>\n",
       "      <td>0</td>\n",
       "    </tr>\n",
       "    <tr>\n",
       "      <th>109</th>\n",
       "      <td>11280</td>\n",
       "      <td>0</td>\n",
       "      <td>16.00</td>\n",
       "      <td>9</td>\n",
       "      <td>9.0</td>\n",
       "      <td>8</td>\n",
       "      <td>2.0</td>\n",
       "      <td>64</td>\n",
       "      <td>4</td>\n",
       "      <td>33</td>\n",
       "      <td>1</td>\n",
       "      <td>3</td>\n",
       "      <td>4000</td>\n",
       "      <td>8.35</td>\n",
       "      <td>158.30</td>\n",
       "      <td>75.3</td>\n",
       "      <td>190.0</td>\n",
       "      <td>0</td>\n",
       "    </tr>\n",
       "    <tr>\n",
       "      <th>110</th>\n",
       "      <td>10100</td>\n",
       "      <td>1</td>\n",
       "      <td>16.00</td>\n",
       "      <td>9</td>\n",
       "      <td>9.0</td>\n",
       "      <td>8</td>\n",
       "      <td>2.0</td>\n",
       "      <td>64</td>\n",
       "      <td>4</td>\n",
       "      <td>33</td>\n",
       "      <td>1</td>\n",
       "      <td>3</td>\n",
       "      <td>4000</td>\n",
       "      <td>8.35</td>\n",
       "      <td>158.30</td>\n",
       "      <td>75.3</td>\n",
       "      <td>190.0</td>\n",
       "      <td>0</td>\n",
       "    </tr>\n",
       "    <tr>\n",
       "      <th>111</th>\n",
       "      <td>7450</td>\n",
       "      <td>3</td>\n",
       "      <td>15.80</td>\n",
       "      <td>3</td>\n",
       "      <td>9.0</td>\n",
       "      <td>8</td>\n",
       "      <td>2.0</td>\n",
       "      <td>32</td>\n",
       "      <td>3</td>\n",
       "      <td>10</td>\n",
       "      <td>13</td>\n",
       "      <td>3</td>\n",
       "      <td>5000</td>\n",
       "      <td>9.00</td>\n",
       "      <td>175.00</td>\n",
       "      <td>92.0</td>\n",
       "      <td>186.0</td>\n",
       "      <td>0</td>\n",
       "    </tr>\n",
       "    <tr>\n",
       "      <th>116</th>\n",
       "      <td>7499</td>\n",
       "      <td>0</td>\n",
       "      <td>15.80</td>\n",
       "      <td>3</td>\n",
       "      <td>9.0</td>\n",
       "      <td>8</td>\n",
       "      <td>2.0</td>\n",
       "      <td>32</td>\n",
       "      <td>3</td>\n",
       "      <td>10</td>\n",
       "      <td>13</td>\n",
       "      <td>3</td>\n",
       "      <td>5000</td>\n",
       "      <td>9.00</td>\n",
       "      <td>175.00</td>\n",
       "      <td>92.0</td>\n",
       "      <td>186.0</td>\n",
       "      <td>0</td>\n",
       "    </tr>\n",
       "    <tr>\n",
       "      <th>156</th>\n",
       "      <td>8499</td>\n",
       "      <td>3</td>\n",
       "      <td>15.80</td>\n",
       "      <td>3</td>\n",
       "      <td>9.0</td>\n",
       "      <td>8</td>\n",
       "      <td>2.0</td>\n",
       "      <td>32</td>\n",
       "      <td>2</td>\n",
       "      <td>10</td>\n",
       "      <td>13</td>\n",
       "      <td>3</td>\n",
       "      <td>5000</td>\n",
       "      <td>9.00</td>\n",
       "      <td>175.00</td>\n",
       "      <td>92.0</td>\n",
       "      <td>186.0</td>\n",
       "      <td>0</td>\n",
       "    </tr>\n",
       "    <tr>\n",
       "      <th>157</th>\n",
       "      <td>8498</td>\n",
       "      <td>7</td>\n",
       "      <td>15.80</td>\n",
       "      <td>3</td>\n",
       "      <td>9.0</td>\n",
       "      <td>8</td>\n",
       "      <td>2.0</td>\n",
       "      <td>32</td>\n",
       "      <td>2</td>\n",
       "      <td>10</td>\n",
       "      <td>13</td>\n",
       "      <td>3</td>\n",
       "      <td>5000</td>\n",
       "      <td>9.00</td>\n",
       "      <td>175.00</td>\n",
       "      <td>92.0</td>\n",
       "      <td>186.0</td>\n",
       "      <td>0</td>\n",
       "    </tr>\n",
       "    <tr>\n",
       "      <th>249</th>\n",
       "      <td>17490</td>\n",
       "      <td>0</td>\n",
       "      <td>16.26</td>\n",
       "      <td>11</td>\n",
       "      <td>9.0</td>\n",
       "      <td>8</td>\n",
       "      <td>2.3</td>\n",
       "      <td>128</td>\n",
       "      <td>4</td>\n",
       "      <td>33</td>\n",
       "      <td>3</td>\n",
       "      <td>3</td>\n",
       "      <td>6000</td>\n",
       "      <td>159.00</td>\n",
       "      <td>9.00</td>\n",
       "      <td>75.0</td>\n",
       "      <td>186.0</td>\n",
       "      <td>6</td>\n",
       "    </tr>\n",
       "    <tr>\n",
       "      <th>259</th>\n",
       "      <td>19900</td>\n",
       "      <td>0</td>\n",
       "      <td>16.26</td>\n",
       "      <td>11</td>\n",
       "      <td>10.0</td>\n",
       "      <td>8</td>\n",
       "      <td>2.3</td>\n",
       "      <td>128</td>\n",
       "      <td>6</td>\n",
       "      <td>46</td>\n",
       "      <td>10</td>\n",
       "      <td>3</td>\n",
       "      <td>6000</td>\n",
       "      <td>9.00</td>\n",
       "      <td>159.00</td>\n",
       "      <td>75.0</td>\n",
       "      <td>191.0</td>\n",
       "      <td>6</td>\n",
       "    </tr>\n",
       "    <tr>\n",
       "      <th>395</th>\n",
       "      <td>11990</td>\n",
       "      <td>7</td>\n",
       "      <td>13.97</td>\n",
       "      <td>0</td>\n",
       "      <td>5.1</td>\n",
       "      <td>1</td>\n",
       "      <td>1.5</td>\n",
       "      <td>32</td>\n",
       "      <td>3</td>\n",
       "      <td>15</td>\n",
       "      <td>3</td>\n",
       "      <td>3</td>\n",
       "      <td>3075</td>\n",
       "      <td>154.50</td>\n",
       "      <td>7.38</td>\n",
       "      <td>76.0</td>\n",
       "      <td>160.0</td>\n",
       "      <td>2</td>\n",
       "    </tr>\n",
       "  </tbody>\n",
       "</table>\n",
       "</div>"
      ],
      "text/plain": [
       "     mobile_price mobile_color  disp_size resolution    os  num_cores  \\\n",
       "102          7399            0      15.80          3   9.0          8   \n",
       "103          7499            7      15.80          3   9.0          8   \n",
       "104         11199            3      16.00          9   9.0          8   \n",
       "105         13261            0      16.00          9   9.0          8   \n",
       "106         10978            0      16.00          9   9.0          8   \n",
       "109         11280            0      16.00          9   9.0          8   \n",
       "110         10100            1      16.00          9   9.0          8   \n",
       "111          7450            3      15.80          3   9.0          8   \n",
       "116          7499            0      15.80          3   9.0          8   \n",
       "156          8499            3      15.80          3   9.0          8   \n",
       "157          8498            7      15.80          3   9.0          8   \n",
       "249         17490            0      16.26         11   9.0          8   \n",
       "259         19900            0      16.26         11  10.0          8   \n",
       "395         11990            7      13.97          0   5.1          1   \n",
       "\n",
       "     mp_speed  int_memory  ram p_cam f_cam network  battery_power  mob_width  \\\n",
       "102       2.0          32    2    10    13       3           5000       9.00   \n",
       "103       2.0          32    3    10    13       3           5000       9.00   \n",
       "104       2.0          64    4    33     1       3           4000       8.35   \n",
       "105       2.0         128    6    33     1       3           4000       8.35   \n",
       "106       2.0          32    3    33     1       3           4000       8.35   \n",
       "109       2.0          64    4    33     1       3           4000       8.35   \n",
       "110       2.0          64    4    33     1       3           4000       8.35   \n",
       "111       2.0          32    3    10    13       3           5000       9.00   \n",
       "116       2.0          32    3    10    13       3           5000       9.00   \n",
       "156       2.0          32    2    10    13       3           5000       9.00   \n",
       "157       2.0          32    2    10    13       3           5000       9.00   \n",
       "249       2.3         128    4    33     3       3           6000     159.00   \n",
       "259       2.3         128    6    46    10       3           6000       9.00   \n",
       "395       1.5          32    3    15     3       3           3075     154.50   \n",
       "\n",
       "     mob_height  mob_depth  mob_weight brand  \n",
       "102      175.00       92.0       186.0     0  \n",
       "103      175.00       92.0       186.0     0  \n",
       "104      158.30       75.3       190.0     0  \n",
       "105      158.30       75.3       190.0     0  \n",
       "106      158.30       75.3       190.0     0  \n",
       "109      158.30       75.3       190.0     0  \n",
       "110      158.30       75.3       190.0     0  \n",
       "111      175.00       92.0       186.0     0  \n",
       "116      175.00       92.0       186.0     0  \n",
       "156      175.00       92.0       186.0     0  \n",
       "157      175.00       92.0       186.0     0  \n",
       "249        9.00       75.0       186.0     6  \n",
       "259      159.00       75.0       191.0     6  \n",
       "395        7.38       76.0       160.0     2  "
      ]
     },
     "execution_count": 418,
     "metadata": {},
     "output_type": "execute_result"
    }
   ],
   "source": [
    "df[df['mob_depth']>10]"
   ]
  },
  {
   "cell_type": "code",
   "execution_count": 413,
   "id": "84e93f82",
   "metadata": {},
   "outputs": [],
   "source": [
    "# it seems a decimal point is misplaced, correcting it by dividing it by 10"
   ]
  },
  {
   "cell_type": "code",
   "execution_count": 414,
   "id": "a38a142e",
   "metadata": {},
   "outputs": [],
   "source": [
    "temp_index = list(df[df['mob_depth']>10].index)"
   ]
  },
  {
   "cell_type": "code",
   "execution_count": 429,
   "id": "655a4d35",
   "metadata": {},
   "outputs": [],
   "source": [
    "df.loc[temp_index,['mob_depth']] = df[df['mob_depth']>10]['mob_depth']/10"
   ]
  },
  {
   "cell_type": "code",
   "execution_count": 441,
   "id": "51b159cc",
   "metadata": {},
   "outputs": [
    {
     "data": {
      "text/html": [
       "<div>\n",
       "<style scoped>\n",
       "    .dataframe tbody tr th:only-of-type {\n",
       "        vertical-align: middle;\n",
       "    }\n",
       "\n",
       "    .dataframe tbody tr th {\n",
       "        vertical-align: top;\n",
       "    }\n",
       "\n",
       "    .dataframe thead th {\n",
       "        text-align: right;\n",
       "    }\n",
       "</style>\n",
       "<table border=\"1\" class=\"dataframe\">\n",
       "  <thead>\n",
       "    <tr style=\"text-align: right;\">\n",
       "      <th></th>\n",
       "      <th>mobile_price</th>\n",
       "      <th>mobile_color</th>\n",
       "      <th>disp_size</th>\n",
       "      <th>resolution</th>\n",
       "      <th>os</th>\n",
       "      <th>num_cores</th>\n",
       "      <th>mp_speed</th>\n",
       "      <th>int_memory</th>\n",
       "      <th>ram</th>\n",
       "      <th>p_cam</th>\n",
       "      <th>f_cam</th>\n",
       "      <th>network</th>\n",
       "      <th>battery_power</th>\n",
       "      <th>mob_width</th>\n",
       "      <th>mob_height</th>\n",
       "      <th>mob_depth</th>\n",
       "      <th>mob_weight</th>\n",
       "      <th>brand</th>\n",
       "    </tr>\n",
       "  </thead>\n",
       "  <tbody>\n",
       "    <tr>\n",
       "      <th>102</th>\n",
       "      <td>7399</td>\n",
       "      <td>0</td>\n",
       "      <td>15.80</td>\n",
       "      <td>3</td>\n",
       "      <td>9.0</td>\n",
       "      <td>8</td>\n",
       "      <td>2.0</td>\n",
       "      <td>32</td>\n",
       "      <td>2</td>\n",
       "      <td>10</td>\n",
       "      <td>13</td>\n",
       "      <td>3</td>\n",
       "      <td>5000</td>\n",
       "      <td>9.00</td>\n",
       "      <td>175.0</td>\n",
       "      <td>9.20</td>\n",
       "      <td>186.0</td>\n",
       "      <td>0</td>\n",
       "    </tr>\n",
       "    <tr>\n",
       "      <th>103</th>\n",
       "      <td>7499</td>\n",
       "      <td>7</td>\n",
       "      <td>15.80</td>\n",
       "      <td>3</td>\n",
       "      <td>9.0</td>\n",
       "      <td>8</td>\n",
       "      <td>2.0</td>\n",
       "      <td>32</td>\n",
       "      <td>3</td>\n",
       "      <td>10</td>\n",
       "      <td>13</td>\n",
       "      <td>3</td>\n",
       "      <td>5000</td>\n",
       "      <td>9.00</td>\n",
       "      <td>175.0</td>\n",
       "      <td>9.20</td>\n",
       "      <td>186.0</td>\n",
       "      <td>0</td>\n",
       "    </tr>\n",
       "    <tr>\n",
       "      <th>104</th>\n",
       "      <td>11199</td>\n",
       "      <td>3</td>\n",
       "      <td>16.00</td>\n",
       "      <td>9</td>\n",
       "      <td>9.0</td>\n",
       "      <td>8</td>\n",
       "      <td>2.0</td>\n",
       "      <td>64</td>\n",
       "      <td>4</td>\n",
       "      <td>33</td>\n",
       "      <td>1</td>\n",
       "      <td>3</td>\n",
       "      <td>4000</td>\n",
       "      <td>8.35</td>\n",
       "      <td>158.3</td>\n",
       "      <td>7.53</td>\n",
       "      <td>190.0</td>\n",
       "      <td>0</td>\n",
       "    </tr>\n",
       "    <tr>\n",
       "      <th>105</th>\n",
       "      <td>13261</td>\n",
       "      <td>0</td>\n",
       "      <td>16.00</td>\n",
       "      <td>9</td>\n",
       "      <td>9.0</td>\n",
       "      <td>8</td>\n",
       "      <td>2.0</td>\n",
       "      <td>128</td>\n",
       "      <td>6</td>\n",
       "      <td>33</td>\n",
       "      <td>1</td>\n",
       "      <td>3</td>\n",
       "      <td>4000</td>\n",
       "      <td>8.35</td>\n",
       "      <td>158.3</td>\n",
       "      <td>7.53</td>\n",
       "      <td>190.0</td>\n",
       "      <td>0</td>\n",
       "    </tr>\n",
       "    <tr>\n",
       "      <th>106</th>\n",
       "      <td>10978</td>\n",
       "      <td>0</td>\n",
       "      <td>16.00</td>\n",
       "      <td>9</td>\n",
       "      <td>9.0</td>\n",
       "      <td>8</td>\n",
       "      <td>2.0</td>\n",
       "      <td>32</td>\n",
       "      <td>3</td>\n",
       "      <td>33</td>\n",
       "      <td>1</td>\n",
       "      <td>3</td>\n",
       "      <td>4000</td>\n",
       "      <td>8.35</td>\n",
       "      <td>158.3</td>\n",
       "      <td>7.53</td>\n",
       "      <td>190.0</td>\n",
       "      <td>0</td>\n",
       "    </tr>\n",
       "    <tr>\n",
       "      <th>109</th>\n",
       "      <td>11280</td>\n",
       "      <td>0</td>\n",
       "      <td>16.00</td>\n",
       "      <td>9</td>\n",
       "      <td>9.0</td>\n",
       "      <td>8</td>\n",
       "      <td>2.0</td>\n",
       "      <td>64</td>\n",
       "      <td>4</td>\n",
       "      <td>33</td>\n",
       "      <td>1</td>\n",
       "      <td>3</td>\n",
       "      <td>4000</td>\n",
       "      <td>8.35</td>\n",
       "      <td>158.3</td>\n",
       "      <td>7.53</td>\n",
       "      <td>190.0</td>\n",
       "      <td>0</td>\n",
       "    </tr>\n",
       "    <tr>\n",
       "      <th>110</th>\n",
       "      <td>10100</td>\n",
       "      <td>1</td>\n",
       "      <td>16.00</td>\n",
       "      <td>9</td>\n",
       "      <td>9.0</td>\n",
       "      <td>8</td>\n",
       "      <td>2.0</td>\n",
       "      <td>64</td>\n",
       "      <td>4</td>\n",
       "      <td>33</td>\n",
       "      <td>1</td>\n",
       "      <td>3</td>\n",
       "      <td>4000</td>\n",
       "      <td>8.35</td>\n",
       "      <td>158.3</td>\n",
       "      <td>7.53</td>\n",
       "      <td>190.0</td>\n",
       "      <td>0</td>\n",
       "    </tr>\n",
       "    <tr>\n",
       "      <th>111</th>\n",
       "      <td>7450</td>\n",
       "      <td>3</td>\n",
       "      <td>15.80</td>\n",
       "      <td>3</td>\n",
       "      <td>9.0</td>\n",
       "      <td>8</td>\n",
       "      <td>2.0</td>\n",
       "      <td>32</td>\n",
       "      <td>3</td>\n",
       "      <td>10</td>\n",
       "      <td>13</td>\n",
       "      <td>3</td>\n",
       "      <td>5000</td>\n",
       "      <td>9.00</td>\n",
       "      <td>175.0</td>\n",
       "      <td>9.20</td>\n",
       "      <td>186.0</td>\n",
       "      <td>0</td>\n",
       "    </tr>\n",
       "    <tr>\n",
       "      <th>116</th>\n",
       "      <td>7499</td>\n",
       "      <td>0</td>\n",
       "      <td>15.80</td>\n",
       "      <td>3</td>\n",
       "      <td>9.0</td>\n",
       "      <td>8</td>\n",
       "      <td>2.0</td>\n",
       "      <td>32</td>\n",
       "      <td>3</td>\n",
       "      <td>10</td>\n",
       "      <td>13</td>\n",
       "      <td>3</td>\n",
       "      <td>5000</td>\n",
       "      <td>9.00</td>\n",
       "      <td>175.0</td>\n",
       "      <td>9.20</td>\n",
       "      <td>186.0</td>\n",
       "      <td>0</td>\n",
       "    </tr>\n",
       "    <tr>\n",
       "      <th>156</th>\n",
       "      <td>8499</td>\n",
       "      <td>3</td>\n",
       "      <td>15.80</td>\n",
       "      <td>3</td>\n",
       "      <td>9.0</td>\n",
       "      <td>8</td>\n",
       "      <td>2.0</td>\n",
       "      <td>32</td>\n",
       "      <td>2</td>\n",
       "      <td>10</td>\n",
       "      <td>13</td>\n",
       "      <td>3</td>\n",
       "      <td>5000</td>\n",
       "      <td>9.00</td>\n",
       "      <td>175.0</td>\n",
       "      <td>9.20</td>\n",
       "      <td>186.0</td>\n",
       "      <td>0</td>\n",
       "    </tr>\n",
       "    <tr>\n",
       "      <th>157</th>\n",
       "      <td>8498</td>\n",
       "      <td>7</td>\n",
       "      <td>15.80</td>\n",
       "      <td>3</td>\n",
       "      <td>9.0</td>\n",
       "      <td>8</td>\n",
       "      <td>2.0</td>\n",
       "      <td>32</td>\n",
       "      <td>2</td>\n",
       "      <td>10</td>\n",
       "      <td>13</td>\n",
       "      <td>3</td>\n",
       "      <td>5000</td>\n",
       "      <td>9.00</td>\n",
       "      <td>175.0</td>\n",
       "      <td>9.20</td>\n",
       "      <td>186.0</td>\n",
       "      <td>0</td>\n",
       "    </tr>\n",
       "    <tr>\n",
       "      <th>259</th>\n",
       "      <td>19900</td>\n",
       "      <td>0</td>\n",
       "      <td>16.26</td>\n",
       "      <td>11</td>\n",
       "      <td>10.0</td>\n",
       "      <td>8</td>\n",
       "      <td>2.3</td>\n",
       "      <td>128</td>\n",
       "      <td>6</td>\n",
       "      <td>46</td>\n",
       "      <td>10</td>\n",
       "      <td>3</td>\n",
       "      <td>6000</td>\n",
       "      <td>9.00</td>\n",
       "      <td>159.0</td>\n",
       "      <td>7.50</td>\n",
       "      <td>191.0</td>\n",
       "      <td>6</td>\n",
       "    </tr>\n",
       "    <tr>\n",
       "      <th>262</th>\n",
       "      <td>6000</td>\n",
       "      <td>4</td>\n",
       "      <td>11.94</td>\n",
       "      <td>13</td>\n",
       "      <td>5.4</td>\n",
       "      <td>4</td>\n",
       "      <td>1.3</td>\n",
       "      <td>8</td>\n",
       "      <td>1</td>\n",
       "      <td>40</td>\n",
       "      <td>8</td>\n",
       "      <td>2</td>\n",
       "      <td>2000</td>\n",
       "      <td>69.00</td>\n",
       "      <td>136.5</td>\n",
       "      <td>8.40</td>\n",
       "      <td>130.0</td>\n",
       "      <td>6</td>\n",
       "    </tr>\n",
       "  </tbody>\n",
       "</table>\n",
       "</div>"
      ],
      "text/plain": [
       "     mobile_price mobile_color  disp_size resolution    os  num_cores  \\\n",
       "102          7399            0      15.80          3   9.0          8   \n",
       "103          7499            7      15.80          3   9.0          8   \n",
       "104         11199            3      16.00          9   9.0          8   \n",
       "105         13261            0      16.00          9   9.0          8   \n",
       "106         10978            0      16.00          9   9.0          8   \n",
       "109         11280            0      16.00          9   9.0          8   \n",
       "110         10100            1      16.00          9   9.0          8   \n",
       "111          7450            3      15.80          3   9.0          8   \n",
       "116          7499            0      15.80          3   9.0          8   \n",
       "156          8499            3      15.80          3   9.0          8   \n",
       "157          8498            7      15.80          3   9.0          8   \n",
       "259         19900            0      16.26         11  10.0          8   \n",
       "262          6000            4      11.94         13   5.4          4   \n",
       "\n",
       "     mp_speed  int_memory  ram p_cam f_cam network  battery_power  mob_width  \\\n",
       "102       2.0          32    2    10    13       3           5000       9.00   \n",
       "103       2.0          32    3    10    13       3           5000       9.00   \n",
       "104       2.0          64    4    33     1       3           4000       8.35   \n",
       "105       2.0         128    6    33     1       3           4000       8.35   \n",
       "106       2.0          32    3    33     1       3           4000       8.35   \n",
       "109       2.0          64    4    33     1       3           4000       8.35   \n",
       "110       2.0          64    4    33     1       3           4000       8.35   \n",
       "111       2.0          32    3    10    13       3           5000       9.00   \n",
       "116       2.0          32    3    10    13       3           5000       9.00   \n",
       "156       2.0          32    2    10    13       3           5000       9.00   \n",
       "157       2.0          32    2    10    13       3           5000       9.00   \n",
       "259       2.3         128    6    46    10       3           6000       9.00   \n",
       "262       1.3           8    1    40     8       2           2000      69.00   \n",
       "\n",
       "     mob_height  mob_depth  mob_weight brand  \n",
       "102       175.0       9.20       186.0     0  \n",
       "103       175.0       9.20       186.0     0  \n",
       "104       158.3       7.53       190.0     0  \n",
       "105       158.3       7.53       190.0     0  \n",
       "106       158.3       7.53       190.0     0  \n",
       "109       158.3       7.53       190.0     0  \n",
       "110       158.3       7.53       190.0     0  \n",
       "111       175.0       9.20       186.0     0  \n",
       "116       175.0       9.20       186.0     0  \n",
       "156       175.0       9.20       186.0     0  \n",
       "157       175.0       9.20       186.0     0  \n",
       "259       159.0       7.50       191.0     6  \n",
       "262       136.5       8.40       130.0     6  "
      ]
     },
     "execution_count": 441,
     "metadata": {},
     "output_type": "execute_result"
    }
   ],
   "source": [
    "df[df['mob_width']<70]"
   ]
  },
  {
   "cell_type": "code",
   "execution_count": 442,
   "id": "0691a201",
   "metadata": {},
   "outputs": [],
   "source": [
    "# it seems the mob_width below 69 are having transcription error to correct it multiplying them by 10"
   ]
  },
  {
   "cell_type": "code",
   "execution_count": 443,
   "id": "df17ea0a",
   "metadata": {},
   "outputs": [],
   "source": [
    "temp_index = list(df[df['mob_width']<69].index)"
   ]
  },
  {
   "cell_type": "code",
   "execution_count": 444,
   "id": "f8a9dc38",
   "metadata": {},
   "outputs": [],
   "source": [
    "df.loc[temp_index,['mob_width']] = df[df['mob_width']<69]['mob_width']*10"
   ]
  },
  {
   "cell_type": "code",
   "execution_count": 445,
   "id": "08acee08",
   "metadata": {},
   "outputs": [],
   "source": [
    "# Similarly for mob_height"
   ]
  },
  {
   "cell_type": "code",
   "execution_count": 451,
   "id": "a8136578",
   "metadata": {},
   "outputs": [
    {
     "data": {
      "text/html": [
       "<div>\n",
       "<style scoped>\n",
       "    .dataframe tbody tr th:only-of-type {\n",
       "        vertical-align: middle;\n",
       "    }\n",
       "\n",
       "    .dataframe tbody tr th {\n",
       "        vertical-align: top;\n",
       "    }\n",
       "\n",
       "    .dataframe thead th {\n",
       "        text-align: right;\n",
       "    }\n",
       "</style>\n",
       "<table border=\"1\" class=\"dataframe\">\n",
       "  <thead>\n",
       "    <tr style=\"text-align: right;\">\n",
       "      <th></th>\n",
       "      <th>mobile_price</th>\n",
       "      <th>mobile_color</th>\n",
       "      <th>disp_size</th>\n",
       "      <th>resolution</th>\n",
       "      <th>os</th>\n",
       "      <th>num_cores</th>\n",
       "      <th>mp_speed</th>\n",
       "      <th>int_memory</th>\n",
       "      <th>ram</th>\n",
       "      <th>p_cam</th>\n",
       "      <th>f_cam</th>\n",
       "      <th>network</th>\n",
       "      <th>battery_power</th>\n",
       "      <th>mob_width</th>\n",
       "      <th>mob_height</th>\n",
       "      <th>mob_depth</th>\n",
       "      <th>mob_weight</th>\n",
       "      <th>brand</th>\n",
       "    </tr>\n",
       "  </thead>\n",
       "  <tbody>\n",
       "    <tr>\n",
       "      <th>249</th>\n",
       "      <td>17490</td>\n",
       "      <td>0</td>\n",
       "      <td>16.26</td>\n",
       "      <td>11</td>\n",
       "      <td>9.0</td>\n",
       "      <td>8</td>\n",
       "      <td>2.3</td>\n",
       "      <td>128</td>\n",
       "      <td>4</td>\n",
       "      <td>33</td>\n",
       "      <td>3</td>\n",
       "      <td>3</td>\n",
       "      <td>6000</td>\n",
       "      <td>159.0</td>\n",
       "      <td>9.00</td>\n",
       "      <td>7.5</td>\n",
       "      <td>186.0</td>\n",
       "      <td>6</td>\n",
       "    </tr>\n",
       "    <tr>\n",
       "      <th>264</th>\n",
       "      <td>11995</td>\n",
       "      <td>1</td>\n",
       "      <td>13.97</td>\n",
       "      <td>0</td>\n",
       "      <td>7.0</td>\n",
       "      <td>8</td>\n",
       "      <td>1.6</td>\n",
       "      <td>16</td>\n",
       "      <td>2</td>\n",
       "      <td>15</td>\n",
       "      <td>12</td>\n",
       "      <td>2</td>\n",
       "      <td>3000</td>\n",
       "      <td>152.4</td>\n",
       "      <td>78.60</td>\n",
       "      <td>7.6</td>\n",
       "      <td>170.0</td>\n",
       "      <td>6</td>\n",
       "    </tr>\n",
       "    <tr>\n",
       "      <th>265</th>\n",
       "      <td>10995</td>\n",
       "      <td>4</td>\n",
       "      <td>13.97</td>\n",
       "      <td>0</td>\n",
       "      <td>7.0</td>\n",
       "      <td>8</td>\n",
       "      <td>1.6</td>\n",
       "      <td>16</td>\n",
       "      <td>2</td>\n",
       "      <td>15</td>\n",
       "      <td>12</td>\n",
       "      <td>2</td>\n",
       "      <td>3000</td>\n",
       "      <td>152.4</td>\n",
       "      <td>78.60</td>\n",
       "      <td>7.6</td>\n",
       "      <td>170.0</td>\n",
       "      <td>6</td>\n",
       "    </tr>\n",
       "    <tr>\n",
       "      <th>395</th>\n",
       "      <td>11990</td>\n",
       "      <td>7</td>\n",
       "      <td>13.97</td>\n",
       "      <td>0</td>\n",
       "      <td>5.1</td>\n",
       "      <td>1</td>\n",
       "      <td>1.5</td>\n",
       "      <td>32</td>\n",
       "      <td>3</td>\n",
       "      <td>15</td>\n",
       "      <td>3</td>\n",
       "      <td>3</td>\n",
       "      <td>3075</td>\n",
       "      <td>154.5</td>\n",
       "      <td>7.38</td>\n",
       "      <td>7.6</td>\n",
       "      <td>160.0</td>\n",
       "      <td>2</td>\n",
       "    </tr>\n",
       "  </tbody>\n",
       "</table>\n",
       "</div>"
      ],
      "text/plain": [
       "     mobile_price mobile_color  disp_size resolution   os  num_cores  \\\n",
       "249         17490            0      16.26         11  9.0          8   \n",
       "264         11995            1      13.97          0  7.0          8   \n",
       "265         10995            4      13.97          0  7.0          8   \n",
       "395         11990            7      13.97          0  5.1          1   \n",
       "\n",
       "     mp_speed  int_memory  ram p_cam f_cam network  battery_power  mob_width  \\\n",
       "249       2.3         128    4    33     3       3           6000      159.0   \n",
       "264       1.6          16    2    15    12       2           3000      152.4   \n",
       "265       1.6          16    2    15    12       2           3000      152.4   \n",
       "395       1.5          32    3    15     3       3           3075      154.5   \n",
       "\n",
       "     mob_height  mob_depth  mob_weight brand  \n",
       "249        9.00        7.5       186.0     6  \n",
       "264       78.60        7.6       170.0     6  \n",
       "265       78.60        7.6       170.0     6  \n",
       "395        7.38        7.6       160.0     2  "
      ]
     },
     "execution_count": 451,
     "metadata": {},
     "output_type": "execute_result"
    }
   ],
   "source": [
    "df[df['mob_height']<100]"
   ]
  },
  {
   "cell_type": "code",
   "execution_count": 452,
   "id": "56f81d81",
   "metadata": {},
   "outputs": [],
   "source": [
    "# just two with indexes 249 and 395 needs to be multiplied by 10"
   ]
  },
  {
   "cell_type": "code",
   "execution_count": 457,
   "id": "55f8d0d3",
   "metadata": {},
   "outputs": [],
   "source": [
    "df.loc[[249,395],['mob_height']] = df.iloc[[249,395]]['mob_height']*10"
   ]
  },
  {
   "cell_type": "code",
   "execution_count": 458,
   "id": "8dc01b03",
   "metadata": {},
   "outputs": [
    {
     "data": {
      "text/html": [
       "<div>\n",
       "<style scoped>\n",
       "    .dataframe tbody tr th:only-of-type {\n",
       "        vertical-align: middle;\n",
       "    }\n",
       "\n",
       "    .dataframe tbody tr th {\n",
       "        vertical-align: top;\n",
       "    }\n",
       "\n",
       "    .dataframe thead th {\n",
       "        text-align: right;\n",
       "    }\n",
       "</style>\n",
       "<table border=\"1\" class=\"dataframe\">\n",
       "  <thead>\n",
       "    <tr style=\"text-align: right;\">\n",
       "      <th></th>\n",
       "      <th>mobile_price</th>\n",
       "      <th>disp_size</th>\n",
       "      <th>os</th>\n",
       "      <th>num_cores</th>\n",
       "      <th>mp_speed</th>\n",
       "      <th>int_memory</th>\n",
       "      <th>ram</th>\n",
       "      <th>battery_power</th>\n",
       "      <th>mob_width</th>\n",
       "      <th>mob_height</th>\n",
       "      <th>mob_depth</th>\n",
       "      <th>mob_weight</th>\n",
       "    </tr>\n",
       "  </thead>\n",
       "  <tbody>\n",
       "    <tr>\n",
       "      <th>count</th>\n",
       "      <td>405.000000</td>\n",
       "      <td>405.000000</td>\n",
       "      <td>405.000000</td>\n",
       "      <td>405.000000</td>\n",
       "      <td>405.000000</td>\n",
       "      <td>405.000000</td>\n",
       "      <td>405.000000</td>\n",
       "      <td>405.000000</td>\n",
       "      <td>405.000000</td>\n",
       "      <td>405.000000</td>\n",
       "      <td>405.000000</td>\n",
       "      <td>405.000000</td>\n",
       "    </tr>\n",
       "    <tr>\n",
       "      <th>mean</th>\n",
       "      <td>16689.629630</td>\n",
       "      <td>15.921975</td>\n",
       "      <td>8.762469</td>\n",
       "      <td>7.874074</td>\n",
       "      <td>2.122143</td>\n",
       "      <td>88.671605</td>\n",
       "      <td>4.938272</td>\n",
       "      <td>4175.333333</td>\n",
       "      <td>76.418370</td>\n",
       "      <td>158.087802</td>\n",
       "      <td>8.484790</td>\n",
       "      <td>180.856049</td>\n",
       "    </tr>\n",
       "    <tr>\n",
       "      <th>std</th>\n",
       "      <td>8730.981798</td>\n",
       "      <td>0.806525</td>\n",
       "      <td>0.946920</td>\n",
       "      <td>0.735550</td>\n",
       "      <td>0.351857</td>\n",
       "      <td>65.985472</td>\n",
       "      <td>2.082136</td>\n",
       "      <td>603.463149</td>\n",
       "      <td>8.217081</td>\n",
       "      <td>9.161144</td>\n",
       "      <td>0.541926</td>\n",
       "      <td>17.449679</td>\n",
       "    </tr>\n",
       "    <tr>\n",
       "      <th>min</th>\n",
       "      <td>6000.000000</td>\n",
       "      <td>11.940000</td>\n",
       "      <td>5.100000</td>\n",
       "      <td>1.000000</td>\n",
       "      <td>1.300000</td>\n",
       "      <td>8.000000</td>\n",
       "      <td>1.000000</td>\n",
       "      <td>2000.000000</td>\n",
       "      <td>69.000000</td>\n",
       "      <td>73.800000</td>\n",
       "      <td>7.300000</td>\n",
       "      <td>130.000000</td>\n",
       "    </tr>\n",
       "    <tr>\n",
       "      <th>25%</th>\n",
       "      <td>10900.000000</td>\n",
       "      <td>15.720000</td>\n",
       "      <td>8.100000</td>\n",
       "      <td>8.000000</td>\n",
       "      <td>2.000000</td>\n",
       "      <td>32.000000</td>\n",
       "      <td>3.000000</td>\n",
       "      <td>4000.000000</td>\n",
       "      <td>75.000000</td>\n",
       "      <td>155.900000</td>\n",
       "      <td>8.100000</td>\n",
       "      <td>168.000000</td>\n",
       "    </tr>\n",
       "    <tr>\n",
       "      <th>50%</th>\n",
       "      <td>14990.000000</td>\n",
       "      <td>16.000000</td>\n",
       "      <td>9.000000</td>\n",
       "      <td>8.000000</td>\n",
       "      <td>2.000000</td>\n",
       "      <td>64.000000</td>\n",
       "      <td>4.000000</td>\n",
       "      <td>4030.000000</td>\n",
       "      <td>75.400000</td>\n",
       "      <td>158.700000</td>\n",
       "      <td>8.500000</td>\n",
       "      <td>184.000000</td>\n",
       "    </tr>\n",
       "    <tr>\n",
       "      <th>75%</th>\n",
       "      <td>18990.000000</td>\n",
       "      <td>16.510000</td>\n",
       "      <td>9.000000</td>\n",
       "      <td>8.000000</td>\n",
       "      <td>2.300000</td>\n",
       "      <td>128.000000</td>\n",
       "      <td>6.000000</td>\n",
       "      <td>4500.000000</td>\n",
       "      <td>76.000000</td>\n",
       "      <td>162.040000</td>\n",
       "      <td>8.800000</td>\n",
       "      <td>191.000000</td>\n",
       "    </tr>\n",
       "    <tr>\n",
       "      <th>max</th>\n",
       "      <td>60990.000000</td>\n",
       "      <td>17.020000</td>\n",
       "      <td>10.000000</td>\n",
       "      <td>8.000000</td>\n",
       "      <td>2.960000</td>\n",
       "      <td>512.000000</td>\n",
       "      <td>12.000000</td>\n",
       "      <td>6000.000000</td>\n",
       "      <td>159.000000</td>\n",
       "      <td>175.000000</td>\n",
       "      <td>9.800000</td>\n",
       "      <td>215.000000</td>\n",
       "    </tr>\n",
       "  </tbody>\n",
       "</table>\n",
       "</div>"
      ],
      "text/plain": [
       "       mobile_price   disp_size          os   num_cores    mp_speed  \\\n",
       "count    405.000000  405.000000  405.000000  405.000000  405.000000   \n",
       "mean   16689.629630   15.921975    8.762469    7.874074    2.122143   \n",
       "std     8730.981798    0.806525    0.946920    0.735550    0.351857   \n",
       "min     6000.000000   11.940000    5.100000    1.000000    1.300000   \n",
       "25%    10900.000000   15.720000    8.100000    8.000000    2.000000   \n",
       "50%    14990.000000   16.000000    9.000000    8.000000    2.000000   \n",
       "75%    18990.000000   16.510000    9.000000    8.000000    2.300000   \n",
       "max    60990.000000   17.020000   10.000000    8.000000    2.960000   \n",
       "\n",
       "       int_memory         ram  battery_power   mob_width  mob_height  \\\n",
       "count  405.000000  405.000000     405.000000  405.000000  405.000000   \n",
       "mean    88.671605    4.938272    4175.333333   76.418370  158.087802   \n",
       "std     65.985472    2.082136     603.463149    8.217081    9.161144   \n",
       "min      8.000000    1.000000    2000.000000   69.000000   73.800000   \n",
       "25%     32.000000    3.000000    4000.000000   75.000000  155.900000   \n",
       "50%     64.000000    4.000000    4030.000000   75.400000  158.700000   \n",
       "75%    128.000000    6.000000    4500.000000   76.000000  162.040000   \n",
       "max    512.000000   12.000000    6000.000000  159.000000  175.000000   \n",
       "\n",
       "        mob_depth  mob_weight  \n",
       "count  405.000000  405.000000  \n",
       "mean     8.484790  180.856049  \n",
       "std      0.541926   17.449679  \n",
       "min      7.300000  130.000000  \n",
       "25%      8.100000  168.000000  \n",
       "50%      8.500000  184.000000  \n",
       "75%      8.800000  191.000000  \n",
       "max      9.800000  215.000000  "
      ]
     },
     "execution_count": 458,
     "metadata": {},
     "output_type": "execute_result"
    }
   ],
   "source": [
    "df.describe()"
   ]
  },
  {
   "cell_type": "code",
   "execution_count": 459,
   "id": "3781c90d",
   "metadata": {},
   "outputs": [],
   "source": [
    "# Saving this cleaned df as csv\n",
    "df.to_csv('cleaned(numerical).csv')"
   ]
  },
  {
   "cell_type": "code",
   "execution_count": 463,
   "id": "904cc881",
   "metadata": {},
   "outputs": [],
   "source": [
    "df_cleaned = df.copy()"
   ]
  },
  {
   "cell_type": "markdown",
   "id": "9331c362",
   "metadata": {},
   "source": [
    "## Modelling"
   ]
  },
  {
   "cell_type": "markdown",
   "id": "15b69b18",
   "metadata": {},
   "source": [
    "- With Numerical features using Linear Regression"
   ]
  },
  {
   "cell_type": "code",
   "execution_count": 480,
   "id": "c2327476",
   "metadata": {},
   "outputs": [],
   "source": [
    "num_features = list(df._get_numeric_data().columns)"
   ]
  },
  {
   "cell_type": "code",
   "execution_count": 481,
   "id": "26f01ea8",
   "metadata": {},
   "outputs": [],
   "source": [
    "num_features.remove('mobile_price')"
   ]
  },
  {
   "cell_type": "code",
   "execution_count": 495,
   "id": "fb849dd6",
   "metadata": {},
   "outputs": [],
   "source": [
    "# Seperating data into X and Y\n",
    "X = df[num_features]\n",
    "Y = df['mobile_price']"
   ]
  },
  {
   "cell_type": "code",
   "execution_count": 496,
   "id": "c3036318",
   "metadata": {},
   "outputs": [],
   "source": [
    "# Modelling with all features"
   ]
  },
  {
   "cell_type": "code",
   "execution_count": 497,
   "id": "386e87f4",
   "metadata": {},
   "outputs": [],
   "source": [
    "# Scaling\n",
    "ss = StandardScaler()"
   ]
  },
  {
   "cell_type": "code",
   "execution_count": 499,
   "id": "76d7ccd0",
   "metadata": {},
   "outputs": [],
   "source": [
    "X_scaled = ss.fit_transform(X)"
   ]
  },
  {
   "cell_type": "code",
   "execution_count": 566,
   "id": "f3c7f794",
   "metadata": {},
   "outputs": [],
   "source": [
    "x_train,x_test,y_train,y_test = train_test_split(X_scaled,Y,test_size=0.2,random_state=29)"
   ]
  },
  {
   "cell_type": "code",
   "execution_count": 567,
   "id": "cba36384",
   "metadata": {},
   "outputs": [],
   "source": [
    "lm = LinearRegression()"
   ]
  },
  {
   "cell_type": "code",
   "execution_count": 568,
   "id": "e5f0ab50",
   "metadata": {},
   "outputs": [
    {
     "data": {
      "text/plain": [
       "LinearRegression()"
      ]
     },
     "execution_count": 568,
     "metadata": {},
     "output_type": "execute_result"
    }
   ],
   "source": [
    "lm.fit(x_train,y_train)"
   ]
  },
  {
   "cell_type": "code",
   "execution_count": 569,
   "id": "12031f54",
   "metadata": {},
   "outputs": [],
   "source": [
    "y_tr_pred = lm.predict(x_train)\n",
    "y_te_pred = lm.predict(x_test)"
   ]
  },
  {
   "cell_type": "code",
   "execution_count": 570,
   "id": "a15b36da",
   "metadata": {},
   "outputs": [],
   "source": [
    "# Scoring\n",
    "rmse_tr = np.sqrt(metrics.mean_squared_error(y_train,y_tr_pred))\n",
    "r2_tr = metrics.r2_score(y_train,y_tr_pred)\n",
    "\n",
    "rmse_te = np.sqrt(metrics.mean_squared_error(y_test,y_te_pred))\n",
    "r2_te = metrics.r2_score(y_test,y_te_pred)\n"
   ]
  },
  {
   "cell_type": "code",
   "execution_count": 571,
   "id": "13679f15",
   "metadata": {},
   "outputs": [
    {
     "name": "stdout",
     "output_type": "stream",
     "text": [
      "Training Scores --\n",
      "Rmse : 4713.222385065223\n",
      "R2 : 0.6992521738197959\n",
      "\n",
      "Testing Scores --\n",
      "Rmse : 4323.764865058358\n",
      "R2 : 0.7792639618296011\n",
      "\n"
     ]
    }
   ],
   "source": [
    "print('Training Scores --\\nRmse : {}\\nR2 : {}\\n'.format(rmse_tr,r2_tr))\n",
    "print('Testing Scores --\\nRmse : {}\\nR2 : {}\\n'.format(rmse_te,r2_te))"
   ]
  },
  {
   "cell_type": "markdown",
   "id": "4adbf8ea",
   "metadata": {},
   "source": [
    "<hr>"
   ]
  },
  {
   "cell_type": "markdown",
   "id": "cbb7637e",
   "metadata": {},
   "source": [
    "- with all features using Decision tree"
   ]
  },
  {
   "cell_type": "code",
   "execution_count": 553,
   "id": "649bdd9e",
   "metadata": {},
   "outputs": [],
   "source": [
    "X = df.drop(['mobile_price'],axis=1)\n",
    "Y = df['mobile_price']"
   ]
  },
  {
   "cell_type": "code",
   "execution_count": 560,
   "id": "19e14ede",
   "metadata": {},
   "outputs": [],
   "source": [
    "x_train,x_test,y_train,y_test = train_test_split(X_scaled,Y,test_size=0.2,random_state=29)"
   ]
  },
  {
   "cell_type": "code",
   "execution_count": 561,
   "id": "99abb6a7",
   "metadata": {},
   "outputs": [],
   "source": [
    "dtr = DecisionTreeRegressor()"
   ]
  },
  {
   "cell_type": "code",
   "execution_count": 562,
   "id": "cdb89e9b",
   "metadata": {},
   "outputs": [
    {
     "data": {
      "text/plain": [
       "DecisionTreeRegressor()"
      ]
     },
     "execution_count": 562,
     "metadata": {},
     "output_type": "execute_result"
    }
   ],
   "source": [
    "dtr.fit(x_train,y_train)"
   ]
  },
  {
   "cell_type": "code",
   "execution_count": 563,
   "id": "14b77eae",
   "metadata": {},
   "outputs": [],
   "source": [
    "y_tr_pred = dtr.predict(x_train)\n",
    "y_te_pred = dtr.predict(x_test)"
   ]
  },
  {
   "cell_type": "code",
   "execution_count": 564,
   "id": "d837e031",
   "metadata": {},
   "outputs": [],
   "source": [
    "rmse_tr = np.sqrt(metrics.mean_squared_error(y_train,y_tr_pred))\n",
    "r2_tr = metrics.r2_score(y_train,y_tr_pred)\n",
    "\n",
    "rmse_te = np.sqrt(metrics.mean_squared_error(y_test,y_te_pred))\n",
    "r2_te = metrics.r2_score(y_test,y_te_pred)\n"
   ]
  },
  {
   "cell_type": "code",
   "execution_count": 565,
   "id": "b62c95de",
   "metadata": {},
   "outputs": [
    {
     "name": "stdout",
     "output_type": "stream",
     "text": [
      "Training Scores --\n",
      "Rmse : 566.4921947729581\n",
      "R2 : 0.9956553530153488\n",
      "\n",
      "Testing Scores --\n",
      "Rmse : 3580.977336927132\n",
      "R2 : 0.8485908043965599\n",
      "\n"
     ]
    }
   ],
   "source": [
    "print('Training Scores --\\nRmse : {}\\nR2 : {}\\n'.format(rmse_tr,r2_tr))\n",
    "print('Testing Scores --\\nRmse : {}\\nR2 : {}\\n'.format(rmse_te,r2_te))"
   ]
  },
  {
   "cell_type": "markdown",
   "id": "78c47d8c",
   "metadata": {},
   "source": [
    "- Using GridsearchCV for further tuning"
   ]
  },
  {
   "cell_type": "code",
   "execution_count": 573,
   "id": "cb61e521",
   "metadata": {},
   "outputs": [],
   "source": [
    "params = {'max_depth':[1,2,3,4,5,6,7,8,9,10],\n",
    "          'max_features':['auto','log2','sqrt'],\n",
    "         'splitter':['best','random']}"
   ]
  },
  {
   "cell_type": "code",
   "execution_count": 589,
   "id": "bb67a013",
   "metadata": {},
   "outputs": [],
   "source": [
    "dtr = DecisionTreeRegressor(random_state=51)"
   ]
  },
  {
   "cell_type": "code",
   "execution_count": 590,
   "id": "995d332b",
   "metadata": {},
   "outputs": [],
   "source": [
    "g_search = GridSearchCV(estimator=dtr,\n",
    "                       param_grid=params,\n",
    "                       cv=3,verbose=1,\n",
    "                       return_train_score=True)"
   ]
  },
  {
   "cell_type": "code",
   "execution_count": 591,
   "id": "205fc815",
   "metadata": {},
   "outputs": [
    {
     "name": "stdout",
     "output_type": "stream",
     "text": [
      "Fitting 3 folds for each of 60 candidates, totalling 180 fits\n"
     ]
    },
    {
     "data": {
      "text/plain": [
       "GridSearchCV(cv=3, estimator=DecisionTreeRegressor(random_state=51),\n",
       "             param_grid={'max_depth': [1, 2, 3, 4, 5, 6, 7, 8, 9, 10],\n",
       "                         'max_features': ['auto', 'log2', 'sqrt'],\n",
       "                         'splitter': ['best', 'random']},\n",
       "             return_train_score=True, verbose=1)"
      ]
     },
     "execution_count": 591,
     "metadata": {},
     "output_type": "execute_result"
    }
   ],
   "source": [
    "g_search.fit(x_train,y_train)"
   ]
  },
  {
   "cell_type": "code",
   "execution_count": 592,
   "id": "d1c252b4",
   "metadata": {},
   "outputs": [
    {
     "data": {
      "text/plain": [
       "{'max_depth': 7, 'max_features': 'log2', 'splitter': 'best'}"
      ]
     },
     "execution_count": 592,
     "metadata": {},
     "output_type": "execute_result"
    }
   ],
   "source": [
    "g_search.best_params_"
   ]
  },
  {
   "cell_type": "code",
   "execution_count": 593,
   "id": "40e1ed9e",
   "metadata": {},
   "outputs": [
    {
     "data": {
      "text/plain": [
       "DecisionTreeRegressor(max_depth=7, max_features='log2', random_state=29)"
      ]
     },
     "execution_count": 593,
     "metadata": {},
     "output_type": "execute_result"
    }
   ],
   "source": [
    "dtr = DecisionTreeRegressor(max_depth=7,max_features='log2',\n",
    "                            splitter='best',random_state=29)\n",
    "dtr.fit(x_train,y_train)"
   ]
  },
  {
   "cell_type": "code",
   "execution_count": 595,
   "id": "93a6fa59",
   "metadata": {},
   "outputs": [
    {
     "name": "stdout",
     "output_type": "stream",
     "text": [
      "Training Scores --\n",
      "Rmse : 1627.1681908554428\n",
      "R2 : 0.9641547573137903\n",
      "\n",
      "Testing Scores --\n",
      "Rmse : 3799.6313958347373\n",
      "R2 : 0.8295362483937684\n",
      "\n"
     ]
    }
   ],
   "source": [
    "y_tr_pred = dtr.predict(x_train)\n",
    "y_te_pred = dtr.predict(x_test)\n",
    "\n",
    "rmse_tr = np.sqrt(metrics.mean_squared_error(y_train,y_tr_pred))\n",
    "r2_tr = metrics.r2_score(y_train,y_tr_pred)\n",
    "\n",
    "rmse_te = np.sqrt(metrics.mean_squared_error(y_test,y_te_pred))\n",
    "r2_te = metrics.r2_score(y_test,y_te_pred)\n",
    "\n",
    "print('Training Scores --\\nRmse : {}\\nR2 : {}\\n'.format(rmse_tr,r2_tr))\n",
    "print('Testing Scores --\\nRmse : {}\\nR2 : {}\\n'.format(rmse_te,r2_te))"
   ]
  },
  {
   "cell_type": "code",
   "execution_count": 598,
   "id": "ae9daa24",
   "metadata": {},
   "outputs": [
    {
     "data": {
      "image/png": "[encoded data removed]",
      "text/plain": [
       "<Figure size 720x720 with 1 Axes>"
      ]
     },
     "metadata": {
      "needs_background": "light"
     },
     "output_type": "display_data"
    }
   ],
   "source": [
    "plt.figure(figsize=(10,10))\n",
    "plt.scatter(y_test, y_te_pred, c='crimson')\n",
    "plt.yscale('linear')\n",
    "plt.xscale('linear')\n",
    "\n",
    "p1 = max(max(y_te_pred), max(y_test))\n",
    "p2 = min(min(y_te_pred), min(y_test))\n",
    "plt.plot([p1, p2], [p1, p2], 'b-')\n",
    "plt.xlabel('True Values', fontsize=15)\n",
    "plt.ylabel('Predictions', fontsize=15)\n",
    "plt.axis('equal')\n",
    "plt.show()"
   ]
  },
  {
   "cell_type": "code",
   "execution_count": null,
   "id": "37933d8b",
   "metadata": {},
   "outputs": [],
   "source": []
  }
 ],
 "metadata": {
  "kernelspec": {
   "display_name": "Python 3 (ipykernel)",
   "language": "python",
   "name": "python3"
  },
  "language_info": {
   "codemirror_mode": {
    "name": "ipython",
    "version": 3
   },
   "file_extension": ".py",
   "mimetype": "text/x-python",
   "name": "python",
   "nbconvert_exporter": "python",
   "pygments_lexer": "ipython3",
   "version": "3.9.6"
  }
 },
 "nbformat": 4,
 "nbformat_minor": 5
}
