{
 "cells": [
  {
   "cell_type": "code",
   "execution_count": 56,
   "id": "57a6586d",
   "metadata": {},
   "outputs": [],
   "source": [
    "# Importing required libraries\n",
    "import pandas as pd\n",
    "import numpy as np\n",
    "import matplotlib.pyplot as plt\n",
    "import seaborn as sns\n",
    "import string\n",
    "import nltk\n",
    "\n",
    "from sklearn.model_selection import train_test_split\n",
    "from sklearn.ensemble import RandomForestRegressor,GradientBoostingRegressor\n",
    "from sklearn.metrics import mean_squared_error\n",
    "from sklearn.feature_extraction.text import CountVectorizer\n",
    "from sklearn.preprocessing import StandardScaler\n",
    "\n",
    "from collections import Counter\n",
    "\n",
    "%matplotlib inline"
   ]
  },
  {
   "cell_type": "code",
   "execution_count": 57,
   "id": "caf1ea35",
   "metadata": {},
   "outputs": [
    {
     "name": "stderr",
     "output_type": "stream",
     "text": [
      "[nltk_data] Downloading package stopwords to\n",
      "[nltk_data]     C:\\Users\\ukarj\\AppData\\Roaming\\nltk_data...\n",
      "[nltk_data]   Package stopwords is already up-to-date!\n"
     ]
    },
    {
     "data": {
      "text/plain": [
       "True"
      ]
     },
     "execution_count": 57,
     "metadata": {},
     "output_type": "execute_result"
    }
   ],
   "source": [
    "# Updating stopwords\n",
    "nltk.download('stopwords')"
   ]
  },
  {
   "cell_type": "code",
   "execution_count": 152,
   "id": "5657cb73",
   "metadata": {},
   "outputs": [],
   "source": [
    "# Reading the data\n",
    "train_df = pd.read_csv('train.csv')\n",
    "test_df = pd.read_csv('test.csv')"
   ]
  },
  {
   "cell_type": "code",
   "execution_count": 59,
   "id": "02d061cd",
   "metadata": {},
   "outputs": [
    {
     "data": {
      "text/plain": [
       "((2834, 6), (7, 4))"
      ]
     },
     "execution_count": 59,
     "metadata": {},
     "output_type": "execute_result"
    }
   ],
   "source": [
    "train_df.shape,test_df.shape"
   ]
  },
  {
   "cell_type": "code",
   "execution_count": 60,
   "id": "9614e673",
   "metadata": {},
   "outputs": [
    {
     "data": {
      "text/html": [
       "<div>\n",
       "<style scoped>\n",
       "    .dataframe tbody tr th:only-of-type {\n",
       "        vertical-align: middle;\n",
       "    }\n",
       "\n",
       "    .dataframe tbody tr th {\n",
       "        vertical-align: top;\n",
       "    }\n",
       "\n",
       "    .dataframe thead th {\n",
       "        text-align: right;\n",
       "    }\n",
       "</style>\n",
       "<table border=\"1\" class=\"dataframe\">\n",
       "  <thead>\n",
       "    <tr style=\"text-align: right;\">\n",
       "      <th></th>\n",
       "      <th>id</th>\n",
       "      <th>url_legal</th>\n",
       "      <th>license</th>\n",
       "      <th>excerpt</th>\n",
       "      <th>target</th>\n",
       "      <th>standard_error</th>\n",
       "    </tr>\n",
       "  </thead>\n",
       "  <tbody>\n",
       "    <tr>\n",
       "      <th>0</th>\n",
       "      <td>c12129c31</td>\n",
       "      <td>NaN</td>\n",
       "      <td>NaN</td>\n",
       "      <td>When the young people returned to the ballroom...</td>\n",
       "      <td>-0.340259</td>\n",
       "      <td>0.464009</td>\n",
       "    </tr>\n",
       "    <tr>\n",
       "      <th>1</th>\n",
       "      <td>85aa80a4c</td>\n",
       "      <td>NaN</td>\n",
       "      <td>NaN</td>\n",
       "      <td>All through dinner time, Mrs. Fayre was somewh...</td>\n",
       "      <td>-0.315372</td>\n",
       "      <td>0.480805</td>\n",
       "    </tr>\n",
       "    <tr>\n",
       "      <th>2</th>\n",
       "      <td>b69ac6792</td>\n",
       "      <td>NaN</td>\n",
       "      <td>NaN</td>\n",
       "      <td>As Roger had predicted, the snow departed as q...</td>\n",
       "      <td>-0.580118</td>\n",
       "      <td>0.476676</td>\n",
       "    </tr>\n",
       "    <tr>\n",
       "      <th>3</th>\n",
       "      <td>dd1000b26</td>\n",
       "      <td>NaN</td>\n",
       "      <td>NaN</td>\n",
       "      <td>And outside before the palace a great garden w...</td>\n",
       "      <td>-1.054013</td>\n",
       "      <td>0.450007</td>\n",
       "    </tr>\n",
       "    <tr>\n",
       "      <th>4</th>\n",
       "      <td>37c1b32fb</td>\n",
       "      <td>NaN</td>\n",
       "      <td>NaN</td>\n",
       "      <td>Once upon a time there were Three Bears who li...</td>\n",
       "      <td>0.247197</td>\n",
       "      <td>0.510845</td>\n",
       "    </tr>\n",
       "  </tbody>\n",
       "</table>\n",
       "</div>"
      ],
      "text/plain": [
       "          id url_legal license  \\\n",
       "0  c12129c31       NaN     NaN   \n",
       "1  85aa80a4c       NaN     NaN   \n",
       "2  b69ac6792       NaN     NaN   \n",
       "3  dd1000b26       NaN     NaN   \n",
       "4  37c1b32fb       NaN     NaN   \n",
       "\n",
       "                                             excerpt    target  standard_error  \n",
       "0  When the young people returned to the ballroom... -0.340259        0.464009  \n",
       "1  All through dinner time, Mrs. Fayre was somewh... -0.315372        0.480805  \n",
       "2  As Roger had predicted, the snow departed as q... -0.580118        0.476676  \n",
       "3  And outside before the palace a great garden w... -1.054013        0.450007  \n",
       "4  Once upon a time there were Three Bears who li...  0.247197        0.510845  "
      ]
     },
     "execution_count": 60,
     "metadata": {},
     "output_type": "execute_result"
    }
   ],
   "source": [
    "train_df.head()"
   ]
  },
  {
   "cell_type": "code",
   "execution_count": 61,
   "id": "41251f68",
   "metadata": {},
   "outputs": [
    {
     "data": {
      "text/html": [
       "<div>\n",
       "<style scoped>\n",
       "    .dataframe tbody tr th:only-of-type {\n",
       "        vertical-align: middle;\n",
       "    }\n",
       "\n",
       "    .dataframe tbody tr th {\n",
       "        vertical-align: top;\n",
       "    }\n",
       "\n",
       "    .dataframe thead th {\n",
       "        text-align: right;\n",
       "    }\n",
       "</style>\n",
       "<table border=\"1\" class=\"dataframe\">\n",
       "  <thead>\n",
       "    <tr style=\"text-align: right;\">\n",
       "      <th></th>\n",
       "      <th>id</th>\n",
       "      <th>url_legal</th>\n",
       "      <th>license</th>\n",
       "      <th>excerpt</th>\n",
       "    </tr>\n",
       "  </thead>\n",
       "  <tbody>\n",
       "    <tr>\n",
       "      <th>0</th>\n",
       "      <td>c0f722661</td>\n",
       "      <td>NaN</td>\n",
       "      <td>NaN</td>\n",
       "      <td>My hope lay in Jack's promise that he would ke...</td>\n",
       "    </tr>\n",
       "    <tr>\n",
       "      <th>1</th>\n",
       "      <td>f0953f0a5</td>\n",
       "      <td>NaN</td>\n",
       "      <td>NaN</td>\n",
       "      <td>Dotty continued to go to Mrs. Gray's every nig...</td>\n",
       "    </tr>\n",
       "    <tr>\n",
       "      <th>2</th>\n",
       "      <td>0df072751</td>\n",
       "      <td>NaN</td>\n",
       "      <td>NaN</td>\n",
       "      <td>It was a bright and cheerful scene that greete...</td>\n",
       "    </tr>\n",
       "    <tr>\n",
       "      <th>3</th>\n",
       "      <td>04caf4e0c</td>\n",
       "      <td>https://en.wikipedia.org/wiki/Cell_division</td>\n",
       "      <td>CC BY-SA 3.0</td>\n",
       "      <td>Cell division is the process by which a parent...</td>\n",
       "    </tr>\n",
       "    <tr>\n",
       "      <th>4</th>\n",
       "      <td>0e63f8bea</td>\n",
       "      <td>https://en.wikipedia.org/wiki/Debugging</td>\n",
       "      <td>CC BY-SA 3.0</td>\n",
       "      <td>Debugging is the process of finding and resolv...</td>\n",
       "    </tr>\n",
       "  </tbody>\n",
       "</table>\n",
       "</div>"
      ],
      "text/plain": [
       "          id                                    url_legal       license  \\\n",
       "0  c0f722661                                          NaN           NaN   \n",
       "1  f0953f0a5                                          NaN           NaN   \n",
       "2  0df072751                                          NaN           NaN   \n",
       "3  04caf4e0c  https://en.wikipedia.org/wiki/Cell_division  CC BY-SA 3.0   \n",
       "4  0e63f8bea      https://en.wikipedia.org/wiki/Debugging  CC BY-SA 3.0   \n",
       "\n",
       "                                             excerpt  \n",
       "0  My hope lay in Jack's promise that he would ke...  \n",
       "1  Dotty continued to go to Mrs. Gray's every nig...  \n",
       "2  It was a bright and cheerful scene that greete...  \n",
       "3  Cell division is the process by which a parent...  \n",
       "4  Debugging is the process of finding and resolv...  "
      ]
     },
     "execution_count": 61,
     "metadata": {},
     "output_type": "execute_result"
    }
   ],
   "source": [
    "test_df.head()"
   ]
  },
  {
   "cell_type": "code",
   "execution_count": 62,
   "id": "e946c4de",
   "metadata": {},
   "outputs": [
    {
     "data": {
      "text/plain": [
       "id                   0\n",
       "url_legal         2004\n",
       "license           2004\n",
       "excerpt              0\n",
       "target               0\n",
       "standard_error       0\n",
       "dtype: int64"
      ]
     },
     "execution_count": 62,
     "metadata": {},
     "output_type": "execute_result"
    }
   ],
   "source": [
    "train_df.isnull().sum()"
   ]
  },
  {
   "cell_type": "code",
   "execution_count": 63,
   "id": "49b4f0ba",
   "metadata": {},
   "outputs": [],
   "source": [
    "# Removing url_legal & licence columns from train_df as most of them are null\n",
    "train_df.drop(['url_legal','license'],axis=1,inplace=True)\n",
    "# Since we are removing these columns from training data we don't need it in testing data\n",
    "test_df.drop(['url_legal','license'],axis=1,inplace=True)"
   ]
  },
  {
   "cell_type": "code",
   "execution_count": 64,
   "id": "069c0d57",
   "metadata": {},
   "outputs": [
    {
     "data": {
      "text/html": [
       "<div>\n",
       "<style scoped>\n",
       "    .dataframe tbody tr th:only-of-type {\n",
       "        vertical-align: middle;\n",
       "    }\n",
       "\n",
       "    .dataframe tbody tr th {\n",
       "        vertical-align: top;\n",
       "    }\n",
       "\n",
       "    .dataframe thead th {\n",
       "        text-align: right;\n",
       "    }\n",
       "</style>\n",
       "<table border=\"1\" class=\"dataframe\">\n",
       "  <thead>\n",
       "    <tr style=\"text-align: right;\">\n",
       "      <th></th>\n",
       "      <th>id</th>\n",
       "      <th>excerpt</th>\n",
       "      <th>target</th>\n",
       "      <th>standard_error</th>\n",
       "    </tr>\n",
       "  </thead>\n",
       "  <tbody>\n",
       "    <tr>\n",
       "      <th>0</th>\n",
       "      <td>c12129c31</td>\n",
       "      <td>When the young people returned to the ballroom...</td>\n",
       "      <td>-0.340259</td>\n",
       "      <td>0.464009</td>\n",
       "    </tr>\n",
       "    <tr>\n",
       "      <th>1</th>\n",
       "      <td>85aa80a4c</td>\n",
       "      <td>All through dinner time, Mrs. Fayre was somewh...</td>\n",
       "      <td>-0.315372</td>\n",
       "      <td>0.480805</td>\n",
       "    </tr>\n",
       "    <tr>\n",
       "      <th>2</th>\n",
       "      <td>b69ac6792</td>\n",
       "      <td>As Roger had predicted, the snow departed as q...</td>\n",
       "      <td>-0.580118</td>\n",
       "      <td>0.476676</td>\n",
       "    </tr>\n",
       "    <tr>\n",
       "      <th>3</th>\n",
       "      <td>dd1000b26</td>\n",
       "      <td>And outside before the palace a great garden w...</td>\n",
       "      <td>-1.054013</td>\n",
       "      <td>0.450007</td>\n",
       "    </tr>\n",
       "    <tr>\n",
       "      <th>4</th>\n",
       "      <td>37c1b32fb</td>\n",
       "      <td>Once upon a time there were Three Bears who li...</td>\n",
       "      <td>0.247197</td>\n",
       "      <td>0.510845</td>\n",
       "    </tr>\n",
       "    <tr>\n",
       "      <th>...</th>\n",
       "      <td>...</td>\n",
       "      <td>...</td>\n",
       "      <td>...</td>\n",
       "      <td>...</td>\n",
       "    </tr>\n",
       "    <tr>\n",
       "      <th>2829</th>\n",
       "      <td>25ca8f498</td>\n",
       "      <td>When you think of dinosaurs and where they liv...</td>\n",
       "      <td>1.711390</td>\n",
       "      <td>0.646900</td>\n",
       "    </tr>\n",
       "    <tr>\n",
       "      <th>2830</th>\n",
       "      <td>2c26db523</td>\n",
       "      <td>So what is a solid? Solids are usually hard be...</td>\n",
       "      <td>0.189476</td>\n",
       "      <td>0.535648</td>\n",
       "    </tr>\n",
       "    <tr>\n",
       "      <th>2831</th>\n",
       "      <td>cd19e2350</td>\n",
       "      <td>The second state of matter we will discuss is ...</td>\n",
       "      <td>0.255209</td>\n",
       "      <td>0.483866</td>\n",
       "    </tr>\n",
       "    <tr>\n",
       "      <th>2832</th>\n",
       "      <td>15e2e9e7a</td>\n",
       "      <td>Solids are shapes that you can actually touch....</td>\n",
       "      <td>-0.215279</td>\n",
       "      <td>0.514128</td>\n",
       "    </tr>\n",
       "    <tr>\n",
       "      <th>2833</th>\n",
       "      <td>5b990ba77</td>\n",
       "      <td>Animals are made of many cells. They eat thing...</td>\n",
       "      <td>0.300779</td>\n",
       "      <td>0.512379</td>\n",
       "    </tr>\n",
       "  </tbody>\n",
       "</table>\n",
       "<p>2834 rows × 4 columns</p>\n",
       "</div>"
      ],
      "text/plain": [
       "             id                                            excerpt    target  \\\n",
       "0     c12129c31  When the young people returned to the ballroom... -0.340259   \n",
       "1     85aa80a4c  All through dinner time, Mrs. Fayre was somewh... -0.315372   \n",
       "2     b69ac6792  As Roger had predicted, the snow departed as q... -0.580118   \n",
       "3     dd1000b26  And outside before the palace a great garden w... -1.054013   \n",
       "4     37c1b32fb  Once upon a time there were Three Bears who li...  0.247197   \n",
       "...         ...                                                ...       ...   \n",
       "2829  25ca8f498  When you think of dinosaurs and where they liv...  1.711390   \n",
       "2830  2c26db523  So what is a solid? Solids are usually hard be...  0.189476   \n",
       "2831  cd19e2350  The second state of matter we will discuss is ...  0.255209   \n",
       "2832  15e2e9e7a  Solids are shapes that you can actually touch.... -0.215279   \n",
       "2833  5b990ba77  Animals are made of many cells. They eat thing...  0.300779   \n",
       "\n",
       "      standard_error  \n",
       "0           0.464009  \n",
       "1           0.480805  \n",
       "2           0.476676  \n",
       "3           0.450007  \n",
       "4           0.510845  \n",
       "...              ...  \n",
       "2829        0.646900  \n",
       "2830        0.535648  \n",
       "2831        0.483866  \n",
       "2832        0.514128  \n",
       "2833        0.512379  \n",
       "\n",
       "[2834 rows x 4 columns]"
      ]
     },
     "execution_count": 64,
     "metadata": {},
     "output_type": "execute_result"
    }
   ],
   "source": [
    "train_df"
   ]
  },
  {
   "cell_type": "code",
   "execution_count": 65,
   "id": "00c5d026",
   "metadata": {},
   "outputs": [
    {
     "data": {
      "text/html": [
       "<div>\n",
       "<style scoped>\n",
       "    .dataframe tbody tr th:only-of-type {\n",
       "        vertical-align: middle;\n",
       "    }\n",
       "\n",
       "    .dataframe tbody tr th {\n",
       "        vertical-align: top;\n",
       "    }\n",
       "\n",
       "    .dataframe thead th {\n",
       "        text-align: right;\n",
       "    }\n",
       "</style>\n",
       "<table border=\"1\" class=\"dataframe\">\n",
       "  <thead>\n",
       "    <tr style=\"text-align: right;\">\n",
       "      <th></th>\n",
       "      <th>target</th>\n",
       "      <th>standard_error</th>\n",
       "    </tr>\n",
       "  </thead>\n",
       "  <tbody>\n",
       "    <tr>\n",
       "      <th>count</th>\n",
       "      <td>2834.000000</td>\n",
       "      <td>2834.000000</td>\n",
       "    </tr>\n",
       "    <tr>\n",
       "      <th>mean</th>\n",
       "      <td>-0.959319</td>\n",
       "      <td>0.491435</td>\n",
       "    </tr>\n",
       "    <tr>\n",
       "      <th>std</th>\n",
       "      <td>1.033579</td>\n",
       "      <td>0.034818</td>\n",
       "    </tr>\n",
       "    <tr>\n",
       "      <th>min</th>\n",
       "      <td>-3.676268</td>\n",
       "      <td>0.000000</td>\n",
       "    </tr>\n",
       "    <tr>\n",
       "      <th>25%</th>\n",
       "      <td>-1.690320</td>\n",
       "      <td>0.468543</td>\n",
       "    </tr>\n",
       "    <tr>\n",
       "      <th>50%</th>\n",
       "      <td>-0.912190</td>\n",
       "      <td>0.484721</td>\n",
       "    </tr>\n",
       "    <tr>\n",
       "      <th>75%</th>\n",
       "      <td>-0.202540</td>\n",
       "      <td>0.506268</td>\n",
       "    </tr>\n",
       "    <tr>\n",
       "      <th>max</th>\n",
       "      <td>1.711390</td>\n",
       "      <td>0.649671</td>\n",
       "    </tr>\n",
       "  </tbody>\n",
       "</table>\n",
       "</div>"
      ],
      "text/plain": [
       "            target  standard_error\n",
       "count  2834.000000     2834.000000\n",
       "mean     -0.959319        0.491435\n",
       "std       1.033579        0.034818\n",
       "min      -3.676268        0.000000\n",
       "25%      -1.690320        0.468543\n",
       "50%      -0.912190        0.484721\n",
       "75%      -0.202540        0.506268\n",
       "max       1.711390        0.649671"
      ]
     },
     "execution_count": 65,
     "metadata": {},
     "output_type": "execute_result"
    }
   ],
   "source": [
    "train_df.describe()"
   ]
  },
  {
   "cell_type": "code",
   "execution_count": 66,
   "id": "8f777365",
   "metadata": {},
   "outputs": [],
   "source": [
    "train_df['length'] = train_df['excerpt'].apply(len)"
   ]
  },
  {
   "cell_type": "code",
   "execution_count": 67,
   "id": "4ae4d252",
   "metadata": {},
   "outputs": [
    {
     "data": {
      "text/plain": [
       "count    2834.000000\n",
       "mean      971.732886\n",
       "std       117.257578\n",
       "min       669.000000\n",
       "25%       885.000000\n",
       "50%       971.000000\n",
       "75%      1058.000000\n",
       "max      1341.000000\n",
       "Name: length, dtype: float64"
      ]
     },
     "execution_count": 67,
     "metadata": {},
     "output_type": "execute_result"
    }
   ],
   "source": [
    "train_df.length.describe()"
   ]
  },
  {
   "cell_type": "markdown",
   "id": "1a526c66",
   "metadata": {},
   "source": [
    "Average length of excerpts is 971.73 <br>\n",
    "minimum is 669 and maximum is 1341"
   ]
  },
  {
   "cell_type": "markdown",
   "id": "3e854b13",
   "metadata": {},
   "source": [
    "- ## Text preprocessing"
   ]
  },
  {
   "cell_type": "code",
   "execution_count": 73,
   "id": "36feb8d4",
   "metadata": {},
   "outputs": [],
   "source": [
    "# Cleaning the data by removing stopwords, punctuations, etc."
   ]
  },
  {
   "cell_type": "code",
   "execution_count": 74,
   "id": "3c81dd0b",
   "metadata": {},
   "outputs": [],
   "source": [
    "def lower_it(text):\n",
    "    '''Function to convert text to lower case'''\n",
    "    return text.lower()\n",
    "\n",
    "def remove_punctuation(text):\n",
    "    '''Function to remove punctuations'''\n",
    "    new_text = ''.join([i for i in text if i not in string.punctuation])\n",
    "    return new_text\n",
    "\n",
    "def remove_numbers(text):\n",
    "    '''Functions to remove numbers'''\n",
    "    new_text = ''.join([i for i in text if i not in string.digits])\n",
    "    return new_text\n",
    "\n",
    "def remove_stopwords(text):\n",
    "    '''Function to remove stopwords from text'''\n",
    "    stop_words = nltk.corpus.stopwords.words('english')\n",
    "    new_text = ' '.join([i for i in text.split() if i not in stop_words])\n",
    "    return new_text"
   ]
  },
  {
   "cell_type": "code",
   "execution_count": 75,
   "id": "fed5207f",
   "metadata": {},
   "outputs": [],
   "source": [
    "# Applying these functions on the data\n",
    "train_df['excerpt'] = train_df['excerpt'].apply(lambda x: lower_it(x))\n",
    "train_df['excerpt'] = train_df['excerpt'].apply(lambda x: remove_punctuation(x))\n",
    "train_df['excerpt'] = train_df['excerpt'].apply(lambda x: remove_numbers(x))\n",
    "train_df['excerpt'] = train_df['excerpt'].apply(lambda x: remove_stopwords(x))"
   ]
  },
  {
   "cell_type": "code",
   "execution_count": 76,
   "id": "525f9fba",
   "metadata": {},
   "outputs": [],
   "source": [
    "train_df['new_length'] = train_df['excerpt'].apply(len)"
   ]
  },
  {
   "cell_type": "code",
   "execution_count": 77,
   "id": "f1fc75a8",
   "metadata": {},
   "outputs": [
    {
     "name": "stdout",
     "output_type": "stream",
     "text": [
      "Total 1018579 stop words were removed from exerpts\n"
     ]
    }
   ],
   "source": [
    "removed_word_len = train_df.length.sum()-train_df.new_length.sum()\n",
    "print('Total {} stop words were removed from exerpts'.format(removed_word_len))"
   ]
  },
  {
   "cell_type": "code",
   "execution_count": 78,
   "id": "5d18188e",
   "metadata": {},
   "outputs": [],
   "source": [
    "# Plotting top 20 used words in excerpts\n",
    "word_counter = Counter([word for text in train_df['excerpt'] for word in text.split()])"
   ]
  },
  {
   "cell_type": "code",
   "execution_count": 79,
   "id": "77225554",
   "metadata": {},
   "outputs": [
    {
     "data": {
      "text/plain": [
       "[('one', 1881),\n",
       " ('little', 1134),\n",
       " ('would', 1131),\n",
       " ('said', 1109),\n",
       " ('could', 905),\n",
       " ('time', 891),\n",
       " ('like', 798),\n",
       " ('two', 779),\n",
       " ('made', 770),\n",
       " ('people', 732),\n",
       " ('great', 696),\n",
       " ('many', 681),\n",
       " ('first', 669),\n",
       " ('called', 636),\n",
       " ('water', 631),\n",
       " ('day', 629),\n",
       " ('also', 608),\n",
       " ('came', 608),\n",
       " ('old', 597),\n",
       " ('went', 577)]"
      ]
     },
     "execution_count": 79,
     "metadata": {},
     "output_type": "execute_result"
    }
   ],
   "source": [
    "word_counter.most_common(20)"
   ]
  },
  {
   "cell_type": "code",
   "execution_count": 80,
   "id": "9f3b5166",
   "metadata": {},
   "outputs": [],
   "source": [
    "top_words = pd.DataFrame(word_counter.most_common(20),columns=['word','count'])"
   ]
  },
  {
   "cell_type": "code",
   "execution_count": 81,
   "id": "c68cca78",
   "metadata": {},
   "outputs": [
    {
     "data": {
      "image/png": "[encoded data removed]",
      "text/plain": [
       "<Figure size 576x432 with 1 Axes>"
      ]
     },
     "metadata": {
      "needs_background": "light"
     },
     "output_type": "display_data"
    }
   ],
   "source": [
    "plt.figure(figsize=(8,6))\n",
    "sns.barplot(data=top_words,x='word',y='count',palette='inferno_r')\n",
    "plt.xticks(rotation=45,ha='right')\n",
    "plt.show()"
   ]
  },
  {
   "cell_type": "code",
   "execution_count": 82,
   "id": "128d3bbe",
   "metadata": {},
   "outputs": [
    {
     "data": {
      "text/html": [
       "<div>\n",
       "<style scoped>\n",
       "    .dataframe tbody tr th:only-of-type {\n",
       "        vertical-align: middle;\n",
       "    }\n",
       "\n",
       "    .dataframe tbody tr th {\n",
       "        vertical-align: top;\n",
       "    }\n",
       "\n",
       "    .dataframe thead th {\n",
       "        text-align: right;\n",
       "    }\n",
       "</style>\n",
       "<table border=\"1\" class=\"dataframe\">\n",
       "  <thead>\n",
       "    <tr style=\"text-align: right;\">\n",
       "      <th></th>\n",
       "      <th>id</th>\n",
       "      <th>excerpt</th>\n",
       "      <th>target</th>\n",
       "      <th>standard_error</th>\n",
       "      <th>length</th>\n",
       "      <th>new_length</th>\n",
       "    </tr>\n",
       "  </thead>\n",
       "  <tbody>\n",
       "    <tr>\n",
       "      <th>0</th>\n",
       "      <td>c12129c31</td>\n",
       "      <td>young people returned ballroom presented decid...</td>\n",
       "      <td>-0.340259</td>\n",
       "      <td>0.464009</td>\n",
       "      <td>992</td>\n",
       "      <td>604</td>\n",
       "    </tr>\n",
       "    <tr>\n",
       "      <th>1</th>\n",
       "      <td>85aa80a4c</td>\n",
       "      <td>dinner time mrs fayre somewhat silent eyes res...</td>\n",
       "      <td>-0.315372</td>\n",
       "      <td>0.480805</td>\n",
       "      <td>937</td>\n",
       "      <td>570</td>\n",
       "    </tr>\n",
       "    <tr>\n",
       "      <th>2</th>\n",
       "      <td>b69ac6792</td>\n",
       "      <td>roger predicted snow departed quickly came two...</td>\n",
       "      <td>-0.580118</td>\n",
       "      <td>0.476676</td>\n",
       "      <td>908</td>\n",
       "      <td>538</td>\n",
       "    </tr>\n",
       "    <tr>\n",
       "      <th>3</th>\n",
       "      <td>dd1000b26</td>\n",
       "      <td>outside palace great garden walled round fille...</td>\n",
       "      <td>-1.054013</td>\n",
       "      <td>0.450007</td>\n",
       "      <td>909</td>\n",
       "      <td>585</td>\n",
       "    </tr>\n",
       "    <tr>\n",
       "      <th>4</th>\n",
       "      <td>37c1b32fb</td>\n",
       "      <td>upon time three bears lived together house woo...</td>\n",
       "      <td>0.247197</td>\n",
       "      <td>0.510845</td>\n",
       "      <td>723</td>\n",
       "      <td>410</td>\n",
       "    </tr>\n",
       "    <tr>\n",
       "      <th>...</th>\n",
       "      <td>...</td>\n",
       "      <td>...</td>\n",
       "      <td>...</td>\n",
       "      <td>...</td>\n",
       "      <td>...</td>\n",
       "      <td>...</td>\n",
       "    </tr>\n",
       "    <tr>\n",
       "      <th>2829</th>\n",
       "      <td>25ca8f498</td>\n",
       "      <td>think dinosaurs lived picture see hot steamy s...</td>\n",
       "      <td>1.711390</td>\n",
       "      <td>0.646900</td>\n",
       "      <td>901</td>\n",
       "      <td>627</td>\n",
       "    </tr>\n",
       "    <tr>\n",
       "      <th>2830</th>\n",
       "      <td>2c26db523</td>\n",
       "      <td>solid solids usually hard molecules packed tog...</td>\n",
       "      <td>0.189476</td>\n",
       "      <td>0.535648</td>\n",
       "      <td>890</td>\n",
       "      <td>545</td>\n",
       "    </tr>\n",
       "    <tr>\n",
       "      <th>2831</th>\n",
       "      <td>cd19e2350</td>\n",
       "      <td>second state matter discuss liquid solids hard...</td>\n",
       "      <td>0.255209</td>\n",
       "      <td>0.483866</td>\n",
       "      <td>949</td>\n",
       "      <td>527</td>\n",
       "    </tr>\n",
       "    <tr>\n",
       "      <th>2832</th>\n",
       "      <td>15e2e9e7a</td>\n",
       "      <td>solids shapes actually touch three dimensions ...</td>\n",
       "      <td>-0.215279</td>\n",
       "      <td>0.514128</td>\n",
       "      <td>864</td>\n",
       "      <td>523</td>\n",
       "    </tr>\n",
       "    <tr>\n",
       "      <th>2833</th>\n",
       "      <td>5b990ba77</td>\n",
       "      <td>animals made many cells eat things digest insi...</td>\n",
       "      <td>0.300779</td>\n",
       "      <td>0.512379</td>\n",
       "      <td>885</td>\n",
       "      <td>576</td>\n",
       "    </tr>\n",
       "  </tbody>\n",
       "</table>\n",
       "<p>2834 rows × 6 columns</p>\n",
       "</div>"
      ],
      "text/plain": [
       "             id                                            excerpt    target  \\\n",
       "0     c12129c31  young people returned ballroom presented decid... -0.340259   \n",
       "1     85aa80a4c  dinner time mrs fayre somewhat silent eyes res... -0.315372   \n",
       "2     b69ac6792  roger predicted snow departed quickly came two... -0.580118   \n",
       "3     dd1000b26  outside palace great garden walled round fille... -1.054013   \n",
       "4     37c1b32fb  upon time three bears lived together house woo...  0.247197   \n",
       "...         ...                                                ...       ...   \n",
       "2829  25ca8f498  think dinosaurs lived picture see hot steamy s...  1.711390   \n",
       "2830  2c26db523  solid solids usually hard molecules packed tog...  0.189476   \n",
       "2831  cd19e2350  second state matter discuss liquid solids hard...  0.255209   \n",
       "2832  15e2e9e7a  solids shapes actually touch three dimensions ... -0.215279   \n",
       "2833  5b990ba77  animals made many cells eat things digest insi...  0.300779   \n",
       "\n",
       "      standard_error  length  new_length  \n",
       "0           0.464009     992         604  \n",
       "1           0.480805     937         570  \n",
       "2           0.476676     908         538  \n",
       "3           0.450007     909         585  \n",
       "4           0.510845     723         410  \n",
       "...              ...     ...         ...  \n",
       "2829        0.646900     901         627  \n",
       "2830        0.535648     890         545  \n",
       "2831        0.483866     949         527  \n",
       "2832        0.514128     864         523  \n",
       "2833        0.512379     885         576  \n",
       "\n",
       "[2834 rows x 6 columns]"
      ]
     },
     "execution_count": 82,
     "metadata": {},
     "output_type": "execute_result"
    }
   ],
   "source": [
    "train_df"
   ]
  },
  {
   "cell_type": "markdown",
   "id": "157565b4",
   "metadata": {},
   "source": [
    "- ## Modeling"
   ]
  },
  {
   "cell_type": "code",
   "execution_count": 133,
   "id": "a98a1483",
   "metadata": {},
   "outputs": [],
   "source": [
    "# Seperating the data from training data in features and target\n",
    "X = train_df['excerpt']\n",
    "Y = train_df['target']"
   ]
  },
  {
   "cell_type": "code",
   "execution_count": 134,
   "id": "8b83d3e0",
   "metadata": {},
   "outputs": [],
   "source": [
    "c_vec = CountVectorizer()"
   ]
  },
  {
   "cell_type": "code",
   "execution_count": 135,
   "id": "d3e5d242",
   "metadata": {},
   "outputs": [],
   "source": [
    "X = c_vec.fit_transform(X).toarray()"
   ]
  },
  {
   "cell_type": "code",
   "execution_count": 142,
   "id": "e6cb18e2",
   "metadata": {},
   "outputs": [],
   "source": [
    "ss = StandardScaler()\n",
    "X = ss.fit_transform(X)"
   ]
  },
  {
   "cell_type": "code",
   "execution_count": 145,
   "id": "661c010f",
   "metadata": {},
   "outputs": [],
   "source": [
    "# Splitting the data into training and testing\n",
    "x_train,x_test,y_train,y_test = train_test_split(X,Y,test_size=0.2,random_state=7)"
   ]
  },
  {
   "cell_type": "code",
   "execution_count": 146,
   "id": "b6f1fd13",
   "metadata": {},
   "outputs": [],
   "source": [
    "rfr = RandomForestRegressor()\n",
    "gbr = GradientBoostingRegressor()"
   ]
  },
  {
   "cell_type": "code",
   "execution_count": 147,
   "id": "84b3bba8",
   "metadata": {},
   "outputs": [
    {
     "data": {
      "text/plain": [
       "RandomForestRegressor()"
      ]
     },
     "execution_count": 147,
     "metadata": {},
     "output_type": "execute_result"
    }
   ],
   "source": [
    "rfr.fit(x_train,y_train)"
   ]
  },
  {
   "cell_type": "code",
   "execution_count": 148,
   "id": "bca4d592",
   "metadata": {},
   "outputs": [
    {
     "data": {
      "text/plain": [
       "GradientBoostingRegressor()"
      ]
     },
     "execution_count": 148,
     "metadata": {},
     "output_type": "execute_result"
    }
   ],
   "source": [
    "gbr.fit(x_train,y_train)"
   ]
  },
  {
   "cell_type": "code",
   "execution_count": 149,
   "id": "7063cb95",
   "metadata": {},
   "outputs": [],
   "source": [
    "y_pred_rfr = rfr.predict(x_test)\n",
    "y_pred_gbr = gbr.predict(x_test)"
   ]
  },
  {
   "cell_type": "code",
   "execution_count": 150,
   "id": "1f148b98",
   "metadata": {},
   "outputs": [
    {
     "name": "stdout",
     "output_type": "stream",
     "text": [
      "Scores for RandomForestRegressor\n",
      "\tTraining score :0.3155711110019309\n",
      "\tTesting score :0.8275135993906226\n",
      "Scores for GradientBoostingRegressor\n",
      "\tTraining score :0.7081187707174186\n",
      "\tTesting score :0.8436238306872804\n"
     ]
    }
   ],
   "source": [
    "print('Scores for RandomForestRegressor')\n",
    "print('\\tTraining score :{}'.format(np.sqrt(mean_squared_error(y_train,rfr.predict(x_train)))))\n",
    "print('\\tTesting score :{}'.format(np.sqrt(mean_squared_error(y_test,y_pred_rfr))))\n",
    "print('Scores for GradientBoostingRegressor')\n",
    "print('\\tTraining score :{}'.format(np.sqrt(mean_squared_error(y_train,gbr.predict(x_train)))))\n",
    "print('\\tTesting score :{}'.format(np.sqrt(mean_squared_error(y_test,y_pred_gbr))))"
   ]
  },
  {
   "cell_type": "markdown",
   "id": "5a53a5b4",
   "metadata": {},
   "source": [
    "We can see GradientBoostingRegressor is a better model."
   ]
  },
  {
   "cell_type": "markdown",
   "id": "57221924",
   "metadata": {},
   "source": [
    "- ## Predicting on test data"
   ]
  },
  {
   "cell_type": "code",
   "execution_count": 156,
   "id": "51c72443",
   "metadata": {},
   "outputs": [],
   "source": [
    "# processing test data\n",
    "test_df['excerpt'] = test_df['excerpt'].apply(lambda x: lower_it(x))\n",
    "test_df['excerpt'] = test_df['excerpt'].apply(lambda x: remove_punctuation(x))\n",
    "test_df['excerpt'] = test_df['excerpt'].apply(lambda x: remove_numbers(x))\n",
    "test_df['excerpt'] = test_df['excerpt'].apply(lambda x: remove_stopwords(x))"
   ]
  },
  {
   "cell_type": "code",
   "execution_count": 157,
   "id": "b7a40877",
   "metadata": {},
   "outputs": [
    {
     "data": {
      "text/html": [
       "<div>\n",
       "<style scoped>\n",
       "    .dataframe tbody tr th:only-of-type {\n",
       "        vertical-align: middle;\n",
       "    }\n",
       "\n",
       "    .dataframe tbody tr th {\n",
       "        vertical-align: top;\n",
       "    }\n",
       "\n",
       "    .dataframe thead th {\n",
       "        text-align: right;\n",
       "    }\n",
       "</style>\n",
       "<table border=\"1\" class=\"dataframe\">\n",
       "  <thead>\n",
       "    <tr style=\"text-align: right;\">\n",
       "      <th></th>\n",
       "      <th>id</th>\n",
       "      <th>excerpt</th>\n",
       "    </tr>\n",
       "  </thead>\n",
       "  <tbody>\n",
       "    <tr>\n",
       "      <th>0</th>\n",
       "      <td>c0f722661</td>\n",
       "      <td>hope lay jacks promise would keep bright light...</td>\n",
       "    </tr>\n",
       "    <tr>\n",
       "      <th>1</th>\n",
       "      <td>f0953f0a5</td>\n",
       "      <td>dotty continued go mrs grays every night milk ...</td>\n",
       "    </tr>\n",
       "    <tr>\n",
       "      <th>2</th>\n",
       "      <td>0df072751</td>\n",
       "      <td>bright cheerful scene greeted eyes captain ray...</td>\n",
       "    </tr>\n",
       "    <tr>\n",
       "      <th>3</th>\n",
       "      <td>04caf4e0c</td>\n",
       "      <td>cell division process parent cell divides two ...</td>\n",
       "    </tr>\n",
       "    <tr>\n",
       "      <th>4</th>\n",
       "      <td>0e63f8bea</td>\n",
       "      <td>debugging process finding resolving defects pr...</td>\n",
       "    </tr>\n",
       "    <tr>\n",
       "      <th>5</th>\n",
       "      <td>12537fe78</td>\n",
       "      <td>explain transitivity let us look first totally...</td>\n",
       "    </tr>\n",
       "    <tr>\n",
       "      <th>6</th>\n",
       "      <td>965e592c0</td>\n",
       "      <td>milka john playing garden little sister playin...</td>\n",
       "    </tr>\n",
       "  </tbody>\n",
       "</table>\n",
       "</div>"
      ],
      "text/plain": [
       "          id                                            excerpt\n",
       "0  c0f722661  hope lay jacks promise would keep bright light...\n",
       "1  f0953f0a5  dotty continued go mrs grays every night milk ...\n",
       "2  0df072751  bright cheerful scene greeted eyes captain ray...\n",
       "3  04caf4e0c  cell division process parent cell divides two ...\n",
       "4  0e63f8bea  debugging process finding resolving defects pr...\n",
       "5  12537fe78  explain transitivity let us look first totally...\n",
       "6  965e592c0  milka john playing garden little sister playin..."
      ]
     },
     "execution_count": 157,
     "metadata": {},
     "output_type": "execute_result"
    }
   ],
   "source": [
    "test_df"
   ]
  },
  {
   "cell_type": "code",
   "execution_count": 159,
   "id": "55a3e76c",
   "metadata": {},
   "outputs": [],
   "source": [
    "test_x = test_df['excerpt']"
   ]
  },
  {
   "cell_type": "code",
   "execution_count": 160,
   "id": "aab7dfdc",
   "metadata": {},
   "outputs": [],
   "source": [
    "test_x = c_vec.transform(test_x).toarray()\n",
    "test_x = ss.transform(test_x)"
   ]
  },
  {
   "cell_type": "code",
   "execution_count": 162,
   "id": "fad3ef6e",
   "metadata": {},
   "outputs": [
    {
     "data": {
      "text/plain": [
       "array([-1.2881801 , -0.38699482, -0.64284677, -1.62466854, -1.48991695,\n",
       "       -0.72961661, -0.58517809])"
      ]
     },
     "execution_count": 162,
     "metadata": {},
     "output_type": "execute_result"
    }
   ],
   "source": [
    "gbr.predict(test_x)"
   ]
  },
  {
   "cell_type": "code",
   "execution_count": 166,
   "id": "b31af7a7",
   "metadata": {},
   "outputs": [],
   "source": [
    "submission = test_df[['id']]"
   ]
  },
  {
   "cell_type": "code",
   "execution_count": 167,
   "id": "f99ffc5c",
   "metadata": {},
   "outputs": [],
   "source": [
    "submission['target'] = gbr.predict(test_x)"
   ]
  },
  {
   "cell_type": "code",
   "execution_count": 168,
   "id": "88960b5e",
   "metadata": {},
   "outputs": [
    {
     "data": {
      "text/html": [
       "<div>\n",
       "<style scoped>\n",
       "    .dataframe tbody tr th:only-of-type {\n",
       "        vertical-align: middle;\n",
       "    }\n",
       "\n",
       "    .dataframe tbody tr th {\n",
       "        vertical-align: top;\n",
       "    }\n",
       "\n",
       "    .dataframe thead th {\n",
       "        text-align: right;\n",
       "    }\n",
       "</style>\n",
       "<table border=\"1\" class=\"dataframe\">\n",
       "  <thead>\n",
       "    <tr style=\"text-align: right;\">\n",
       "      <th></th>\n",
       "      <th>id</th>\n",
       "      <th>target</th>\n",
       "    </tr>\n",
       "  </thead>\n",
       "  <tbody>\n",
       "    <tr>\n",
       "      <th>0</th>\n",
       "      <td>c0f722661</td>\n",
       "      <td>-1.288180</td>\n",
       "    </tr>\n",
       "    <tr>\n",
       "      <th>1</th>\n",
       "      <td>f0953f0a5</td>\n",
       "      <td>-0.386995</td>\n",
       "    </tr>\n",
       "    <tr>\n",
       "      <th>2</th>\n",
       "      <td>0df072751</td>\n",
       "      <td>-0.642847</td>\n",
       "    </tr>\n",
       "    <tr>\n",
       "      <th>3</th>\n",
       "      <td>04caf4e0c</td>\n",
       "      <td>-1.624669</td>\n",
       "    </tr>\n",
       "    <tr>\n",
       "      <th>4</th>\n",
       "      <td>0e63f8bea</td>\n",
       "      <td>-1.489917</td>\n",
       "    </tr>\n",
       "    <tr>\n",
       "      <th>5</th>\n",
       "      <td>12537fe78</td>\n",
       "      <td>-0.729617</td>\n",
       "    </tr>\n",
       "    <tr>\n",
       "      <th>6</th>\n",
       "      <td>965e592c0</td>\n",
       "      <td>-0.585178</td>\n",
       "    </tr>\n",
       "  </tbody>\n",
       "</table>\n",
       "</div>"
      ],
      "text/plain": [
       "          id    target\n",
       "0  c0f722661 -1.288180\n",
       "1  f0953f0a5 -0.386995\n",
       "2  0df072751 -0.642847\n",
       "3  04caf4e0c -1.624669\n",
       "4  0e63f8bea -1.489917\n",
       "5  12537fe78 -0.729617\n",
       "6  965e592c0 -0.585178"
      ]
     },
     "execution_count": 168,
     "metadata": {},
     "output_type": "execute_result"
    }
   ],
   "source": [
    "submission"
   ]
  },
  {
   "cell_type": "code",
   "execution_count": 169,
   "id": "faf1c1ee",
   "metadata": {},
   "outputs": [],
   "source": [
    "submission.to_csv('submission.csv')"
   ]
  },
  {
   "cell_type": "code",
   "execution_count": null,
   "id": "96b3b953",
   "metadata": {},
   "outputs": [],
   "source": []
  }
 ],
 "metadata": {
  "kernelspec": {
   "display_name": "Python 3 (ipykernel)",
   "language": "python",
   "name": "python3"
  },
  "language_info": {
   "codemirror_mode": {
    "name": "ipython",
    "version": 3
   },
   "file_extension": ".py",
   "mimetype": "text/x-python",
   "name": "python",
   "nbconvert_exporter": "python",
   "pygments_lexer": "ipython3",
   "version": "3.9.6"
  }
 },
 "nbformat": 4,
 "nbformat_minor": 5
}
