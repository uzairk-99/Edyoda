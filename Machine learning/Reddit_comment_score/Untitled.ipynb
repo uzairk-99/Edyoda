{
 "cells": [
  {
   "cell_type": "code",
   "execution_count": 53,
   "id": "dc33f859",
   "metadata": {},
   "outputs": [],
   "source": [
    "import pandas as pd\n",
    "import numpy as np\n",
    "import matplotlib.pyplot as plt\n",
    "import seaborn as sns\n",
    "import string\n",
    "\n",
    "from sklearn.model_selection import train_test_split\n",
    "from sklearn import metrics\n",
    "from sklearn.preprocessing import StandardScaler\n",
    "from sklearn.metrics import mean_squared_error\n",
    "from sklearn.feature_extraction.text import TfidfVectorizer\n",
    "from sklearn.ensemble import RandomForestRegressor\n",
    "from sklearn.svm import SVR\n",
    "\n",
    "import nltk\n",
    "from nltk.corpus import stopwords"
   ]
  },
  {
   "cell_type": "code",
   "execution_count": 54,
   "id": "15c01eb4",
   "metadata": {},
   "outputs": [
    {
     "name": "stderr",
     "output_type": "stream",
     "text": [
      "[nltk_data] Downloading package stopwords to\n",
      "[nltk_data]     C:\\Users\\ukarj\\AppData\\Roaming\\nltk_data...\n",
      "[nltk_data]   Package stopwords is already up-to-date!\n"
     ]
    },
    {
     "data": {
      "text/plain": [
       "True"
      ]
     },
     "execution_count": 54,
     "metadata": {},
     "output_type": "execute_result"
    }
   ],
   "source": [
    "nltk.download('stopwords')"
   ]
  },
  {
   "cell_type": "code",
   "execution_count": 55,
   "id": "af383422",
   "metadata": {},
   "outputs": [],
   "source": [
    "df = pd.read_csv('Train_Data.csv')\n",
    "test_df = pd.read_csv('Test_Data.csv')"
   ]
  },
  {
   "cell_type": "code",
   "execution_count": 56,
   "id": "f3890565",
   "metadata": {},
   "outputs": [
    {
     "data": {
      "text/plain": [
       "Index(['text', 'author', 'controversiality', 'parent_text', 'parent_score',\n",
       "       'parent_votes', 'parent_author', 'parent_controversiality', 'Score'],\n",
       "      dtype='object')"
      ]
     },
     "execution_count": 56,
     "metadata": {},
     "output_type": "execute_result"
    }
   ],
   "source": [
    "df.columns"
   ]
  },
  {
   "cell_type": "code",
   "execution_count": 57,
   "id": "ef287799",
   "metadata": {},
   "outputs": [
    {
     "data": {
      "text/plain": [
       "Index(['text', 'author', 'controversiality', 'parent_text', 'parent_score',\n",
       "       'parent_votes', 'parent_author', 'parent_controversiality'],\n",
       "      dtype='object')"
      ]
     },
     "execution_count": 57,
     "metadata": {},
     "output_type": "execute_result"
    }
   ],
   "source": [
    "test_df.columns"
   ]
  },
  {
   "cell_type": "code",
   "execution_count": 58,
   "id": "cc6abd77",
   "metadata": {},
   "outputs": [
    {
     "data": {
      "text/plain": [
       "text                       0\n",
       "author                     0\n",
       "controversiality           0\n",
       "parent_text                0\n",
       "parent_score               0\n",
       "parent_votes               0\n",
       "parent_author              0\n",
       "parent_controversiality    0\n",
       "Score                      0\n",
       "dtype: int64"
      ]
     },
     "execution_count": 58,
     "metadata": {},
     "output_type": "execute_result"
    }
   ],
   "source": [
    "df.isnull().sum()"
   ]
  },
  {
   "cell_type": "code",
   "execution_count": 59,
   "id": "58cf92c5",
   "metadata": {},
   "outputs": [],
   "source": [
    "# Setting Score column as Y(Target) and dropping it from df\n",
    "Y = df['Score']\n",
    "df.drop(['Score'],axis=1,inplace=True)"
   ]
  },
  {
   "cell_type": "code",
   "execution_count": 60,
   "id": "31635566",
   "metadata": {},
   "outputs": [
    {
     "data": {
      "text/plain": [
       "((4999, 8), (1015, 8))"
      ]
     },
     "execution_count": 60,
     "metadata": {},
     "output_type": "execute_result"
    }
   ],
   "source": [
    "df.shape,test_df.shape"
   ]
  },
  {
   "cell_type": "code",
   "execution_count": 61,
   "id": "f05aa884",
   "metadata": {},
   "outputs": [],
   "source": [
    "# Combining df and test_df for better NLP\n",
    "df = df.append(test_df)"
   ]
  },
  {
   "cell_type": "code",
   "execution_count": 62,
   "id": "eaa3c85e",
   "metadata": {},
   "outputs": [
    {
     "data": {
      "text/html": [
       "<div>\n",
       "<style scoped>\n",
       "    .dataframe tbody tr th:only-of-type {\n",
       "        vertical-align: middle;\n",
       "    }\n",
       "\n",
       "    .dataframe tbody tr th {\n",
       "        vertical-align: top;\n",
       "    }\n",
       "\n",
       "    .dataframe thead th {\n",
       "        text-align: right;\n",
       "    }\n",
       "</style>\n",
       "<table border=\"1\" class=\"dataframe\">\n",
       "  <thead>\n",
       "    <tr style=\"text-align: right;\">\n",
       "      <th></th>\n",
       "      <th>text</th>\n",
       "      <th>author</th>\n",
       "      <th>controversiality</th>\n",
       "      <th>parent_text</th>\n",
       "      <th>parent_score</th>\n",
       "      <th>parent_votes</th>\n",
       "      <th>parent_author</th>\n",
       "      <th>parent_controversiality</th>\n",
       "    </tr>\n",
       "  </thead>\n",
       "  <tbody>\n",
       "    <tr>\n",
       "      <th>0</th>\n",
       "      <td>i must be retarded i thought it meant con lawl...</td>\n",
       "      <td>['calantus']</td>\n",
       "      <td>0</td>\n",
       "      <td>It's quite unfair to call Hillary Clinton a \"c...</td>\n",
       "      <td>245</td>\n",
       "      <td>245</td>\n",
       "      <td>Whisper</td>\n",
       "      <td>0</td>\n",
       "    </tr>\n",
       "    <tr>\n",
       "      <th>1</th>\n",
       "      <td>DOWNMODDED FOR IRRELEVANCE? ISN'T THAT HOW THI...</td>\n",
       "      <td>['Shadowrose']</td>\n",
       "      <td>0</td>\n",
       "      <td>upmodded for awesome kindness</td>\n",
       "      <td>32</td>\n",
       "      <td>32</td>\n",
       "      <td>b3mus3d</td>\n",
       "      <td>0</td>\n",
       "    </tr>\n",
       "    <tr>\n",
       "      <th>2</th>\n",
       "      <td>THAT WAS SUPPOSED TO MEAN \" BY A PLACE WHERE P...</td>\n",
       "      <td>['NExusRush']</td>\n",
       "      <td>0</td>\n",
       "      <td>What the hell does \"because its by a golf cour...</td>\n",
       "      <td>12</td>\n",
       "      <td>12</td>\n",
       "      <td>mr_jellyneck</td>\n",
       "      <td>0</td>\n",
       "    </tr>\n",
       "    <tr>\n",
       "      <th>3</th>\n",
       "      <td>I THOUGHT EVERYONE DID; ITS FUCKING DELICIOUS :\\</td>\n",
       "      <td>['R0N_SWANS0N']</td>\n",
       "      <td>0</td>\n",
       "      <td>NICE TRY JENNIFER!  I KNOW IT'S YOU AND I KNOW...</td>\n",
       "      <td>117</td>\n",
       "      <td>117</td>\n",
       "      <td>ometzo</td>\n",
       "      <td>0</td>\n",
       "    </tr>\n",
       "    <tr>\n",
       "      <th>4</th>\n",
       "      <td>Great work, Zhesbe! I'd give you a raise but y...</td>\n",
       "      <td>['reddums']</td>\n",
       "      <td>0</td>\n",
       "      <td>\"HEY BOSS COME LOOK AT WHAT I DID!\"</td>\n",
       "      <td>1933</td>\n",
       "      <td>1933</td>\n",
       "      <td>Zhesbe</td>\n",
       "      <td>0</td>\n",
       "    </tr>\n",
       "    <tr>\n",
       "      <th>...</th>\n",
       "      <td>...</td>\n",
       "      <td>...</td>\n",
       "      <td>...</td>\n",
       "      <td>...</td>\n",
       "      <td>...</td>\n",
       "      <td>...</td>\n",
       "      <td>...</td>\n",
       "      <td>...</td>\n",
       "    </tr>\n",
       "    <tr>\n",
       "      <th>1010</th>\n",
       "      <td>HTTP://I.IMGUR.COM/OZJD6.GIF</td>\n",
       "      <td>['GeneralWarts']</td>\n",
       "      <td>0</td>\n",
       "      <td>http://25.media.tumblr.com/tumblr_m35zo3hdID1r...</td>\n",
       "      <td>181</td>\n",
       "      <td>181</td>\n",
       "      <td>Octopuscabbage</td>\n",
       "      <td>0</td>\n",
       "    </tr>\n",
       "    <tr>\n",
       "      <th>1011</th>\n",
       "      <td>RIVEN OP</td>\n",
       "      <td>['Esperek']</td>\n",
       "      <td>0</td>\n",
       "      <td>being on fire would fit into his lore</td>\n",
       "      <td>6</td>\n",
       "      <td>6</td>\n",
       "      <td>Yvern</td>\n",
       "      <td>0</td>\n",
       "    </tr>\n",
       "    <tr>\n",
       "      <th>1012</th>\n",
       "      <td>WOW, WELL FUCK MARK.</td>\n",
       "      <td>['adrenosine']</td>\n",
       "      <td>0</td>\n",
       "      <td>Oh he is!\\n\\nHis life is miles and miles ahead...</td>\n",
       "      <td>765</td>\n",
       "      <td>765</td>\n",
       "      <td>defeatedbird</td>\n",
       "      <td>0</td>\n",
       "    </tr>\n",
       "    <tr>\n",
       "      <th>1013</th>\n",
       "      <td>ALLTSÅ JAG STÄLLDE EN FRÅGA, DU SÄGER ALLTSÅ A...</td>\n",
       "      <td>['vattenpuss']</td>\n",
       "      <td>0</td>\n",
       "      <td>För att förbättra informationen har Migrations...</td>\n",
       "      <td>13</td>\n",
       "      <td>13</td>\n",
       "      <td>rudolf_hesst</td>\n",
       "      <td>0</td>\n",
       "    </tr>\n",
       "    <tr>\n",
       "      <th>1014</th>\n",
       "      <td>ANYONE THAT WOULD DO THAT TO A DOG FOR NO VALI...</td>\n",
       "      <td>['VoraciousTofu']</td>\n",
       "      <td>0</td>\n",
       "      <td>im pretty sure i'd brick someones window for...</td>\n",
       "      <td>497</td>\n",
       "      <td>497</td>\n",
       "      <td>foxytr900</td>\n",
       "      <td>0</td>\n",
       "    </tr>\n",
       "  </tbody>\n",
       "</table>\n",
       "<p>6014 rows × 8 columns</p>\n",
       "</div>"
      ],
      "text/plain": [
       "                                                   text             author  \\\n",
       "0     i must be retarded i thought it meant con lawl...       ['calantus']   \n",
       "1     DOWNMODDED FOR IRRELEVANCE? ISN'T THAT HOW THI...     ['Shadowrose']   \n",
       "2     THAT WAS SUPPOSED TO MEAN \" BY A PLACE WHERE P...      ['NExusRush']   \n",
       "3      I THOUGHT EVERYONE DID; ITS FUCKING DELICIOUS :\\    ['R0N_SWANS0N']   \n",
       "4     Great work, Zhesbe! I'd give you a raise but y...        ['reddums']   \n",
       "...                                                 ...                ...   \n",
       "1010                       HTTP://I.IMGUR.COM/OZJD6.GIF   ['GeneralWarts']   \n",
       "1011                                          RIVEN OP         ['Esperek']   \n",
       "1012                               WOW, WELL FUCK MARK.     ['adrenosine']   \n",
       "1013  ALLTSÅ JAG STÄLLDE EN FRÅGA, DU SÄGER ALLTSÅ A...     ['vattenpuss']   \n",
       "1014  ANYONE THAT WOULD DO THAT TO A DOG FOR NO VALI...  ['VoraciousTofu']   \n",
       "\n",
       "      controversiality                                        parent_text  \\\n",
       "0                    0  It's quite unfair to call Hillary Clinton a \"c...   \n",
       "1                    0                      upmodded for awesome kindness   \n",
       "2                    0  What the hell does \"because its by a golf cour...   \n",
       "3                    0  NICE TRY JENNIFER!  I KNOW IT'S YOU AND I KNOW...   \n",
       "4                    0               \"HEY BOSS COME LOOK AT WHAT I DID!\"    \n",
       "...                ...                                                ...   \n",
       "1010                 0  http://25.media.tumblr.com/tumblr_m35zo3hdID1r...   \n",
       "1011                 0              being on fire would fit into his lore   \n",
       "1012                 0  Oh he is!\\n\\nHis life is miles and miles ahead...   \n",
       "1013                 0  För att förbättra informationen har Migrations...   \n",
       "1014                 0    im pretty sure i'd brick someones window for...   \n",
       "\n",
       "      parent_score  parent_votes   parent_author  parent_controversiality  \n",
       "0              245           245         Whisper                        0  \n",
       "1               32            32         b3mus3d                        0  \n",
       "2               12            12    mr_jellyneck                        0  \n",
       "3              117           117          ometzo                        0  \n",
       "4             1933          1933          Zhesbe                        0  \n",
       "...            ...           ...             ...                      ...  \n",
       "1010           181           181  Octopuscabbage                        0  \n",
       "1011             6             6           Yvern                        0  \n",
       "1012           765           765    defeatedbird                        0  \n",
       "1013            13            13    rudolf_hesst                        0  \n",
       "1014           497           497       foxytr900                        0  \n",
       "\n",
       "[6014 rows x 8 columns]"
      ]
     },
     "execution_count": 62,
     "metadata": {},
     "output_type": "execute_result"
    }
   ],
   "source": [
    "df"
   ]
  },
  {
   "cell_type": "code",
   "execution_count": 63,
   "id": "de382da5",
   "metadata": {},
   "outputs": [
    {
     "data": {
      "text/plain": [
       "text                       6000\n",
       "author                     5158\n",
       "controversiality              2\n",
       "parent_text                6003\n",
       "parent_score               1099\n",
       "parent_votes               1099\n",
       "parent_author              5309\n",
       "parent_controversiality       2\n",
       "dtype: int64"
      ]
     },
     "execution_count": 63,
     "metadata": {},
     "output_type": "execute_result"
    }
   ],
   "source": [
    "df.nunique()"
   ]
  },
  {
   "cell_type": "code",
   "execution_count": 64,
   "id": "b9bdf744",
   "metadata": {},
   "outputs": [
    {
     "data": {
      "text/plain": [
       "(0, 11)"
      ]
     },
     "execution_count": 64,
     "metadata": {},
     "output_type": "execute_result"
    }
   ],
   "source": [
    "(df['parent_score']!=df['parent_votes']).sum(),(df['controversiality']!=df['parent_controversiality']).sum()"
   ]
  },
  {
   "cell_type": "code",
   "execution_count": 65,
   "id": "f240c270",
   "metadata": {},
   "outputs": [],
   "source": [
    "#Since parent_score and parent_votes are same dropping parent_votes from the df\n",
    "df.drop(['parent_votes'],axis=1,inplace=True)"
   ]
  },
  {
   "cell_type": "markdown",
   "id": "d4351fc3",
   "metadata": {},
   "source": [
    "- ## Text Processing"
   ]
  },
  {
   "cell_type": "code",
   "execution_count": 66,
   "id": "a3f5b5ac",
   "metadata": {},
   "outputs": [],
   "source": [
    "# Cleaning the data by removing punctuations, stopwords, etc"
   ]
  },
  {
   "cell_type": "code",
   "execution_count": 67,
   "id": "041f07ce",
   "metadata": {},
   "outputs": [],
   "source": [
    "# defining  functions for cleaning text\n",
    "def lower_it(text):\n",
    "    '''Function to convert text to lower case'''\n",
    "    return text.lower()\n",
    "\n",
    "def remove_punctuation(text):\n",
    "    '''Function to remove punctuations'''\n",
    "    new_text = ''.join([i for i in text if i not in string.punctuation])\n",
    "    return new_text\n",
    "\n",
    "def remove_stopwords(text):\n",
    "    '''Function to remove stopwords from text'''\n",
    "    stop_words = nltk.corpus.stopwords.words('english')\n",
    "    new_text = ' '.join([i for i in text.split() if i not in stop_words])\n",
    "    return new_text"
   ]
  },
  {
   "cell_type": "code",
   "execution_count": 68,
   "id": "26324a3a",
   "metadata": {},
   "outputs": [],
   "source": [
    "# Applying cleaning functions on text columns\n",
    "df['text'] = df['text'].apply(lambda x: lower_it(x))\n",
    "df['text'] = df['text'].apply(lambda x: remove_punctuation(x))\n",
    "df['text'] = df['text'].apply(lambda x: remove_stopwords(x))\n",
    "df['parent_text'] = df['parent_text'].apply(lambda x: lower_it(x))\n",
    "df['parent_text'] = df['parent_text'].apply(lambda x: remove_punctuation(x))\n",
    "df['parent_text'] = df['parent_text'].apply(lambda x: remove_stopwords(x))"
   ]
  },
  {
   "cell_type": "code",
   "execution_count": 69,
   "id": "6f9e6e20",
   "metadata": {},
   "outputs": [
    {
     "data": {
      "text/html": [
       "<div>\n",
       "<style scoped>\n",
       "    .dataframe tbody tr th:only-of-type {\n",
       "        vertical-align: middle;\n",
       "    }\n",
       "\n",
       "    .dataframe tbody tr th {\n",
       "        vertical-align: top;\n",
       "    }\n",
       "\n",
       "    .dataframe thead th {\n",
       "        text-align: right;\n",
       "    }\n",
       "</style>\n",
       "<table border=\"1\" class=\"dataframe\">\n",
       "  <thead>\n",
       "    <tr style=\"text-align: right;\">\n",
       "      <th></th>\n",
       "      <th>text</th>\n",
       "      <th>author</th>\n",
       "      <th>controversiality</th>\n",
       "      <th>parent_text</th>\n",
       "      <th>parent_score</th>\n",
       "      <th>parent_author</th>\n",
       "      <th>parent_controversiality</th>\n",
       "    </tr>\n",
       "  </thead>\n",
       "  <tbody>\n",
       "    <tr>\n",
       "      <th>0</th>\n",
       "      <td>must retarded thought meant con lawl oh well work</td>\n",
       "      <td>['calantus']</td>\n",
       "      <td>0</td>\n",
       "      <td>quite unfair call hillary clinton cunt lacks d...</td>\n",
       "      <td>245</td>\n",
       "      <td>Whisper</td>\n",
       "      <td>0</td>\n",
       "    </tr>\n",
       "    <tr>\n",
       "      <th>1</th>\n",
       "      <td>downmodded irrelevance isnt works</td>\n",
       "      <td>['Shadowrose']</td>\n",
       "      <td>0</td>\n",
       "      <td>upmodded awesome kindness</td>\n",
       "      <td>32</td>\n",
       "      <td>b3mus3d</td>\n",
       "      <td>0</td>\n",
       "    </tr>\n",
       "    <tr>\n",
       "      <th>2</th>\n",
       "      <td>supposed mean place people undoubtedly snake b...</td>\n",
       "      <td>['NExusRush']</td>\n",
       "      <td>0</td>\n",
       "      <td>hell golf course anything think bunch rich whi...</td>\n",
       "      <td>12</td>\n",
       "      <td>mr_jellyneck</td>\n",
       "      <td>0</td>\n",
       "    </tr>\n",
       "    <tr>\n",
       "      <th>3</th>\n",
       "      <td>thought everyone fucking delicious</td>\n",
       "      <td>['R0N_SWANS0N']</td>\n",
       "      <td>0</td>\n",
       "      <td>nice try jennifer know know like baba ganoush</td>\n",
       "      <td>117</td>\n",
       "      <td>ometzo</td>\n",
       "      <td>0</td>\n",
       "    </tr>\n",
       "    <tr>\n",
       "      <th>4</th>\n",
       "      <td>great work zhesbe id give raise seem handled</td>\n",
       "      <td>['reddums']</td>\n",
       "      <td>0</td>\n",
       "      <td>hey boss come look</td>\n",
       "      <td>1933</td>\n",
       "      <td>Zhesbe</td>\n",
       "      <td>0</td>\n",
       "    </tr>\n",
       "    <tr>\n",
       "      <th>...</th>\n",
       "      <td>...</td>\n",
       "      <td>...</td>\n",
       "      <td>...</td>\n",
       "      <td>...</td>\n",
       "      <td>...</td>\n",
       "      <td>...</td>\n",
       "      <td>...</td>\n",
       "    </tr>\n",
       "    <tr>\n",
       "      <th>1010</th>\n",
       "      <td>httpiimgurcomozjd6gif</td>\n",
       "      <td>['GeneralWarts']</td>\n",
       "      <td>0</td>\n",
       "      <td>http25mediatumblrcomtumblrm35zo3hdid1r2dv2oo14...</td>\n",
       "      <td>181</td>\n",
       "      <td>Octopuscabbage</td>\n",
       "      <td>0</td>\n",
       "    </tr>\n",
       "    <tr>\n",
       "      <th>1011</th>\n",
       "      <td>riven op</td>\n",
       "      <td>['Esperek']</td>\n",
       "      <td>0</td>\n",
       "      <td>fire would fit lore</td>\n",
       "      <td>6</td>\n",
       "      <td>Yvern</td>\n",
       "      <td>0</td>\n",
       "    </tr>\n",
       "    <tr>\n",
       "      <th>1012</th>\n",
       "      <td>wow well fuck mark</td>\n",
       "      <td>['adrenosine']</td>\n",
       "      <td>0</td>\n",
       "      <td>oh life miles miles ahead mine im lonely neuro...</td>\n",
       "      <td>765</td>\n",
       "      <td>defeatedbird</td>\n",
       "      <td>0</td>\n",
       "    </tr>\n",
       "    <tr>\n",
       "      <th>1013</th>\n",
       "      <td>alltså jag ställde en fråga du säger alltså at...</td>\n",
       "      <td>['vattenpuss']</td>\n",
       "      <td>0</td>\n",
       "      <td>för att förbättra informationen har migrations...</td>\n",
       "      <td>13</td>\n",
       "      <td>rudolf_hesst</td>\n",
       "      <td>0</td>\n",
       "    </tr>\n",
       "    <tr>\n",
       "      <th>1014</th>\n",
       "      <td>anyone would dog valid reason deserves dead at...</td>\n",
       "      <td>['VoraciousTofu']</td>\n",
       "      <td>0</td>\n",
       "      <td>im pretty sure id brick someones window free d...</td>\n",
       "      <td>497</td>\n",
       "      <td>foxytr900</td>\n",
       "      <td>0</td>\n",
       "    </tr>\n",
       "  </tbody>\n",
       "</table>\n",
       "<p>6014 rows × 7 columns</p>\n",
       "</div>"
      ],
      "text/plain": [
       "                                                   text             author  \\\n",
       "0     must retarded thought meant con lawl oh well work       ['calantus']   \n",
       "1                     downmodded irrelevance isnt works     ['Shadowrose']   \n",
       "2     supposed mean place people undoubtedly snake b...      ['NExusRush']   \n",
       "3                    thought everyone fucking delicious    ['R0N_SWANS0N']   \n",
       "4          great work zhesbe id give raise seem handled        ['reddums']   \n",
       "...                                                 ...                ...   \n",
       "1010                              httpiimgurcomozjd6gif   ['GeneralWarts']   \n",
       "1011                                           riven op        ['Esperek']   \n",
       "1012                                 wow well fuck mark     ['adrenosine']   \n",
       "1013  alltså jag ställde en fråga du säger alltså at...     ['vattenpuss']   \n",
       "1014  anyone would dog valid reason deserves dead at...  ['VoraciousTofu']   \n",
       "\n",
       "      controversiality                                        parent_text  \\\n",
       "0                    0  quite unfair call hillary clinton cunt lacks d...   \n",
       "1                    0                          upmodded awesome kindness   \n",
       "2                    0  hell golf course anything think bunch rich whi...   \n",
       "3                    0      nice try jennifer know know like baba ganoush   \n",
       "4                    0                                 hey boss come look   \n",
       "...                ...                                                ...   \n",
       "1010                 0  http25mediatumblrcomtumblrm35zo3hdid1r2dv2oo14...   \n",
       "1011                 0                                fire would fit lore   \n",
       "1012                 0  oh life miles miles ahead mine im lonely neuro...   \n",
       "1013                 0  för att förbättra informationen har migrations...   \n",
       "1014                 0  im pretty sure id brick someones window free d...   \n",
       "\n",
       "      parent_score   parent_author  parent_controversiality  \n",
       "0              245         Whisper                        0  \n",
       "1               32         b3mus3d                        0  \n",
       "2               12    mr_jellyneck                        0  \n",
       "3              117          ometzo                        0  \n",
       "4             1933          Zhesbe                        0  \n",
       "...            ...             ...                      ...  \n",
       "1010           181  Octopuscabbage                        0  \n",
       "1011             6           Yvern                        0  \n",
       "1012           765    defeatedbird                        0  \n",
       "1013            13    rudolf_hesst                        0  \n",
       "1014           497       foxytr900                        0  \n",
       "\n",
       "[6014 rows x 7 columns]"
      ]
     },
     "execution_count": 69,
     "metadata": {},
     "output_type": "execute_result"
    }
   ],
   "source": [
    "df"
   ]
  },
  {
   "cell_type": "code",
   "execution_count": 70,
   "id": "d1cd14d3",
   "metadata": {},
   "outputs": [],
   "source": [
    "# removing punctuations from author column\n",
    "df['author'] = df['author'].apply(lambda x: remove_punctuation(x))"
   ]
  },
  {
   "cell_type": "code",
   "execution_count": 71,
   "id": "c93ac59c",
   "metadata": {},
   "outputs": [],
   "source": [
    "tfid = TfidfVectorizer(max_features=100)"
   ]
  },
  {
   "cell_type": "code",
   "execution_count": 72,
   "id": "62194306",
   "metadata": {},
   "outputs": [],
   "source": [
    "df_vectored = tfid.fit_transform(df['text'],df['parent_text']).toarray()"
   ]
  },
  {
   "cell_type": "code",
   "execution_count": 73,
   "id": "72186b59",
   "metadata": {},
   "outputs": [
    {
     "data": {
      "text/plain": [
       "(6014, 100)"
      ]
     },
     "execution_count": 73,
     "metadata": {},
     "output_type": "execute_result"
    }
   ],
   "source": [
    "df_vectored.shape"
   ]
  },
  {
   "cell_type": "code",
   "execution_count": 74,
   "id": "28494e5d",
   "metadata": {},
   "outputs": [
    {
     "name": "stderr",
     "output_type": "stream",
     "text": [
      "c:\\users\\ukarj\\appdata\\local\\programs\\python\\python39\\lib\\site-packages\\sklearn\\utils\\deprecation.py:87: FutureWarning: Function get_feature_names is deprecated; get_feature_names is deprecated in 1.0 and will be removed in 1.2. Please use get_feature_names_out instead.\n",
      "  warnings.warn(msg, category=FutureWarning)\n"
     ]
    }
   ],
   "source": [
    "df_vectored = pd.DataFrame(df_vectored,columns=tfid.get_feature_names())"
   ]
  },
  {
   "cell_type": "code",
   "execution_count": 75,
   "id": "896f9cb5",
   "metadata": {},
   "outputs": [],
   "source": [
    "# numerical columns from df\n",
    "numeric_cols = ['controversiality','parent_score','parent_controversiality']"
   ]
  },
  {
   "cell_type": "code",
   "execution_count": 76,
   "id": "460634fe",
   "metadata": {},
   "outputs": [],
   "source": [
    "df.reset_index(drop=True,inplace=True)"
   ]
  },
  {
   "cell_type": "code",
   "execution_count": 77,
   "id": "d6adf2ad",
   "metadata": {},
   "outputs": [],
   "source": [
    "# Combining the vectored column dataframe and numerical columns from original dataframe\n",
    "data = pd.concat([df_vectored,df[numeric_cols]],axis=1)"
   ]
  },
  {
   "cell_type": "code",
   "execution_count": 78,
   "id": "3ed1a0f8",
   "metadata": {},
   "outputs": [],
   "source": [
    "# dividing the data in train and test as earlier \n",
    "train = data.iloc[:4999]\n",
    "test = data.iloc[4999:]"
   ]
  },
  {
   "cell_type": "code",
   "execution_count": 79,
   "id": "0ecc7388",
   "metadata": {},
   "outputs": [
    {
     "data": {
      "text/plain": [
       "((4999, 103), (1015, 103))"
      ]
     },
     "execution_count": 79,
     "metadata": {},
     "output_type": "execute_result"
    }
   ],
   "source": [
    "train.shape,test.shape"
   ]
  },
  {
   "cell_type": "code",
   "execution_count": 80,
   "id": "828d3796",
   "metadata": {},
   "outputs": [],
   "source": [
    "# Splitting the training data in further training and testing\n",
    "x_train,x_test,y_train,y_test = train_test_split(train,Y,test_size=0.2,random_state=29)"
   ]
  },
  {
   "cell_type": "code",
   "execution_count": 87,
   "id": "b5589efd",
   "metadata": {},
   "outputs": [],
   "source": [
    "rfr = RandomForestRegressor()"
   ]
  },
  {
   "cell_type": "code",
   "execution_count": 88,
   "id": "8772142c",
   "metadata": {},
   "outputs": [
    {
     "data": {
      "text/plain": [
       "RandomForestRegressor()"
      ]
     },
     "execution_count": 88,
     "metadata": {},
     "output_type": "execute_result"
    }
   ],
   "source": [
    "rfr.fit(x_train,y_train)"
   ]
  },
  {
   "cell_type": "code",
   "execution_count": 89,
   "id": "1b7aae8b",
   "metadata": {},
   "outputs": [],
   "source": [
    "svr = SVR()"
   ]
  },
  {
   "cell_type": "code",
   "execution_count": 90,
   "id": "2b38525d",
   "metadata": {},
   "outputs": [
    {
     "data": {
      "text/plain": [
       "SVR()"
      ]
     },
     "execution_count": 90,
     "metadata": {},
     "output_type": "execute_result"
    }
   ],
   "source": [
    "svr.fit(x_train,y_train)"
   ]
  },
  {
   "cell_type": "code",
   "execution_count": 91,
   "id": "55366884",
   "metadata": {},
   "outputs": [],
   "source": [
    "rfr_train_pred = rfr.predict(x_train)\n",
    "rfr_test_pred = rfr.predict(x_test)\n",
    "\n",
    "svr_train_pred = svr.predict(x_train)\n",
    "svr_test_pred = svr.predict(x_test)"
   ]
  },
  {
   "cell_type": "code",
   "execution_count": 92,
   "id": "12af8e14",
   "metadata": {},
   "outputs": [
    {
     "name": "stdout",
     "output_type": "stream",
     "text": [
      "\n",
      "Random Forest Regressor\n",
      "\n",
      "\tTraining scores : \n",
      "\t\tRMSE :  77.66240135260045\n",
      "\t\tR2 :  0.8476958254891407\n",
      "\n",
      "\tTesting scores : \n",
      "\t\tRMSE :  186.59646648295058\n",
      "\t\tR2 :  0.1904420659782814\n",
      "\n",
      "Support Vector Regressor\n",
      "\n",
      "\tTraining scores : \n",
      "\t\tRMSE :  179.93042733732293\n",
      "\t\tR2 :  0.1824780915724834\n",
      "\n",
      "\tTesting scores : \n",
      "\t\tRMSE :  188.7194762867934\n",
      "\t\tR2 :  0.17191570528295008\n"
     ]
    }
   ],
   "source": [
    "print('\\nRandom Forest Regressor')\n",
    "print('\\n\\tTraining scores : ')\n",
    "print('\\t\\tRMSE : ',np.sqrt(metrics.mean_squared_error(y_train,rfr_train_pred)))\n",
    "print('\\t\\tR2 : ',metrics.r2_score(y_train,rfr_train_pred))\n",
    "print('\\n\\tTesting scores : ')\n",
    "print('\\t\\tRMSE : ',np.sqrt(metrics.mean_squared_error(y_test,rfr_test_pred)))\n",
    "print('\\t\\tR2 : ',metrics.r2_score(y_test,rfr_test_pred))\n",
    "\n",
    "print('\\nSupport Vector Regressor')\n",
    "print('\\n\\tTraining scores : ')\n",
    "print('\\t\\tRMSE : ',np.sqrt(metrics.mean_squared_error(y_train,svr_train_pred)))\n",
    "print('\\t\\tR2 : ',metrics.r2_score(y_train,svr_train_pred))\n",
    "print('\\n\\tTesting scores : ')\n",
    "print('\\t\\tRMSE : ',np.sqrt(metrics.mean_squared_error(y_test,svr_test_pred)))\n",
    "print('\\t\\tR2 : ',metrics.r2_score(y_test,svr_test_pred))"
   ]
  },
  {
   "cell_type": "code",
   "execution_count": 95,
   "id": "6186e176",
   "metadata": {},
   "outputs": [],
   "source": [
    "# Predicting on test data\n",
    "rfr_predict_test = rfr.predict(test)\n",
    "svr_predict_test = svr.predict(test)"
   ]
  },
  {
   "cell_type": "code",
   "execution_count": 108,
   "id": "6622f593",
   "metadata": {},
   "outputs": [],
   "source": [
    "submission1 = pd.DataFrame(rfr_predict_test,columns=[('prediction')])"
   ]
  },
  {
   "cell_type": "code",
   "execution_count": 102,
   "id": "b6df0ccb",
   "metadata": {},
   "outputs": [],
   "source": [
    "submission2 = pd.DataFrame(svr_predict_test,columns=[('prediction')])"
   ]
  },
  {
   "cell_type": "code",
   "execution_count": 112,
   "id": "d1fb3a64",
   "metadata": {},
   "outputs": [],
   "source": [
    "submission1.to_csv('sub1.csv',index=False)\n",
    "submission2.to_csv('sub2.csv',index=False)"
   ]
  },
  {
   "cell_type": "code",
   "execution_count": 109,
   "id": "06d7227d",
   "metadata": {},
   "outputs": [
    {
     "data": {
      "text/html": [
       "<div>\n",
       "<style scoped>\n",
       "    .dataframe tbody tr th:only-of-type {\n",
       "        vertical-align: middle;\n",
       "    }\n",
       "\n",
       "    .dataframe tbody tr th {\n",
       "        vertical-align: top;\n",
       "    }\n",
       "\n",
       "    .dataframe thead th {\n",
       "        text-align: right;\n",
       "    }\n",
       "</style>\n",
       "<table border=\"1\" class=\"dataframe\">\n",
       "  <thead>\n",
       "    <tr style=\"text-align: right;\">\n",
       "      <th></th>\n",
       "      <th>prediction</th>\n",
       "    </tr>\n",
       "  </thead>\n",
       "  <tbody>\n",
       "    <tr>\n",
       "      <th>0</th>\n",
       "      <td>187.920000</td>\n",
       "    </tr>\n",
       "    <tr>\n",
       "      <th>1</th>\n",
       "      <td>23.217500</td>\n",
       "    </tr>\n",
       "    <tr>\n",
       "      <th>2</th>\n",
       "      <td>-0.148836</td>\n",
       "    </tr>\n",
       "    <tr>\n",
       "      <th>3</th>\n",
       "      <td>229.350000</td>\n",
       "    </tr>\n",
       "    <tr>\n",
       "      <th>4</th>\n",
       "      <td>15.180350</td>\n",
       "    </tr>\n",
       "    <tr>\n",
       "      <th>...</th>\n",
       "      <td>...</td>\n",
       "    </tr>\n",
       "    <tr>\n",
       "      <th>1010</th>\n",
       "      <td>141.892333</td>\n",
       "    </tr>\n",
       "    <tr>\n",
       "      <th>1011</th>\n",
       "      <td>-5.063141</td>\n",
       "    </tr>\n",
       "    <tr>\n",
       "      <th>1012</th>\n",
       "      <td>277.910000</td>\n",
       "    </tr>\n",
       "    <tr>\n",
       "      <th>1013</th>\n",
       "      <td>24.447270</td>\n",
       "    </tr>\n",
       "    <tr>\n",
       "      <th>1014</th>\n",
       "      <td>211.740000</td>\n",
       "    </tr>\n",
       "  </tbody>\n",
       "</table>\n",
       "<p>1015 rows × 1 columns</p>\n",
       "</div>"
      ],
      "text/plain": [
       "      prediction\n",
       "0     187.920000\n",
       "1      23.217500\n",
       "2      -0.148836\n",
       "3     229.350000\n",
       "4      15.180350\n",
       "...          ...\n",
       "1010  141.892333\n",
       "1011   -5.063141\n",
       "1012  277.910000\n",
       "1013   24.447270\n",
       "1014  211.740000\n",
       "\n",
       "[1015 rows x 1 columns]"
      ]
     },
     "execution_count": 109,
     "metadata": {},
     "output_type": "execute_result"
    }
   ],
   "source": [
    "submission1"
   ]
  },
  {
   "cell_type": "code",
   "execution_count": null,
   "id": "ceed699a",
   "metadata": {},
   "outputs": [],
   "source": []
  }
 ],
 "metadata": {
  "kernelspec": {
   "display_name": "Python 3 (ipykernel)",
   "language": "python",
   "name": "python3"
  },
  "language_info": {
   "codemirror_mode": {
    "name": "ipython",
    "version": 3
   },
   "file_extension": ".py",
   "mimetype": "text/x-python",
   "name": "python",
   "nbconvert_exporter": "python",
   "pygments_lexer": "ipython3",
   "version": "3.9.6"
  }
 },
 "nbformat": 4,
 "nbformat_minor": 5
}
