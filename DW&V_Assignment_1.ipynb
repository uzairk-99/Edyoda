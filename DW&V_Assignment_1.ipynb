{
 "cells": [
  {
   "cell_type": "code",
   "execution_count": 1,
   "id": "392ad0dd",
   "metadata": {},
   "outputs": [],
   "source": [
    "import numpy as np"
   ]
  },
  {
   "cell_type": "markdown",
   "id": "c1537417",
   "metadata": {},
   "source": [
    "## 1. Create a null vector of size 10 but the fifth value which is 1."
   ]
  },
  {
   "cell_type": "code",
   "execution_count": 2,
   "id": "589fec4a",
   "metadata": {},
   "outputs": [
    {
     "name": "stdout",
     "output_type": "stream",
     "text": [
      "[0. 0. 0. 0. 1. 0. 0. 0. 0. 0.]\n"
     ]
    }
   ],
   "source": [
    "array1=np.zeros(10)  #Creating an array of size 10 with all zeros.\n",
    "array1[4]=1  #Modifying the array to get fifth element as 1.\n",
    "print(array1)"
   ]
  },
  {
   "cell_type": "markdown",
   "id": "d5dee9b9",
   "metadata": {},
   "source": [
    "## 2. Create a vector with values ranging from 10 to 49."
   ]
  },
  {
   "cell_type": "code",
   "execution_count": 3,
   "id": "98368fc7",
   "metadata": {},
   "outputs": [
    {
     "name": "stdout",
     "output_type": "stream",
     "text": [
      "[10 11 12 13 14 15 16 17 18 19 20 21 22 23 24 25 26 27 28 29 30 31 32 33\n",
      " 34 35 36 37 38 39 40 41 42 43 44 45 46 47 48 49]\n"
     ]
    }
   ],
   "source": [
    "array2=np.arange(10,50)  #Creating an array from 10 to 49 with arange function of numpy.\n",
    "print(array2)"
   ]
  },
  {
   "cell_type": "markdown",
   "id": "67564582",
   "metadata": {},
   "source": [
    "##  3. Create a 3x3 matrix with values ranging from 0 to 8"
   ]
  },
  {
   "cell_type": "code",
   "execution_count": 4,
   "id": "00e3ed98",
   "metadata": {},
   "outputs": [
    {
     "name": "stdout",
     "output_type": "stream",
     "text": [
      "[[0 1 2]\n",
      " [3 4 5]\n",
      " [6 7 8]]\n"
     ]
    }
   ],
   "source": [
    "array3=np.arange(0,9).reshape(3,3)   #Creating an 1D array with arange function then using reshape to convert it into a 3x3 matrix.\n",
    "print(array3)"
   ]
  },
  {
   "cell_type": "markdown",
   "id": "d4aad58e",
   "metadata": {},
   "source": [
    "## 4. Find indices of non-zero elements from [1,2,0,0,4,0]"
   ]
  },
  {
   "cell_type": "code",
   "execution_count": 5,
   "id": "0d76e78d",
   "metadata": {},
   "outputs": [
    {
     "name": "stdout",
     "output_type": "stream",
     "text": [
      "0\n",
      "1\n",
      "4\n"
     ]
    }
   ],
   "source": [
    "array4=np.array([1,2,0,0,4,0])   #Creating an array as given.\n",
    "print(*array4.nonzero()[0],sep='\\n')   #Using .nonzero() to get the indices with non zero values \n",
    "                                       #Slicing it with [0] to get just the list of indices\n",
    "                                       #Using * at the beginning to uinpack this list\n",
    "                                       #sep='\\n' to print indices with non zeros on separate lines"
   ]
  },
  {
   "cell_type": "code",
   "execution_count": 6,
   "id": "7ba3be6c",
   "metadata": {},
   "outputs": [
    {
     "name": "stdout",
     "output_type": "stream",
     "text": [
      "(array([0, 1, 4], dtype=int64),)\n"
     ]
    }
   ],
   "source": [
    "# Or simply just\n",
    "print(array4.nonzero())"
   ]
  },
  {
   "cell_type": "markdown",
   "id": "d790d100",
   "metadata": {},
   "source": [
    "## 5. Create a 10x10 array with random values and find the minimum and maximum values."
   ]
  },
  {
   "cell_type": "code",
   "execution_count": 7,
   "id": "3d143b54",
   "metadata": {},
   "outputs": [
    {
     "name": "stdout",
     "output_type": "stream",
     "text": [
      "Minimum Value : -2.913031012532559 \n",
      "Maximum Value : 2.4657041699572106 \n"
     ]
    }
   ],
   "source": [
    "array5=np.random.randn(10,10)   #Creating an 10x10 array/matrix with random values using .random.randn (if we want just positive values use .random.rand instead)\n",
    "minimum_value=array5.min()    #Getting minimum value from the array using .min\n",
    "maximum_value=array5.max()    #Getting maximum value from the array using .max\n",
    "print('Minimum Value : %s \\nMaximum Value : %s '%(minimum_value,maximum_value))"
   ]
  },
  {
   "cell_type": "markdown",
   "id": "00bc6ca9",
   "metadata": {},
   "source": [
    "## 6. Create a random vector of size 30 and find the mean value."
   ]
  },
  {
   "cell_type": "code",
   "execution_count": 8,
   "id": "585a9634",
   "metadata": {},
   "outputs": [
    {
     "name": "stdout",
     "output_type": "stream",
     "text": [
      "Mean Value : 0.5209481076449376\n"
     ]
    }
   ],
   "source": [
    "array6=np.random.random(30)    #Creating a random vector of size 30 using np.random.random\n",
    "mean_value=array6.mean()       #Getting mean of array values using .mean\n",
    "print('Mean Value : %s'%mean_value)"
   ]
  }
 ],
 "metadata": {
  "kernelspec": {
   "display_name": "Python 3 (ipykernel)",
   "language": "python",
   "name": "python3"
  },
  "language_info": {
   "codemirror_mode": {
    "name": "ipython",
    "version": 3
   },
   "file_extension": ".py",
   "mimetype": "text/x-python",
   "name": "python",
   "nbconvert_exporter": "python",
   "pygments_lexer": "ipython3",
   "version": "3.9.6"
  }
 },
 "nbformat": 4,
 "nbformat_minor": 5
}
