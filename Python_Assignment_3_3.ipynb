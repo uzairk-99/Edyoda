{
 "cells": [
  {
   "cell_type": "code",
   "execution_count": 48,
   "id": "3ce7dca2",
   "metadata": {},
   "outputs": [],
   "source": [
    "def case_calculator(string):\n",
    "    '''Prints the count of Upper case characters and Lower case characters in a given string'''\n",
    "    \n",
    "\n",
    "    string=string.replace(' ','')    #To remove all the white spaces in the string\n",
    "    upper=0\n",
    "    lower=0\n",
    "    for char in string:\n",
    "        if char.isupper():\n",
    "            upper+=1\n",
    "        else:\n",
    "            lower+=1\n",
    "    print('No. of Upper case characters : ',upper)\n",
    "    print('No. of Lower case characters : ',lower)"
   ]
  },
  {
   "cell_type": "code",
   "execution_count": 52,
   "id": "2d154859",
   "metadata": {},
   "outputs": [],
   "source": [
    "Sample_String = 'The quick Brow Fox'"
   ]
  },
  {
   "cell_type": "code",
   "execution_count": 54,
   "id": "9abd4cc6",
   "metadata": {},
   "outputs": [
    {
     "name": "stdout",
     "output_type": "stream",
     "text": [
      "No. of Upper case characters :  3\n",
      "No. of Lower case characters :  12\n"
     ]
    }
   ],
   "source": [
    "case_calculator(Sample_String)"
   ]
  },
  {
   "cell_type": "code",
   "execution_count": null,
   "id": "bc0e169b",
   "metadata": {},
   "outputs": [],
   "source": []
  }
 ],
 "metadata": {
  "kernelspec": {
   "display_name": "Python 3 (ipykernel)",
   "language": "python",
   "name": "python3"
  },
  "language_info": {
   "codemirror_mode": {
    "name": "ipython",
    "version": 3
   },
   "file_extension": ".py",
   "mimetype": "text/x-python",
   "name": "python",
   "nbconvert_exporter": "python",
   "pygments_lexer": "ipython3",
   "version": "3.9.6"
  }
 },
 "nbformat": 4,
 "nbformat_minor": 5
}
