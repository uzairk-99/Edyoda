{
 "cells": [
  {
   "cell_type": "markdown",
   "id": "1a9d3bce",
   "metadata": {},
   "source": [
    "## 1. Delete the elements in an linked list whose sum is equal to zero"
   ]
  },
  {
   "cell_type": "code",
   "execution_count": 77,
   "id": "d62224c6",
   "metadata": {},
   "outputs": [],
   "source": [
    "# Defining a linked list\n",
    "class node():\n",
    "    def __init__(self,data,link=None):\n",
    "        self.data = data\n",
    "        self.link = link\n",
    "\n",
    "class LinkedList():\n",
    "    def __init__(self):\n",
    "        self.head = None\n",
    "        \n",
    "    def is_empty(self):\n",
    "        if self.head == None:\n",
    "            return True\n",
    "        \n",
    "    def append(self,value):\n",
    "        new_node=node(value)\n",
    "        if self.is_empty():\n",
    "            self.head=new_node\n",
    "        else:\n",
    "            temp=self.head\n",
    "            while temp.link != None:\n",
    "                temp=temp.link\n",
    "            temp.link=new_node\n",
    "        print('Node {} has been inserted'.format(value))\n",
    "        \n",
    "    def delete(self,value):\n",
    "        temp = self.head\n",
    "        temp2 = temp\n",
    "        while temp.data != value:\n",
    "            temp2 = temp\n",
    "            temp = temp.link\n",
    "        temp2.link = temp2.link.link\n",
    "        \n",
    "    def printList(self):\n",
    "        temp=self.head\n",
    "        while temp.link != None:\n",
    "            print(temp.data)\n",
    "            temp=temp.link\n",
    "        print(temp.data)\n",
    "        \n",
    "    def to_list(self):\n",
    "        list = []\n",
    "        temp = self.head\n",
    "        while temp.link != None:\n",
    "            list.append(temp.data)\n",
    "            temp = temp.link\n",
    "        list.append(temp.data)\n",
    "        return list"
   ]
  },
  {
   "cell_type": "code",
   "execution_count": 78,
   "id": "cc1e10d6",
   "metadata": {},
   "outputs": [],
   "source": [
    "ll = LinkedList()"
   ]
  },
  {
   "cell_type": "code",
   "execution_count": 79,
   "id": "c2d0a905",
   "metadata": {},
   "outputs": [
    {
     "name": "stdout",
     "output_type": "stream",
     "text": [
      "Node 3 has been inserted\n"
     ]
    }
   ],
   "source": [
    "ll.append(3)"
   ]
  },
  {
   "cell_type": "code",
   "execution_count": 80,
   "id": "09a11751",
   "metadata": {},
   "outputs": [
    {
     "name": "stdout",
     "output_type": "stream",
     "text": [
      "Node 5 has been inserted\n",
      "Node 7 has been inserted\n",
      "Node 1 has been inserted\n",
      "Node -2 has been inserted\n",
      "Node -9 has been inserted\n",
      "Node 10 has been inserted\n",
      "Node -7 has been inserted\n",
      "Node -1 has been inserted\n"
     ]
    }
   ],
   "source": [
    "ll.append(5)\n",
    "ll.append(7)\n",
    "ll.append(1)\n",
    "ll.append(-2)\n",
    "ll.append(-9)\n",
    "ll.append(10)\n",
    "ll.append(-7)\n",
    "ll.append(-1)"
   ]
  },
  {
   "cell_type": "code",
   "execution_count": 81,
   "id": "236e722c",
   "metadata": {},
   "outputs": [
    {
     "name": "stdout",
     "output_type": "stream",
     "text": [
      "3\n",
      "5\n",
      "7\n",
      "1\n",
      "-2\n",
      "-9\n",
      "10\n",
      "-7\n",
      "-1\n"
     ]
    }
   ],
   "source": [
    "ll.printList()"
   ]
  },
  {
   "cell_type": "code",
   "execution_count": 82,
   "id": "331f84ee",
   "metadata": {},
   "outputs": [],
   "source": [
    "# defining function for removing elements whose sum is equal to 0\n",
    "def remove_elements_sum_zero(self):\n",
    "    list = self.to_list()\n",
    "    templ=[]\n",
    "    removel=[]\n",
    "    for i in list:\n",
    "        if abs(i) not in templ:\n",
    "            templ.append(abs(i))\n",
    "        else:\n",
    "            removel.append(i)\n",
    "    for i in removel:\n",
    "        self.delete(abs(i))\n",
    "        self.delete(i)\n",
    "    print('elements with sum zero deleted')\n",
    "    \n",
    "    \n",
    "    \n",
    "LinkedList.remove_elements_sum_zero = remove_elements_sum_zero"
   ]
  },
  {
   "cell_type": "code",
   "execution_count": 83,
   "id": "8d51768b",
   "metadata": {},
   "outputs": [
    {
     "name": "stdout",
     "output_type": "stream",
     "text": [
      "elements with sum zero deleted\n"
     ]
    }
   ],
   "source": [
    "ll.remove_elements_sum_zero()"
   ]
  },
  {
   "cell_type": "code",
   "execution_count": 84,
   "id": "4b506ac4",
   "metadata": {},
   "outputs": [
    {
     "name": "stdout",
     "output_type": "stream",
     "text": [
      "3\n",
      "5\n",
      "-2\n",
      "-9\n",
      "10\n"
     ]
    }
   ],
   "source": [
    "ll.printList()"
   ]
  },
  {
   "cell_type": "markdown",
   "id": "c362cf62",
   "metadata": {},
   "source": [
    "## 2. Reverse a linked list in groups of given size"
   ]
  },
  {
   "cell_type": "code",
   "execution_count": 85,
   "id": "f5a1d74c",
   "metadata": {},
   "outputs": [],
   "source": [
    "# Defining a reverse function\n",
    "def reverse_it(self,g):\n",
    "    if self.head is None:\n",
    "        return\n",
    "    curr = self.head\n",
    "    prev = None\n",
    "    stack = []\n",
    "    while curr is not None:\n",
    "        count = 0\n",
    "        while curr is not None and count < g:\n",
    "            stack.append(curr.data)\n",
    "            curr = curr.link\n",
    "            count = count+1\n",
    "        while stack:\n",
    "            if prev is None:\n",
    "                prev = node(stack.pop())\n",
    "                self.head = prev\n",
    "            else:\n",
    "                prev.link = node(stack.pop())\n",
    "                prev = prev.link\n",
    "                \n",
    "    prev.link = None\n",
    "    return self.head"
   ]
  },
  {
   "cell_type": "code",
   "execution_count": 86,
   "id": "01c937f9",
   "metadata": {},
   "outputs": [],
   "source": [
    "LinkedList.reverse_it = reverse_it"
   ]
  },
  {
   "cell_type": "code",
   "execution_count": 87,
   "id": "777cf321",
   "metadata": {},
   "outputs": [],
   "source": [
    "ll2 = LinkedList()"
   ]
  },
  {
   "cell_type": "code",
   "execution_count": 88,
   "id": "7fbd123a",
   "metadata": {},
   "outputs": [
    {
     "name": "stdout",
     "output_type": "stream",
     "text": [
      "Node 1 has been inserted\n",
      "Node 2 has been inserted\n",
      "Node 3 has been inserted\n",
      "Node 4 has been inserted\n",
      "Node 5 has been inserted\n",
      "Node 6 has been inserted\n",
      "Node 7 has been inserted\n",
      "Node 8 has been inserted\n",
      "Node 9 has been inserted\n",
      "Node 10 has been inserted\n",
      "Node 11 has been inserted\n",
      "Node 12 has been inserted\n"
     ]
    }
   ],
   "source": [
    "for i in [1,2,3,4,5,6,7,8,9,10,11,12]:\n",
    "    ll2.append(i)"
   ]
  },
  {
   "cell_type": "code",
   "execution_count": 89,
   "id": "21598c1d",
   "metadata": {},
   "outputs": [
    {
     "name": "stdout",
     "output_type": "stream",
     "text": [
      "1\n",
      "2\n",
      "3\n",
      "4\n",
      "5\n",
      "6\n",
      "7\n",
      "8\n",
      "9\n",
      "10\n",
      "11\n",
      "12\n"
     ]
    }
   ],
   "source": [
    "ll2.printList()"
   ]
  },
  {
   "cell_type": "code",
   "execution_count": 90,
   "id": "eb9a272a",
   "metadata": {},
   "outputs": [
    {
     "data": {
      "text/plain": [
       "<__main__.node at 0x19ebf77c370>"
      ]
     },
     "execution_count": 90,
     "metadata": {},
     "output_type": "execute_result"
    }
   ],
   "source": [
    "ll2.reverse_it(3)"
   ]
  },
  {
   "cell_type": "code",
   "execution_count": 91,
   "id": "c0f9ae8c",
   "metadata": {},
   "outputs": [
    {
     "name": "stdout",
     "output_type": "stream",
     "text": [
      "3\n",
      "2\n",
      "1\n",
      "6\n",
      "5\n",
      "4\n",
      "9\n",
      "8\n",
      "7\n",
      "12\n",
      "11\n",
      "10\n"
     ]
    }
   ],
   "source": [
    "ll2.printList()"
   ]
  },
  {
   "cell_type": "markdown",
   "id": "e0de7e9e",
   "metadata": {},
   "source": [
    "## 2. Merge a linked list into another linked list at alternate positions.\n"
   ]
  },
  {
   "cell_type": "code",
   "execution_count": 92,
   "id": "13461ee5",
   "metadata": {},
   "outputs": [],
   "source": [
    "# Defining merging function\n",
    "def merge_alternate(self, first, second):\n",
    "        first_curr = first.head\n",
    "        second_curr = second.head\n",
    "        while first_curr != None and second_curr != None:\n",
    "            first_next = first_curr.link\n",
    "            second_next = second_curr.link\n",
    "            second_curr.link = first_next  \n",
    "            first_curr.link = second_curr  \n",
    "            first_curr = first_next\n",
    "            second_curr = second_next\n",
    "            second.head = second_curr"
   ]
  },
  {
   "cell_type": "code",
   "execution_count": 93,
   "id": "693bdebe",
   "metadata": {},
   "outputs": [],
   "source": [
    "LinkedList.merge_alternate = merge_alternate"
   ]
  },
  {
   "cell_type": "code",
   "execution_count": 94,
   "id": "e2022dd0",
   "metadata": {},
   "outputs": [
    {
     "name": "stdout",
     "output_type": "stream",
     "text": [
      "3\n",
      "5\n",
      "-2\n",
      "-9\n",
      "10\n"
     ]
    }
   ],
   "source": [
    "ll.printList()"
   ]
  },
  {
   "cell_type": "code",
   "execution_count": 95,
   "id": "e702863e",
   "metadata": {},
   "outputs": [
    {
     "name": "stdout",
     "output_type": "stream",
     "text": [
      "3\n",
      "2\n",
      "1\n",
      "6\n",
      "5\n",
      "4\n",
      "9\n",
      "8\n",
      "7\n",
      "12\n",
      "11\n",
      "10\n"
     ]
    }
   ],
   "source": [
    "ll2.printList()"
   ]
  },
  {
   "cell_type": "code",
   "execution_count": 96,
   "id": "a75290b7",
   "metadata": {},
   "outputs": [],
   "source": [
    "ll.merge_alternate(ll,ll2)"
   ]
  },
  {
   "cell_type": "code",
   "execution_count": 97,
   "id": "17542245",
   "metadata": {},
   "outputs": [
    {
     "name": "stdout",
     "output_type": "stream",
     "text": [
      "3\n",
      "3\n",
      "5\n",
      "2\n",
      "-2\n",
      "1\n",
      "-9\n",
      "6\n",
      "10\n",
      "5\n"
     ]
    }
   ],
   "source": [
    "ll.printList()"
   ]
  },
  {
   "cell_type": "markdown",
   "id": "8d2693bb",
   "metadata": {},
   "source": [
    "## 4. In an array, Count Pairs with given sum"
   ]
  },
  {
   "cell_type": "code",
   "execution_count": 98,
   "id": "a8e29ca4",
   "metadata": {},
   "outputs": [
    {
     "name": "stdout",
     "output_type": "stream",
     "text": [
      "(3, 7) (4, 6) "
     ]
    }
   ],
   "source": [
    "Array = [1,2,5,3,4,6,7]\n",
    "\n",
    "def sum_pairs(array,n):\n",
    "    for a in array:\n",
    "        if n-a in array[array.index(a)+1:] :\n",
    "            print((a,n-a), end=' ')\n",
    "    \n",
    "sum_pairs(Array,10)"
   ]
  },
  {
   "cell_type": "markdown",
   "id": "4e390737",
   "metadata": {},
   "source": [
    "## 5. Find duplicates in an array"
   ]
  },
  {
   "cell_type": "code",
   "execution_count": 111,
   "id": "c3e79025",
   "metadata": {},
   "outputs": [],
   "source": [
    "Array1 = [1,5,1,4,7,8,1,5,4,2,4,2,5,3,4,7,9,10,15,11,20,10]\n",
    "\n",
    "def duplicates(array):\n",
    "    temp = []\n",
    "    dups=[]\n",
    "    for a in array:\n",
    "        if a not in temp:\n",
    "            temp.append(a)\n",
    "        else:\n",
    "            if a not in dups:\n",
    "                print(a)\n",
    "                dups.append(a)"
   ]
  },
  {
   "cell_type": "code",
   "execution_count": 112,
   "id": "bb765d96",
   "metadata": {},
   "outputs": [
    {
     "name": "stdout",
     "output_type": "stream",
     "text": [
      "1\n",
      "5\n",
      "4\n",
      "2\n",
      "7\n",
      "10\n"
     ]
    }
   ],
   "source": [
    "duplicates(Array1)"
   ]
  },
  {
   "cell_type": "markdown",
   "id": "1ec0935b",
   "metadata": {},
   "source": [
    "## 6. Find the Kth largest and Kth smallest number in an array"
   ]
  },
  {
   "cell_type": "code",
   "execution_count": 128,
   "id": "51b0a867",
   "metadata": {},
   "outputs": [],
   "source": [
    "Array2 = [1,2,3,4,5,6,7,8,9,10,11,12,13,14,15,16,17,18,19,20]\n",
    "\n",
    "def k_pos(array,k):\n",
    "    array = list(set(array))   # to remove duplicates to avoid largest and smallest errors\n",
    "    array.sort()\n",
    "    k_largest = array[0-k]\n",
    "    k_smallest = array[k-1]\n",
    "    print('{} largest number is {}'.format(k,k_largest))\n",
    "    print('{} smallest number is {}'.format(k,k_smallest))"
   ]
  },
  {
   "cell_type": "code",
   "execution_count": 131,
   "id": "0c31430b",
   "metadata": {},
   "outputs": [
    {
     "name": "stdout",
     "output_type": "stream",
     "text": [
      "5 largest number is 16\n",
      "5 smallest number is 5\n"
     ]
    }
   ],
   "source": [
    "k_pos(Array2,5)"
   ]
  },
  {
   "cell_type": "markdown",
   "id": "3bd8ed7f",
   "metadata": {},
   "source": [
    "## 7. Move all the negative elements to one side of the array"
   ]
  },
  {
   "cell_type": "code",
   "execution_count": 141,
   "id": "cc40c3c9",
   "metadata": {},
   "outputs": [],
   "source": [
    "Array3 = [5,4,7,8,-2,14,-5,-8,-7,4,-6]\n",
    "\n",
    "def arrange(array,pos):\n",
    "    if pos == 'left':\n",
    "        array.sort(reverse=False)\n",
    "    elif pos == 'right':\n",
    "        array.sort(reverse=True)\n",
    "    else:\n",
    "        print('Enter left or right position')\n",
    "    return array"
   ]
  },
  {
   "cell_type": "code",
   "execution_count": 142,
   "id": "20f9d62b",
   "metadata": {},
   "outputs": [
    {
     "data": {
      "text/plain": [
       "[-8, -7, -6, -5, -2, 4, 4, 5, 7, 8, 14]"
      ]
     },
     "execution_count": 142,
     "metadata": {},
     "output_type": "execute_result"
    }
   ],
   "source": [
    "arrange(Array3,'left')"
   ]
  },
  {
   "cell_type": "code",
   "execution_count": 143,
   "id": "ef97b11b",
   "metadata": {},
   "outputs": [
    {
     "data": {
      "text/plain": [
       "[14, 8, 7, 5, 4, 4, -2, -5, -6, -7, -8]"
      ]
     },
     "execution_count": 143,
     "metadata": {},
     "output_type": "execute_result"
    }
   ],
   "source": [
    "arrange(Array3,'right')"
   ]
  },
  {
   "cell_type": "markdown",
   "id": "820b0a2e",
   "metadata": {},
   "source": [
    "- without using sort method"
   ]
  },
  {
   "cell_type": "code",
   "execution_count": 149,
   "id": "4e363b30",
   "metadata": {},
   "outputs": [],
   "source": [
    "def arrange_negs(array):\n",
    "    x = 0\n",
    "    for i in range(0,len(array)):\n",
    "        if array[i] < 0:\n",
    "            temp = array[i]\n",
    "            array[i] = array[x]\n",
    "            array[x] = temp\n",
    "            x = x + 1\n",
    "    return array"
   ]
  },
  {
   "cell_type": "code",
   "execution_count": 150,
   "id": "3aaa655c",
   "metadata": {},
   "outputs": [
    {
     "data": {
      "text/plain": [
       "[-2, -5, -6, -7, -8, 4, 14, 8, 7, 5, 4]"
      ]
     },
     "execution_count": 150,
     "metadata": {},
     "output_type": "execute_result"
    }
   ],
   "source": [
    "arrange_negs(Array3)"
   ]
  },
  {
   "cell_type": "markdown",
   "id": "6806822d",
   "metadata": {},
   "source": [
    "## 8. Reverse a string using a stack data structure"
   ]
  },
  {
   "cell_type": "code",
   "execution_count": 153,
   "id": "d429df12",
   "metadata": {},
   "outputs": [],
   "source": [
    "# Defining a stack\n",
    "class Stack():\n",
    "    def __init__(self):\n",
    "        self.data = []\n",
    "        \n",
    "    def push(self,item):\n",
    "        self.data.append(item)\n",
    "        \n",
    "    def pop(self):\n",
    "        if self.data:\n",
    "            t=self.data.pop()\n",
    "            return t"
   ]
  },
  {
   "cell_type": "code",
   "execution_count": 167,
   "id": "f2b55395",
   "metadata": {},
   "outputs": [],
   "source": [
    "def reverse_string(string):\n",
    "    stack1 = Stack()\n",
    "    for i in string:\n",
    "        stack1.push(i)\n",
    "    stack2 = Stack()\n",
    "    for i in range(len(string)):\n",
    "        stack2.push(stack1.pop())\n",
    "    for i in stack2.data:\n",
    "        print(i)"
   ]
  },
  {
   "cell_type": "code",
   "execution_count": 169,
   "id": "55d3d2f0",
   "metadata": {},
   "outputs": [
    {
     "name": "stdout",
     "output_type": "stream",
     "text": [
      "e\n",
      "g\n",
      "a\n",
      "u\n",
      "g\n",
      "n\n",
      "a\n",
      "l\n",
      " \n",
      "a\n",
      " \n",
      "s\n",
      "i\n",
      " \n",
      "n\n",
      "o\n",
      "h\n",
      "t\n",
      "y\n",
      "P\n"
     ]
    }
   ],
   "source": [
    "reverse_string('Python is a language')"
   ]
  },
  {
   "cell_type": "markdown",
   "id": "cee4fb86",
   "metadata": {},
   "source": [
    "## 9. Evaluate a postfix expression using stack"
   ]
  },
  {
   "cell_type": "code",
   "execution_count": 171,
   "id": "1a411800",
   "metadata": {},
   "outputs": [],
   "source": [
    "def postfix_evaluation(s):\n",
    "    s=s.split()\n",
    "    n=len(s)\n",
    "    stack =[]\n",
    "    for i in range(n):\n",
    "        if s[i].isdigit():\n",
    "            stack.append(int(s[i]))\n",
    "        elif s[i]==\"+\":\n",
    "            a=stack.pop()\n",
    "            b=stack.pop()\n",
    "            stack.append(int(a)+int(b))\n",
    "        elif s[i]==\"*\":\n",
    "            a=stack.pop()\n",
    "            b=stack.pop()\n",
    "            stack.append(int(a)*int(b))\n",
    "        elif s[i]==\"/\":\n",
    "            a=stack.pop()\n",
    "            b=stack.pop()\n",
    "            stack.append(int(b)/int(a))\n",
    "        elif s[i]==\"-\":\n",
    "            a=stack.pop()\n",
    "            b=stack.pop()\n",
    "            stack.append(int(b)-int(a))            \n",
    "    return stack.pop()"
   ]
  },
  {
   "cell_type": "code",
   "execution_count": 172,
   "id": "f042340a",
   "metadata": {},
   "outputs": [
    {
     "data": {
      "text/plain": [
       "-1"
      ]
     },
     "execution_count": 172,
     "metadata": {},
     "output_type": "execute_result"
    }
   ],
   "source": [
    "exp=\"13 3 5 * - 1 +\"\n",
    "\n",
    "postfix_evaluation(exp)"
   ]
  },
  {
   "cell_type": "markdown",
   "id": "bb59eaf1",
   "metadata": {},
   "source": [
    "## 10. Implement a queue using the stack data structure"
   ]
  },
  {
   "cell_type": "code",
   "execution_count": 179,
   "id": "b2ac8f3b",
   "metadata": {},
   "outputs": [],
   "source": [
    "class Queue:\n",
    "    def __init__(self):\n",
    "        self.stack1 = []\n",
    "        self.stack2 = []\n",
    "    def add(self, x):\n",
    "        while len(self.stack1) != 0:\n",
    "            self.stack2.append(self.stack1[-1])\n",
    "            self.stack1.pop()\n",
    "        self.stack1.append(x)\n",
    "        while len(self.stack2) != 0:\n",
    "            self.stack1.append(self.stack2[-1])\n",
    "            self.stack2.pop()\n",
    "    def remove(self):\n",
    "        if len(self.stack1) == 0:\n",
    "            print(\"Q is Empty\")\n",
    "        x = self.stack1[-1]\n",
    "        self.stack1.pop()\n",
    "        return x\n",
    "    def display(self):\n",
    "        return self.stack1"
   ]
  },
  {
   "cell_type": "code",
   "execution_count": 180,
   "id": "1d97fa75",
   "metadata": {},
   "outputs": [],
   "source": [
    "queue = Queue()"
   ]
  },
  {
   "cell_type": "code",
   "execution_count": 181,
   "id": "abc0a4a6",
   "metadata": {},
   "outputs": [],
   "source": [
    "queue.add(1)"
   ]
  },
  {
   "cell_type": "code",
   "execution_count": 182,
   "id": "07b73852",
   "metadata": {},
   "outputs": [],
   "source": [
    "queue.add(5)\n",
    "queue.add(7)\n",
    "queue.add(2)\n",
    "queue.add(10)"
   ]
  },
  {
   "cell_type": "code",
   "execution_count": 183,
   "id": "07164130",
   "metadata": {},
   "outputs": [
    {
     "data": {
      "text/plain": [
       "[10, 2, 7, 5, 1]"
      ]
     },
     "execution_count": 183,
     "metadata": {},
     "output_type": "execute_result"
    }
   ],
   "source": [
    "queue.display()"
   ]
  },
  {
   "cell_type": "code",
   "execution_count": 184,
   "id": "cf1e1569",
   "metadata": {},
   "outputs": [
    {
     "data": {
      "text/plain": [
       "1"
      ]
     },
     "execution_count": 184,
     "metadata": {},
     "output_type": "execute_result"
    }
   ],
   "source": [
    "queue.remove()"
   ]
  },
  {
   "cell_type": "code",
   "execution_count": 185,
   "id": "912341c7",
   "metadata": {},
   "outputs": [
    {
     "data": {
      "text/plain": [
       "[10, 2, 7, 5]"
      ]
     },
     "execution_count": 185,
     "metadata": {},
     "output_type": "execute_result"
    }
   ],
   "source": [
    "queue.display()"
   ]
  },
  {
   "cell_type": "code",
   "execution_count": null,
   "id": "51d4d19b",
   "metadata": {},
   "outputs": [],
   "source": []
  }
 ],
 "metadata": {
  "kernelspec": {
   "display_name": "Python 3 (ipykernel)",
   "language": "python",
   "name": "python3"
  },
  "language_info": {
   "codemirror_mode": {
    "name": "ipython",
    "version": 3
   },
   "file_extension": ".py",
   "mimetype": "text/x-python",
   "name": "python",
   "nbconvert_exporter": "python",
   "pygments_lexer": "ipython3",
   "version": "3.9.6"
  }
 },
 "nbformat": 4,
 "nbformat_minor": 5
}
