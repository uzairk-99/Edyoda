{
 "cells": [
  {
   "cell_type": "code",
   "execution_count": 30,
   "id": "20853bec",
   "metadata": {},
   "outputs": [
    {
     "name": "stdout",
     "output_type": "stream",
     "text": [
      "1\n",
      "1\n",
      "2\n",
      "3\n",
      "5\n",
      "8\n",
      "13\n",
      "21\n",
      "34\n"
     ]
    }
   ],
   "source": [
    "x,y=0,1 # setting up The first number \"0\" and second number \"1\"\n",
    "#print(x)\n",
    "while y<50: #using while loop to get numbers between 0 and 50, (if 50 was inclusive we would use while y<=50:)\n",
    "    print(y) #Because we need between 0 and 50, If 0 was inclusive uncomment second line.\n",
    "    x,y = y,x+y"
   ]
  }
 ],
 "metadata": {
  "kernelspec": {
   "display_name": "Python 3 (ipykernel)",
   "language": "python",
   "name": "python3"
  },
  "language_info": {
   "codemirror_mode": {
    "name": "ipython",
    "version": 3
   },
   "file_extension": ".py",
   "mimetype": "text/x-python",
   "name": "python",
   "nbconvert_exporter": "python",
   "pygments_lexer": "ipython3",
   "version": "3.9.6"
  }
 },
 "nbformat": 4,
 "nbformat_minor": 5
}
