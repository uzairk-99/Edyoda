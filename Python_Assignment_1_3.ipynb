{
 "cells": [
  {
   "cell_type": "code",
   "execution_count": 2,
   "id": "c4327b64",
   "metadata": {},
   "outputs": [
    {
     "name": "stdout",
     "output_type": "stream",
     "text": [
      "1,2,3,4,5,6,7,8,9\n",
      "Number of even numbers : 4\n",
      "Number of odd numbers : 5\n"
     ]
    }
   ],
   "source": [
    "numbers=tuple(input().split(',')) #Takes various numbers as input splits them by a \",\" and contains them all in a container\n",
    "even=0\n",
    "odd=0\n",
    "for i in numbers:\n",
    "    if int(i)%2==0: #Initially the input is of type=str converting it to int and using % operator to check for remainder when divided by 2 if 0 then even else odd\n",
    "        even=even+1\n" #Or we can use even+=1,
    "    else:\n",
    "        odd=odd+1\n",
    "print(\"Number of even numbers : {}\".format(even))\n",
    "print(\"Number of odd numbers : {}\".format(odd))"
   ]
  }
 ],
 "metadata": {
  "kernelspec": {
   "display_name": "Python 3 (ipykernel)",
   "language": "python",
   "name": "python3"
  },
  "language_info": {
   "codemirror_mode": {
    "name": "ipython",
    "version": 3
   },
   "file_extension": ".py",
   "mimetype": "text/x-python",
   "name": "python",
   "nbconvert_exporter": "python",
   "pygments_lexer": "ipython3",
   "version": "3.9.6"
  }
 },
 "nbformat": 4,
 "nbformat_minor": 5
}
