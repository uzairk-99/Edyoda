{
 "cells": [
  {
   "cell_type": "code",
   "execution_count": 15,
   "id": "3bcf9c54",
   "metadata": {},
   "outputs": [],
   "source": [
    "# Defining graph\n",
    "class Graph:\n",
    "    def __init__(self,gdict=None):\n",
    "        if gdict is None:\n",
    "            gdict = []\n",
    "        self.gdict = gdict  \n",
    "        \n",
    "    def add_vertex(self,v):\n",
    "        if v not in self.gdict:\n",
    "            self.gdict[v] = []         \n",
    "    def get_vertices(self):\n",
    "        return list(self.gdict.keys()) \n",
    "    \n",
    "    def add_edge(self,edge):\n",
    "        edge = set(edge)\n",
    "        (v1,v2) = tuple(edge)\n",
    "        if v1 in self.gdict:\n",
    "            self.gdict[v1].append(v2)\n",
    "        else:\n",
    "            self.gdict[v1] = [v2]\n",
    "    def findedges(self):\n",
    "        edges = []\n",
    "        for v in self.gdict:\n",
    "            for nextv in self.gdict[v]:\n",
    "                if {nextv,v} not in edges:\n",
    "                    edges.append({v,nextv})\n",
    "        return edges"
   ]
  },
  {
   "cell_type": "code",
   "execution_count": 16,
   "id": "5d22c561",
   "metadata": {},
   "outputs": [],
   "source": [
    "# creating a graph elememnt\n",
    "graph_elements = {'a':['b','c'],\n",
    "                 'b':['a','d'],\n",
    "                 'c':['a','d'],\n",
    "                 'd':['e'],\n",
    "                 'e':['d']}\n",
    "G = Graph(graph_elements)"
   ]
  },
  {
   "cell_type": "code",
   "execution_count": 17,
   "id": "3aa23c03",
   "metadata": {},
   "outputs": [
    {
     "data": {
      "text/plain": [
       "['a', 'b', 'c', 'd', 'e']"
      ]
     },
     "execution_count": 17,
     "metadata": {},
     "output_type": "execute_result"
    }
   ],
   "source": [
    "G.get_vertices()"
   ]
  },
  {
   "cell_type": "code",
   "execution_count": 18,
   "id": "99aff58a",
   "metadata": {},
   "outputs": [
    {
     "data": {
      "text/plain": [
       "[{'a', 'b'}, {'a', 'c'}, {'b', 'd'}, {'c', 'd'}, {'d', 'e'}]"
      ]
     },
     "execution_count": 18,
     "metadata": {},
     "output_type": "execute_result"
    }
   ],
   "source": [
    "G.findedges()"
   ]
  },
  {
   "cell_type": "markdown",
   "id": "7c3ab0f8",
   "metadata": {},
   "source": [
    "## 1. Breadth First Traversal for a Graph"
   ]
  },
  {
   "cell_type": "code",
   "execution_count": 25,
   "id": "a9b01915",
   "metadata": {},
   "outputs": [],
   "source": [
    "# Defining Breath First Traversal function\n",
    "def BFS(self,s):\n",
    "    visited = []\n",
    "    queue = []\n",
    "    queue.append(s)\n",
    "    visited.append(s)\n",
    "    while queue:\n",
    "        s = queue.pop(0)\n",
    "        print(s,end = ' ')\n",
    "        for i in self.gdict[s]:\n",
    "            if i not in visited:\n",
    "                visited.append(i)\n",
    "                queue.append(i)"
   ]
  },
  {
   "cell_type": "code",
   "execution_count": 26,
   "id": "e06d145f",
   "metadata": {},
   "outputs": [],
   "source": [
    "# Adding the function to Graph class\n",
    "Graph.BFS = BFS"
   ]
  },
  {
   "cell_type": "code",
   "execution_count": 27,
   "id": "61930d21",
   "metadata": {},
   "outputs": [
    {
     "name": "stdout",
     "output_type": "stream",
     "text": [
      "a b c d e "
     ]
    }
   ],
   "source": [
    "G.BFS('a')"
   ]
  },
  {
   "cell_type": "markdown",
   "id": "c58354bb",
   "metadata": {},
   "source": [
    "## 2. Depth First Traversal for a Graph"
   ]
  },
  {
   "cell_type": "code",
   "execution_count": 42,
   "id": "cd41f4a9",
   "metadata": {},
   "outputs": [],
   "source": [
    "# Defining the function\n",
    "def DFS(self,v):\n",
    "    visited = set()\n",
    "    \n",
    "    def dfsutility(v,visited):\n",
    "        visited.add(v)\n",
    "        print(v, end=' ')\n",
    "        for i in self.gdict[v]:\n",
    "            if i not in visited:\n",
    "                dfsutility(i,visited)\n",
    "                \n",
    "    dfsutility(v,visited)"
   ]
  },
  {
   "cell_type": "code",
   "execution_count": 43,
   "id": "6120d47b",
   "metadata": {},
   "outputs": [],
   "source": [
    "# Adding the function to the Graph class\n",
    "Graph.DFS = DFS"
   ]
  },
  {
   "cell_type": "code",
   "execution_count": 44,
   "id": "06cf4e66",
   "metadata": {},
   "outputs": [
    {
     "name": "stdout",
     "output_type": "stream",
     "text": [
      "a b d e c "
     ]
    }
   ],
   "source": [
    "G.DFS('a')"
   ]
  },
  {
   "cell_type": "markdown",
   "id": "cc105255",
   "metadata": {},
   "source": [
    "## 3. Count the number of nodes at given level in a tree using BFS"
   ]
  },
  {
   "cell_type": "code",
   "execution_count": null,
   "id": "5f8c0c27",
   "metadata": {},
   "outputs": [],
   "source": []
  }
 ],
 "metadata": {
  "kernelspec": {
   "display_name": "Python 3 (ipykernel)",
   "language": "python",
   "name": "python3"
  },
  "language_info": {
   "codemirror_mode": {
    "name": "ipython",
    "version": 3
   },
   "file_extension": ".py",
   "mimetype": "text/x-python",
   "name": "python",
   "nbconvert_exporter": "python",
   "pygments_lexer": "ipython3",
   "version": "3.9.6"
  }
 },
 "nbformat": 4,
 "nbformat_minor": 5
}
