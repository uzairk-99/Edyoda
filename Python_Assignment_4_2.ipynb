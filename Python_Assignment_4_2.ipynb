{
 "cells": [
  {
   "cell_type": "markdown",
   "id": "58209af3",
   "metadata": {},
   "source": [
    "- <h2> Write a Python program to triple all numbers of a given list of integers. Use Python map.</h2>"
   ]
  },
  {
   "cell_type": "code",
   "execution_count": 7,
   "id": "dfe01277",
   "metadata": {},
   "outputs": [
    {
     "name": "stdout",
     "output_type": "stream",
     "text": [
      "Triple of list numbers:  [3, 6, 9, 12, 15, 18, 21]\n"
     ]
    }
   ],
   "source": [
    "sample_list = [1,2,3,4,5,6,7]  #Sample List\n",
    "\n",
    "\n",
    "triple = list(map(lambda x: x*3,sample_list))    # using lambda to multiply each iterable by 3 using map then converting them to a list.\n",
    "print('Triple of list numbers: ',triple)     # Printing  the list"
   ]
  },
  {
   "cell_type": "code",
   "execution_count": null,
   "id": "72b6cb0e",
   "metadata": {},
   "outputs": [],
   "source": []
  }
 ],
 "metadata": {
  "kernelspec": {
   "display_name": "Python 3 (ipykernel)",
   "language": "python",
   "name": "python3"
  },
  "language_info": {
   "codemirror_mode": {
    "name": "ipython",
    "version": 3
   },
   "file_extension": ".py",
   "mimetype": "text/x-python",
   "name": "python",
   "nbconvert_exporter": "python",
   "pygments_lexer": "ipython3",
   "version": "3.9.6"
  }
 },
 "nbformat": 4,
 "nbformat_minor": 5
}
