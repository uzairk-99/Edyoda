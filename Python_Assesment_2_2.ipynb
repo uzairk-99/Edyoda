{
 "cells": [
  {
   "cell_type": "code",
   "execution_count": 16,
   "id": "d86ea133",
   "metadata": {},
   "outputs": [
    {
     "name": "stdout",
     "output_type": "stream",
     "text": [
      "{'a': 97, 'b': 98, 'c': 99, 'd': 100, 'e': 101, 'f': 102, 'g': 103, 'h': 104, 'i': 105, 'j': 106, 'k': 107, 'l': 108, 'm': 109, 'n': 110, 'o': 111, 'p': 112, 'q': 113, 'r': 114, 's': 115, 't': 116, 'u': 117, 'v': 118, 'w': 119, 'x': 120, 'y': 121, 'z': 122}\n"
     ]
    }
   ],
   "source": [
    "# Method 1\n",
    "\n",
    "alphabets=\"abcdefghijklmnopqrstuvwxyz\" #all the lower alphbets\n",
    "\n",
    "ascii_dict={}  # creating a empty dictionary \n",
    "\n",
    "for i in alphabets:   # looping through each letter in alphabets\n",
    "    ascii_dict[i]=ord(i)  #adding each iterable(alphabet) as key and its ascii value as value in the dictionary\n",
    "\n",
    "print(ascii_dict)"
   ]
  },
  {
   "cell_type": "code",
   "execution_count": 20,
   "id": "1e67b80d",
   "metadata": {},
   "outputs": [
    {
     "name": "stdout",
     "output_type": "stream",
     "text": [
      "{'a': 97, 'b': 98, 'c': 99, 'd': 100, 'e': 101, 'f': 102, 'g': 103, 'h': 104, 'i': 105, 'j': 106, 'k': 107, 'l': 108, 'm': 109, 'n': 110, 'o': 111, 'p': 112, 'q': 113, 'r': 114, 's': 115, 't': 116, 'u': 117, 'v': 118, 'w': 119, 'x': 120, 'y': 121, 'z': 122}\n"
     ]
    }
   ],
   "source": [
    "# Method 2\n",
    "\n",
    "alphadict={}\n",
    "for i in range(97,123):\n",
    "    alphadict[chr(i)]=i\n",
    "print(alphadict)"
   ]
  },
  {
   "cell_type": "code",
   "execution_count": null,
   "id": "fbf1b329",
   "metadata": {},
   "outputs": [],
   "source": []
  }
 ],
 "metadata": {
  "kernelspec": {
   "display_name": "Python 3 (ipykernel)",
   "language": "python",
   "name": "python3"
  },
  "language_info": {
   "codemirror_mode": {
    "name": "ipython",
    "version": 3
   },
   "file_extension": ".py",
   "mimetype": "text/x-python",
   "name": "python",
   "nbconvert_exporter": "python",
   "pygments_lexer": "ipython3",
   "version": "3.9.6"
  }
 },
 "nbformat": 4,
 "nbformat_minor": 5
}
