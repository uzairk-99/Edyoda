{
 "cells": [
  {
   "cell_type": "code",
   "execution_count": 1,
   "id": "2ab20924",
   "metadata": {},
   "outputs": [
    {
     "name": "stdout",
     "output_type": "stream",
     "text": [
      "Number of even numbers : 4\n",
      "Number of odd numbers : 5\n"
     ]
    }
   ],
   "source": [
    "numbers=(1,2,3,4,5,6,7,8,9) #If a tuple is already present \n",
    "even,odd=0,0\n",
    "for i in numbers:\n",
    "    if i%2==0: # "%" operator checks for the remainder after division, upon dividing by 2 if remainder is 0 then even else odd \n",
    "        even+=1\n",
    "    else:\n",
    "        odd+=1\n",
    "print('Number of even numbers : {}'.format(even))\n",
    "print('Number of odd numbers : {}'.format(odd))"
   ]
  },
  {
   "cell_type": "code",
   "execution_count": null,
   "id": "16827a1a",
   "metadata": {},
   "outputs": [],
   "source": []
  }
 ],
 "metadata": {
  "kernelspec": {
   "display_name": "Python 3 (ipykernel)",
   "language": "python",
   "name": "python3"
  },
  "language_info": {
   "codemirror_mode": {
    "name": "ipython",
    "version": 3
   },
   "file_extension": ".py",
   "mimetype": "text/x-python",
   "name": "python",
   "nbconvert_exporter": "python",
   "pygments_lexer": "ipython3",
   "version": "3.9.6"
  }
 },
 "nbformat": 4,
 "nbformat_minor": 5
}
