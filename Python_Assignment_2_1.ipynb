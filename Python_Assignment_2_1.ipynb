{
 "cells": [
  {
   "cell_type": "code",
   "execution_count": 43,
   "id": "bf956bde",
   "metadata": {},
   "outputs": [
    {
     "name": "stdout",
     "output_type": "stream",
     "text": [
      "[(2, 1), (1, 2), (2, 3), (4, 4), (2, 5)]\n"
     ]
    }
   ],
   "source": [
    "# Method 1\n",
    "\n",
    "sample_list=[(2,5),(1,2),(4,4),(2,3),(2,1)] #the present list with tuples in it.\n",
    "\n",
    "\n",
    "def last_ele(n):    #defining a function to get last element in each tuple as key while sorting\n",
    "    return n[-1]\n",
    "\n",
    "\n",
    "sorted_list=sorted(sample_list,key=last_ele)  #sorting the list with calling last_ele function for key\n",
    "\n",
    "print(sorted_list)"
   ]
  },
  {
   "cell_type": "code",
   "execution_count": 62,
   "id": "de27a9dd",
   "metadata": {},
   "outputs": [
    {
     "name": "stdout",
     "output_type": "stream",
     "text": [
      "[(2, 1), (1, 2), (2, 3), (4, 4), (2, 5)]\n"
     ]
    }
   ],
   "source": [
    "# Method 2\n",
    "\n",
    "l=len(sample_list)   #length of the list\n",
    "for x in range(0,l):  \n",
    "    for y in range(0,l-x-1):\n",
    "        if (sample_list[y][-1] > sample_list[y+1][-1]):\n",
    "            t=sample_list[y]   #assigning a temporary element as t\n",
    "            sample_list[y]=sample_list[y+1]\n",
    "            sample_list[y+1]=t\n",
    "print(sample_list)"
   ]
  },
  {
   "cell_type": "code",
   "execution_count": null,
   "id": "64c6daa0",
   "metadata": {},
   "outputs": [],
   "source": []
  }
 ],
 "metadata": {
  "kernelspec": {
   "display_name": "Python 3 (ipykernel)",
   "language": "python",
   "name": "python3"
  },
  "language_info": {
   "codemirror_mode": {
    "name": "ipython",
    "version": 3
   },
   "file_extension": ".py",
   "mimetype": "text/x-python",
   "name": "python",
   "nbconvert_exporter": "python",
   "pygments_lexer": "ipython3",
   "version": "3.9.6"
  }
 },
 "nbformat": 4,
 "nbformat_minor": 5
}
