{
 "cells": [
  {
   "cell_type": "code",
   "execution_count": 5,
   "id": "f10d8498",
   "metadata": {},
   "outputs": [
    {
     "name": "stdout",
     "output_type": "stream",
     "text": [
      "Enter a WordEdyoda\n",
      "adoydE\n"
     ]
    }
   ],
   "source": [
    "word=input(\"Enter a Word\") # Takes an input from a user\n",
    "print(word[::-1]) #Slicing with all and using -1 as steps for reversing"
   ]
  },
  {
   "cell_type": "code",
   "execution_count": null,
   "id": "c424043f",
   "metadata": {},
   "outputs": [],
   "source": []
  }
 ],
 "metadata": {
  "kernelspec": {
   "display_name": "Python 3 (ipykernel)",
   "language": "python",
   "name": "python3"
  },
  "language_info": {
   "codemirror_mode": {
    "name": "ipython",
    "version": 3
   },
   "file_extension": ".py",
   "mimetype": "text/x-python",
   "name": "python",
   "nbconvert_exporter": "python",
   "pygments_lexer": "ipython3",
   "version": "3.9.6"
  }
 },
 "nbformat": 4,
 "nbformat_minor": 5
}
