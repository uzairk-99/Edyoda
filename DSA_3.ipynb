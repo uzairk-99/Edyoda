  {
   "cell_type": "markdown",
   "id": "19f71cf5",
   "metadata": {},
   "source": [
    "## 1. Implement Binary tree"
   ]
  },
  {
   "cell_type": "code",
   "execution_count": 84,
   "id": "2f573c08",
   "metadata": {},
   "outputs": [],
   "source": [
    "# defining node for tree\n",
    "class Node:\n",
    "    def __init__(self,value):\n",
    "        self.left = None\n",
    "        self.right = None\n",
    "        self.data = value"
   ]
  },
  {
   "cell_type": "code",
   "execution_count": 85,
   "id": "663701b2",
   "metadata": {},
   "outputs": [],
   "source": [
    "Tree = Node(5)"
   ]
  },
  {
   "cell_type": "code",
   "execution_count": 86,
   "id": "b82da8a5",
   "metadata": {},
   "outputs": [],
   "source": [
    "Tree.left = Node(10)\n",
    "Tree.right = Node(20)"
   ]
  },
  {
   "cell_type": "code",
   "execution_count": 87,
   "id": "a370b249",
   "metadata": {},
   "outputs": [],
   "source": [
    "Tree.left.left = Node(7)\n",
    "Tree.left.right = Node(3)\n",
    "Tree.right.left = Node(14)\n",
    "Tree.right.right = Node(6)"
   ]
  },
  {
   "cell_type": "code",
   "execution_count": 88,
   "id": "dff72a3a",
   "metadata": {},
   "outputs": [
    {
     "name": "stdout",
     "output_type": "stream",
     "text": [
      "\t\t\t 5\n",
      "\t\t 10 \t\t 20\n",
      "\t 7 \t\t 3 14 \t\t 6\n"
     ]
    }
   ],
   "source": [
    "print('\\t\\t\\t',Tree.data)\n",
    "print('\\t\\t',Tree.left.data,'\\t\\t',Tree.right.data)\n",
    "print('\\t',Tree.left.left.data,'\\t\\t',Tree.left.right.data,Tree.right.left.data,'\\t\\t',Tree.right.right.data)"
   ]
  },
  {
   "cell_type": "markdown",
   "id": "99d6491e",
   "metadata": {},
   "source": [
    "## 2. Find height of a given tree"
   ]
  },
  {
   "cell_type": "code",
   "execution_count": 89,
   "id": "842cf033",
   "metadata": {},
   "outputs": [],
   "source": [
    "# Defining function for finding height\n",
    "def height(self):\n",
    "    if self is None:\n",
    "        return -1 \n",
    "    else:\n",
    "        lDepth = height(self.left)\n",
    "        rDepth = height(self.right)\n",
    "        \n",
    "        if lDepth > rDepth:\n",
    "            return lDepth+1\n",
    "        else:\n",
    "            return rDepth+1"
   ]
  },
  {
   "cell_type": "code",
   "execution_count": 90,
   "id": "45eff836",
   "metadata": {},
   "outputs": [],
   "source": [
    "# adding height function to the class\n",
    "Node.height = height"
   ]
  },
  {
   "cell_type": "code",
   "execution_count": 91,
   "id": "1edf57e0",
   "metadata": {},
   "outputs": [
    {
     "data": {
      "text/plain": [
       "2"
      ]
     },
     "execution_count": 91,
     "metadata": {},
     "output_type": "execute_result"
    }
   ],
   "source": [
    "Tree.height()"
   ]
  },
  {
   "cell_type": "markdown",
   "id": "bc59adfd",
   "metadata": {},
   "source": [
    "## 3. Perform Pre-order, Post-order, In-order traversal"
   ]
  },
  {
   "cell_type": "code",
   "execution_count": 92,
   "id": "040b22c9",
   "metadata": {},
   "outputs": [],
   "source": [
    "# defining Pre-order\n",
    "def pre_order(self):\n",
    "    if self:\n",
    "        print(str(self.data),end=' ')\n",
    "        pre_order(self.left)\n",
    "        pre_order(self.right)"
   ]
  },
  {
   "cell_type": "code",
   "execution_count": 93,
   "id": "08256794",
   "metadata": {},
   "outputs": [],
   "source": [
    "# defining Post-order\n",
    "def post_order(self):\n",
    "    if self:\n",
    "        post_order(self.left)\n",
    "        post_order(self.right)\n",
    "        print(str(self.data),end=' ')"
   ]
  },
  {
   "cell_type": "code",
   "execution_count": 94,
   "id": "ffc455af",
   "metadata": {},
   "outputs": [],
   "source": [
    "# defining In-order\n",
    "def in_order(self):\n",
    "    if self:\n",
    "        in_order(self.left)\n",
    "        print(str(self.data),end=' ')\n",
    "        in_order(self.right)"
   ]
  },
  {
   "cell_type": "code",
   "execution_count": 95,
   "id": "f7f31a9f",
   "metadata": {},
   "outputs": [],
   "source": [
    "# Adding this functions to the Node class\n",
    "Node.pre_order = pre_order\n",
    "Node.post_order = post_order\n",
    "Node.in_order = in_order"
   ]
  },
  {
   "cell_type": "code",
   "execution_count": 96,
   "id": "e206952d",
   "metadata": {},
   "outputs": [
    {
     "name": "stdout",
     "output_type": "stream",
     "text": [
      "5 10 7 3 20 14 6 "
     ]
    }
   ],
   "source": [
    "Tree.pre_order()"
   ]
  },
  {
   "cell_type": "code",
   "execution_count": 97,
   "id": "842ee207",
   "metadata": {},
   "outputs": [
    {
     "name": "stdout",
     "output_type": "stream",
     "text": [
      "7 3 10 14 6 20 5 "
     ]
    }
   ],
   "source": [
    "Tree.post_order()"
   ]
  },
  {
   "cell_type": "code",
   "execution_count": 98,
   "id": "d63edefb",
   "metadata": {},
   "outputs": [
    {
     "name": "stdout",
     "output_type": "stream",
     "text": [
      "7 10 3 5 14 20 6 "
     ]
    }
   ],
   "source": [
    "Tree.in_order()"
   ]
  },
  {
   "cell_type": "markdown",
   "id": "7bac92b0",
   "metadata": {},
   "source": [
    "## 4. Function to print all the leaves in a given binary tree"
   ]
  },
  {
   "cell_type": "code",
   "execution_count": 99,
   "id": "6b93c87d",
   "metadata": {},
   "outputs": [],
   "source": [
    "# Defining function to print all the leaves\n",
    "def print_leaves(self):\n",
    "    if not self:\n",
    "        return\n",
    "    if not self.left and not self.right:\n",
    "        print(self.data,end=' ')\n",
    "        return\n",
    "    if self.left:\n",
    "        print_leaves(self.left)\n",
    "    if self.right:\n",
    "        print_leaves(self.right)"
   ]
  },
  {
   "cell_type": "code",
   "execution_count": 100,
   "id": "e7345099",
   "metadata": {},
   "outputs": [],
   "source": [
    "# Adding the function to the Node class\n",
    "Node.print_leaves = print_leaves"
   ]
  },
  {
   "cell_type": "code",
   "execution_count": 101,
   "id": "76c9e4c1",
   "metadata": {},
   "outputs": [
    {
     "name": "stdout",
     "output_type": "stream",
     "text": [
      "7 3 14 6 "
     ]
    }
   ],
   "source": [
    "Tree.print_leaves()"
   ]
  },
  {
   "cell_type": "markdown",
   "id": "4381a733",
   "metadata": {},
   "source": [
    "## 5. Implement BFS (Breath First Search) and DFS (Depth First Search)"
   ]
  },
  {
   "cell_type": "code",
   "execution_count": 102,
   "id": "5549c0c6",
   "metadata": {},
   "outputs": [],
   "source": [
    "import collections"
   ]
  },
  {
   "cell_type": "code",
   "execution_count": 107,
   "id": "09165d6c",
   "metadata": {},
   "outputs": [],
   "source": [
    "# Defining a function for Breath First Search\n",
    "def bfs(self):\n",
    "    if self is None:\n",
    "        return\n",
    "    queue = []\n",
    "    queue.append(self)\n",
    "    while len(queue) > 0:\n",
    "        print(queue[0].data,end=' ')\n",
    "        node = queue.pop(0)\n",
    "        if node.left is not None:\n",
    "            queue.append(node.left)\n",
    "        if node.right is not None:\n",
    "            queue.append(node.right)"
   ]
  },
  {
   "cell_type": "code",
   "execution_count": 108,
   "id": "6f89027c",
   "metadata": {},
   "outputs": [],
   "source": [
    "# Adding the function to the Node class\n",
    "Node.BFS = bfs"
   ]
  },
  {
   "cell_type": "code",
   "execution_count": 109,
   "id": "ebd69c04",
   "metadata": {},
   "outputs": [
    {
     "name": "stdout",
     "output_type": "stream",
     "text": [
      "5 10 20 7 3 14 6 "
     ]
    }
   ],
   "source": [
    "Tree.BFS()"
   ]
  },
  {
   "cell_type": "code",
   "execution_count": 110,
   "id": "ed6e91d7",
   "metadata": {},
   "outputs": [],
   "source": [
    "# Defining a function for Depth First Search\n",
    "# Depth first search is same as Inorder traversal\n",
    "def dfs(self):\n",
    "    self.in_order()"
   ]
  },
  {
   "cell_type": "code",
   "execution_count": 111,
   "id": "ea84f282",
   "metadata": {},
   "outputs": [],
   "source": [
    "# Adding this function to Node class\n",
    "Node.DFS = dfs"
   ]
  },
  {
   "cell_type": "code",
   "execution_count": 112,
   "id": "fb971075",
   "metadata": {},
   "outputs": [
    {
     "name": "stdout",
     "output_type": "stream",
     "text": [
      "7 10 3 5 14 20 6 "
     ]
    }
   ],
   "source": [
    "Tree.DFS()"
   ]
  },
  {
   "cell_type": "markdown",
   "id": "c276266e",
   "metadata": {},
   "source": [
    "## 6. Find sum of all left leaves in a given Binary Tree"
   ]
  },
  {
   "cell_type": "code",
   "execution_count": 122,
   "id": "2896d6a1",
   "metadata": {},
   "outputs": [],
   "source": [
    "# defining a function to check whether a node is a leaf or not\n",
    "def is_leaf(node):\n",
    "    if node is None:\n",
    "        return False\n",
    "    if node.left is None and node.right is None:\n",
    "        return True\n",
    "    else:\n",
    "        return False"
   ]
  },
  {
   "cell_type": "code",
   "execution_count": 123,
   "id": "1b6e1955",
   "metadata": {},
   "outputs": [],
   "source": [
    "# Defining function for summing up left leaves\n",
    "def leftleaves_sum(self):\n",
    "    result = 0\n",
    "    if self is not None:\n",
    "        if is_leaf(self.left):\n",
    "            result += self.left.data\n",
    "        else:\n",
    "            result += leftleaves_sum(self.left)\n",
    "        \n",
    "        result += leftleaves_sum(self.right)\n",
    "        \n",
    "    return result"
   ]
  },
  {
   "cell_type": "code",
   "execution_count": 124,
   "id": "1b4fa006",
   "metadata": {},
   "outputs": [],
   "source": [
    "# Adding function to the Node class\n",
    "Node.leftleaves_sum = leftleaves_sum"
   ]
  },
  {
   "cell_type": "code",
   "execution_count": 125,
   "id": "2a333ec3",
   "metadata": {},
   "outputs": [
    {
     "data": {
      "text/plain": [
       "21"
      ]
     },
     "execution_count": 125,
     "metadata": {},
     "output_type": "execute_result"
    }
   ],
   "source": [
    "Tree.leftleaves_sum()"
   ]
  },
  {
   "cell_type": "markdown",
   "id": "c08d2952",
   "metadata": {},
   "source": [
    "## 7. Find sum of all nodes of the given perfect binary tree"
   ]
  },
  {
   "cell_type": "code",
   "execution_count": 127,
   "id": "5cf58d64",
   "metadata": {},
   "outputs": [],
   "source": [
    "# Defining function to check if the tree is a perfect binary tree\n",
    "def depth(node):\n",
    "    d=0\n",
    "    while node != None:\n",
    "        d += 1\n",
    "        node = node.left\n",
    "    return d\n",
    "\n",
    "def is_perfect(self, d=None,level=0):\n",
    "    if d==None:\n",
    "        d = depth(self)\n",
    "    if self is None:\n",
    "        return True\n",
    "    if self.left is None and self.right is None:\n",
    "        return d==level+1\n",
    "    if self.left is None or self.right is None:\n",
    "        return False\n",
    "    return is_perfect(self.left,d,level+1) and is_perfect(self.right,d,level+1)"
   ]
  },
  {
   "cell_type": "code",
   "execution_count": 128,
   "id": "723ecd23",
   "metadata": {},
   "outputs": [],
   "source": [
    "Node.is_perfect = is_perfect"
   ]
  },
  {
   "cell_type": "code",
   "execution_count": 129,
   "id": "b3193adc",
   "metadata": {},
   "outputs": [
    {
     "data": {
      "text/plain": [
       "True"
      ]
     },
     "execution_count": 129,
     "metadata": {},
     "output_type": "execute_result"
    }
   ],
   "source": [
    "Tree.is_perfect()"
   ]
  },
  {
   "cell_type": "code",
   "execution_count": 143,
   "id": "59d1a6cf",
   "metadata": {},
   "outputs": [],
   "source": [
    "# defining function for sum of nodes\n",
    "def subtreesum(self):\n",
    "    if self is None:\n",
    "        return 0\n",
    "    return self.data + subtreesum(self.left) + subtreesum(self.right)\n",
    "Node.subtreesum = subtreesum"
   ]
  },
  {
   "cell_type": "code",
   "execution_count": 150,
   "id": "09571ae1",
   "metadata": {},
   "outputs": [],
   "source": [
    "# Defining function to find sum of all nodes\n",
    "def perfect_sum(self):\n",
    "    if self.is_perfect() is False:\n",
    "        return 'Tree is not perfect'\n",
    "    return self.subtreesum()"
   ]
  },
  {
   "cell_type": "code",
   "execution_count": 151,
   "id": "a9368760",
   "metadata": {},
   "outputs": [],
   "source": [
    "# Adding the function to the Node class\n",
    "Node.perfect_sum = perfect_sum"
   ]
  },
  {
   "cell_type": "code",
   "execution_count": 152,
   "id": "16dd152f",
   "metadata": {},
   "outputs": [
    {
     "data": {
      "text/plain": [
       "65"
      ]
     },
     "execution_count": 152,
     "metadata": {},
     "output_type": "execute_result"
    }
   ],
   "source": [
    "Tree.perfect_sum()"
   ]
  },
  {
   "cell_type": "markdown",
   "id": "6091874a",
   "metadata": {},
   "source": [
    "## 8. Count subtress that sum up to a given value x in a binary tree"
   ]
  },
  {
   "cell_type": "code",
   "execution_count": 179,
   "id": "d117433e",
   "metadata": {},
   "outputs": [],
   "source": [
    "def countsubtreewithsum(self,x):\n",
    "    count=0\n",
    "    def countsubtree(self,x):\n",
    "        global count\n",
    "        l=0\n",
    "        r=0\n",
    "        if self == None:\n",
    "            return 0\n",
    "        l += countsubtree(self.left,x)\n",
    "        r += countsubtree(self.right,x)\n",
    "        \n",
    "        if l+r+self.data == x:\n",
    "            count += 1\n",
    "        \n",
    "        if self != self:\n",
    "            return 1+self.data+r\n",
    "        return count\n",
    "    res=countsubtree(self,x)\n",
    "    return res"
   ]
  },
  {
   "cell_type": "code",
   "execution_count": 181,
   "id": "ba66e443",
   "metadata": {},
   "outputs": [],
   "source": [
    "Node.countsubtreewithsum = countsubtreewithsum"
   ]
  },
  {
   "cell_type": "code",
   "execution_count": 182,
   "id": "9521c4d1",
   "metadata": {},
   "outputs": [
    {
     "data": {
      "text/plain": [
       "1"
      ]
     },
     "execution_count": 182,
     "metadata": {},
     "output_type": "execute_result"
    }
   ],
   "source": [
    "Tree.countsubtreewithsum(10)"
   ]
  },
  {
   "cell_type": "code",
   "execution_count": 183,
   "id": "a5863858",
   "metadata": {},
   "outputs": [],
   "source": [
    "Tree2 = Node(5)\n",
    "Tree2.left = Node(-10)\n",
    "Tree2.right = Node(3)\n",
    "Tree2.left.left = Node(9)\n",
    "Tree2.left.right = Node(8)\n",
    "Tree2.right.left = Node(-4)\n",
    "Tree2.right.right = Node(7)"
   ]
  },
  {
   "cell_type": "code",
   "execution_count": 186,
   "id": "3b6881c1",
   "metadata": {},
   "outputs": [
    {
     "data": {
      "text/plain": [
       "2"
      ]
     },
     "execution_count": 186,
     "metadata": {},
     "output_type": "execute_result"
    }
   ],
   "source": [
    "Tree2.countsubtreewithsum(7)"
   ]
  },
  {
   "cell_type": "markdown",
   "id": "573cae6f",
   "metadata": {},
   "source": [
    "## 9. Find maximum level sum in Binary Tree"
   ]
  },
  {
   "cell_type": "code",
   "execution_count": 187,
   "id": "ef0d0ca2",
   "metadata": {},
   "outputs": [],
   "source": [
    "def maxlevelsum(self):\n",
    "    if self == None:\n",
    "        return 0\n",
    "    result = self.data\n",
    "    q = collections.deque()\n",
    "    q.append(self)\n",
    "    while(len(q)>0):\n",
    "        count = len(q)\n",
    "        sum = 0\n",
    "        while count > 0:\n",
    "            temp = q.popleft()\n",
    "            sum = sum + temp.data\n",
    "            if (temp.left != None):\n",
    "                q.append(temp.left)\n",
    "            if (temp.right != None):\n",
    "                q.append(temp.right)\n",
    "                 \n",
    "            count -= 1  \n",
    "        result = max(sum,result)\n",
    "    return result"
   ]
  },
  {
   "cell_type": "code",
   "execution_count": 188,
   "id": "7ced61eb",
   "metadata": {},
   "outputs": [],
   "source": [
    "Node.maxlevelsum = maxlevelsum"
   ]
  },
  {
   "cell_type": "code",
   "execution_count": 189,
   "id": "80913eee",
   "metadata": {},
   "outputs": [
    {
     "data": {
      "text/plain": [
       "30"
      ]
     },
     "execution_count": 189,
     "metadata": {},
     "output_type": "execute_result"
    }
   ],
   "source": [
    "Tree.maxlevelsum()"
   ]
  },
  {
   "cell_type": "markdown",
   "id": "b505e009",
   "metadata": {},
   "source": [
    "## 10. Print the nodes at odd levels of a tree"
   ]
  },
  {
   "cell_type": "code",
   "execution_count": 190,
   "id": "aa71bb0f",
   "metadata": {},
   "outputs": [],
   "source": [
    "def printoddlevelnodes(self,isodd=True):\n",
    "    if self == None:\n",
    "        return\n",
    "    if isodd:\n",
    "        print(self.data,end=' ')\n",
    "    printoddlevelnodes(self.left,not isodd)\n",
    "    printoddlevelnodes(self.right,not isodd)"
   ]
  },
  {
   "cell_type": "code",
   "execution_count": 191,
   "id": "25f45313",
   "metadata": {},
   "outputs": [],
   "source": [
    "Node.printoddlevelnodes = printoddlevelnodes"
   ]
  },
  {
   "cell_type": "code",
   "execution_count": 192,
   "id": "627d2b04",
   "metadata": {},
   "outputs": [
    {
     "name": "stdout",
     "output_type": "stream",
     "text": [
      "5 7 3 14 6 "
     ]
    }
   ],
   "source": [
    "Tree.printoddlevelnodes()"
   ]
  },
  {
   "cell_type": "code",
   "execution_count": null,
   "id": "aa7b4b9b",
   "metadata": {},
   "outputs": [],
   "source": []
  }
 ],
 "metadata": {
  "kernelspec": {
   "display_name": "Python 3 (ipykernel)",
   "language": "python",
   "name": "python3"
  },
  "language_info": {
   "codemirror_mode": {
    "name": "ipython",
    "version": 3
   },
   "file_extension": ".py",
   "mimetype": "text/x-python",
   "name": "python",
   "nbconvert_exporter": "python",
   "pygments_lexer": "ipython3",
   "version": "3.9.6"
  }
 },
 "nbformat": 4,
 "nbformat_minor": 5
}
