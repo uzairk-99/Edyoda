{
 "cells": [
  {
   "cell_type": "markdown",
   "id": "c036d44a",
   "metadata": {},
   "source": [
    "- <h2> Write a Python program to square the elements of a list using map() function. </h2>"
   ]
  },
  {
   "cell_type": "code",
   "execution_count": 4,
   "id": "5769fefc",
   "metadata": {},
   "outputs": [
    {
     "name": "stdout",
     "output_type": "stream",
     "text": [
      "Square the elements of the list:  [16, 25, 4, 81]\n"
     ]
    }
   ],
   "source": [
    "sample_list = [4,5,2,9]    #Sample List\n",
    "\n",
    "squared_list = list(map(lambda x: x**2,sample_list))    # using lambda to square each iterable by using map then converting them to a list.\n",
    "print('Square the elements of the list: ',squared_list)   #printing the list"
   ]
  },
  {
   "cell_type": "code",
   "execution_count": null,
   "id": "bd41147b",
   "metadata": {},
   "outputs": [],
   "source": []
  }
 ],
 "metadata": {
  "kernelspec": {
   "display_name": "Python 3 (ipykernel)",
   "language": "python",
   "name": "python3"
  },
  "language_info": {
   "codemirror_mode": {
    "name": "ipython",
    "version": 3
   },
   "file_extension": ".py",
   "mimetype": "text/x-python",
   "name": "python",
   "nbconvert_exporter": "python",
   "pygments_lexer": "ipython3",
   "version": "3.9.6"
  }
 },
 "nbformat": 4,
 "nbformat_minor": 5
}
