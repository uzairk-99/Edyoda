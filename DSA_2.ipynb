{
 "cells": [
  {
   "cell_type": "markdown",
   "id": "471438d5",
   "metadata": {},
   "source": [
    "## 1. Implement Binary Search"
   ]
  },
  {
   "cell_type": "code",
   "execution_count": 11,
   "id": "328536b2",
   "metadata": {},
   "outputs": [],
   "source": [
    "def binary_search(array,item):\n",
    "    start = 0\n",
    "    end = len(array)-1\n",
    "    while start <= end:\n",
    "        mid = (start + end)//2\n",
    "        if array[mid] == item:\n",
    "            return \"Item is present at index {}\".format(mid)\n",
    "        elif item < array[mid]:\n",
    "            end = mid-1\n",
    "        else:\n",
    "            start = mid + 1\n",
    "    return \"Item is not present\""
   ]
  },
  {
   "cell_type": "code",
   "execution_count": 12,
   "id": "70370de6",
   "metadata": {},
   "outputs": [],
   "source": [
    "Array = [1,3,4,5,7,9,10,15,19,21,25,26,29,35,46,49,50,52]"
   ]
  },
  {
   "cell_type": "code",
   "execution_count": 13,
   "id": "15790ace",
   "metadata": {},
   "outputs": [
    {
     "data": {
      "text/plain": [
       "'Item is not present'"
      ]
     },
     "execution_count": 13,
     "metadata": {},
     "output_type": "execute_result"
    }
   ],
   "source": [
    "binary_search(Array,6)"
   ]
  },
  {
   "cell_type": "code",
   "execution_count": 14,
   "id": "844862b9",
   "metadata": {},
   "outputs": [
    {
     "data": {
      "text/plain": [
       "'Item is present at index 6'"
      ]
     },
     "execution_count": 14,
     "metadata": {},
     "output_type": "execute_result"
    }
   ],
   "source": [
    "binary_search(Array,10)"
   ]
  },
  {
   "cell_type": "code",
   "execution_count": null,
   "id": "846d2b6b",
   "metadata": {},
   "outputs": [],
   "source": []
  },
  {
   "cell_type": "markdown",
   "id": "f613d1cf",
   "metadata": {},
   "source": [
    "## 2. Implement Merge Sort"
   ]
  },
  {
   "cell_type": "code",
   "execution_count": 21,
   "id": "93873efa",
   "metadata": {},
   "outputs": [],
   "source": [
    "def mergesort(array):\n",
    "    if len(array)>1:\n",
    "        mid = len(array)//2\n",
    "        left = array[:mid]\n",
    "        right = array[mid:]\n",
    "        mergesort(left)\n",
    "        mergesort(right)\n",
    "        i = 0\n",
    "        j = 0\n",
    "        k = 0\n",
    "        while i < len(left) and j < len(right):\n",
    "            if left[i] <= right[j]:\n",
    "                array[k] = left[i]\n",
    "                i += 1\n",
    "            else:\n",
    "                array[k] = right[j]\n",
    "                j +=1\n",
    "            k +=1\n",
    "        while i < len(left):\n",
    "            array[k] = left[i]\n",
    "            i += 1\n",
    "            k += 1\n",
    "\n",
    "        while j < len(right):\n",
    "            array[k] = right[j]\n",
    "            j += 1\n",
    "            k += 1\n"
   ]
  },
  {
   "cell_type": "code",
   "execution_count": 22,
   "id": "d140d8a5",
   "metadata": {},
   "outputs": [],
   "source": [
    "Array2 = [50,42,78,41,20,32,12,1,78,45,12,98,52,10,32,14]"
   ]
  },
  {
   "cell_type": "code",
   "execution_count": 23,
   "id": "f838fc4c",
   "metadata": {},
   "outputs": [],
   "source": [
    "mergesort(Array2)"
   ]
  },
  {
   "cell_type": "code",
   "execution_count": 24,
   "id": "f3394a0d",
   "metadata": {},
   "outputs": [
    {
     "data": {
      "text/plain": [
       "[1, 10, 12, 12, 14, 20, 32, 32, 41, 42, 45, 50, 52, 78, 78, 98]"
      ]
     },
     "execution_count": 24,
     "metadata": {},
     "output_type": "execute_result"
    }
   ],
   "source": [
    "Array2"
   ]
  },
  {
   "cell_type": "code",
   "execution_count": null,
   "id": "c019008e",
   "metadata": {},
   "outputs": [],
   "source": []
  },
  {
   "cell_type": "markdown",
   "id": "eceb1813",
   "metadata": {},
   "source": [
    "## 3. Implement Quick Sort"
   ]
  },
  {
   "cell_type": "code",
   "execution_count": 27,
   "id": "7f3a85d2",
   "metadata": {},
   "outputs": [],
   "source": [
    "def partition(array, start ,end):\n",
    "    pivot = array[start]\n",
    "    low = start + 1\n",
    "    high = end\n",
    "    while True:\n",
    "        while low <= high and array[high] >= pivot:\n",
    "            high = high - 1\n",
    "        while low <= high and array[low] <= pivot:\n",
    "            low = low + 1\n",
    "        if low <= high:\n",
    "            array[low],array[high] = array[high],array[low]\n",
    "        else:\n",
    "            break\n",
    "    array[start],array[high] = array[high],array[start]\n",
    "    return high\n",
    "\n",
    "\n",
    "def quick_sort(array,start,end):\n",
    "    if start >= end:\n",
    "        return\n",
    "    \n",
    "    p = partition(array,start,end)\n",
    "    quick_sort(array,start,p-1)\n",
    "    quick_sort(array,p+1,end)"
   ]
  },
  {
   "cell_type": "code",
   "execution_count": 28,
   "id": "f0a3b2ae",
   "metadata": {},
   "outputs": [],
   "source": [
    "Array3 = [14,17,90,21,3,54,78,96,14,52,10,23,25,7,1,10,15]"
   ]
  },
  {
   "cell_type": "code",
   "execution_count": 29,
   "id": "6861c1d9",
   "metadata": {},
   "outputs": [],
   "source": [
    "quick_sort(Array3,0,len(Array3)-1)"
   ]
  },
  {
   "cell_type": "code",
   "execution_count": 30,
   "id": "a77ab807",
   "metadata": {},
   "outputs": [
    {
     "data": {
      "text/plain": [
       "[1, 3, 7, 10, 10, 14, 14, 15, 17, 21, 23, 25, 52, 54, 78, 90, 96]"
      ]
     },
     "execution_count": 30,
     "metadata": {},
     "output_type": "execute_result"
    }
   ],
   "source": [
    "Array3"
   ]
  },
  {
   "cell_type": "code",
   "execution_count": null,
   "id": "8ebf3fea",
   "metadata": {},
   "outputs": [],
   "source": []
  },
  {
   "cell_type": "markdown",
   "id": "eeea9771",
   "metadata": {},
   "source": [
    "## 4. Implement Insertion Sort"
   ]
  },
  {
   "cell_type": "code",
   "execution_count": 31,
   "id": "34233ea2",
   "metadata": {},
   "outputs": [],
   "source": [
    "def insertionSort(arr):\n",
    "    for i in range(1, len(arr)):\n",
    "        key = arr[i]\n",
    "        j = i-1\n",
    "        while j >=0 and key < arr[j] :\n",
    "                arr[j+1] = arr[j]\n",
    "                j -= 1\n",
    "        arr[j+1] = key\n",
    "        "
   ]
  },
  {
   "cell_type": "code",
   "execution_count": 32,
   "id": "deb013bd",
   "metadata": {},
   "outputs": [],
   "source": [
    "Array4 = [15,14,74,51,2,36,58,95,74,10,25,47,59,36]"
   ]
  },
  {
   "cell_type": "code",
   "execution_count": 33,
   "id": "14dc3aca",
   "metadata": {},
   "outputs": [],
   "source": [
    "insertionSort(Array4)"
   ]
  },
  {
   "cell_type": "code",
   "execution_count": 34,
   "id": "0f6964d6",
   "metadata": {},
   "outputs": [
    {
     "data": {
      "text/plain": [
       "[2, 10, 14, 15, 25, 36, 36, 47, 51, 58, 59, 74, 74, 95]"
      ]
     },
     "execution_count": 34,
     "metadata": {},
     "output_type": "execute_result"
    }
   ],
   "source": [
    "Array4"
   ]
  },
  {
   "cell_type": "code",
   "execution_count": null,
   "id": "aa2f8bd4",
   "metadata": {},
   "outputs": [],
   "source": []
  },
  {
   "cell_type": "markdown",
   "id": "670791d4",
   "metadata": {},
   "source": [
    "## 5. Write a program to sort list of strings (similar to that of dictionary)"
   ]
  },
  {
   "cell_type": "code",
   "execution_count": 35,
   "id": "ec705906",
   "metadata": {},
   "outputs": [],
   "source": [
    "list_of_strings = ['hello','world','how','are','you']"
   ]
  },
  {
   "cell_type": "code",
   "execution_count": 36,
   "id": "f330f1e4",
   "metadata": {},
   "outputs": [
    {
     "data": {
      "text/plain": [
       "['are', 'hello', 'how', 'world', 'you']"
      ]
     },
     "execution_count": 36,
     "metadata": {},
     "output_type": "execute_result"
    }
   ],
   "source": [
    "sorted(list_of_strings)"
   ]
  },
  {
   "cell_type": "code",
   "execution_count": null,
   "id": "3f9cb7a2",
   "metadata": {},
   "outputs": [],
   "source": []
  }
 ],
 "metadata": {
  "kernelspec": {
   "display_name": "Python 3 (ipykernel)",
   "language": "python",
   "name": "python3"
  },
  "language_info": {
   "codemirror_mode": {
    "name": "ipython",
    "version": 3
   },
   "file_extension": ".py",
   "mimetype": "text/x-python",
   "name": "python",
   "nbconvert_exporter": "python",
   "pygments_lexer": "ipython3",
   "version": "3.9.6"
  }
 },
 "nbformat": 4,
 "nbformat_minor": 5
}
