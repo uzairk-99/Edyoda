{
 "cells": [
  {
   "cell_type": "markdown",
   "id": "70207159",
   "metadata": {},
   "source": [
    "# Method 1\n",
    "- <i>Only if all the items in a list are integers or float</i>"
   ]
  },
  {
   "cell_type": "code",
   "execution_count": 27,
   "id": "10ed1c8b",
   "metadata": {},
   "outputs": [],
   "source": [
    "def sum_list(list):\n",
    "    '''Returns the sum of integers/float in a given list \n",
    "    This function only works if all the items in the list are integers/float. '''\n",
    "    return sum(list)"
   ]
  },
  {
   "cell_type": "code",
   "execution_count": 28,
   "id": "0568d7d9",
   "metadata": {},
   "outputs": [
    {
     "data": {
      "text/plain": [
       "20"
      ]
     },
     "execution_count": 28,
     "metadata": {},
     "output_type": "execute_result"
    }
   ],
   "source": [
    "Sample_list=[8,2,3,0,7]\n",
    "sum_list(Sample_list)"
   ]
  },
  {
   "cell_type": "markdown",
   "id": "2c176337",
   "metadata": {},
   "source": [
    "# Method 2\n",
    "- <i> For Homogeneous list of strings and integers/float </i>"
   ]
  },
  {
   "cell_type": "code",
   "execution_count": 35,
   "id": "1e5841af",
   "metadata": {},
   "outputs": [],
   "source": [
    "def sum_hlist(list):\n",
    "    '''Returns the sum of integers/float in a given list\n",
    "    This function iterates only through integers/float in the list.'''\n",
    "    sum=0\n",
    "    for i in list:\n",
    "        if type(i)==int or type(i)==float:\n",
    "            sum+=i\n",
    "        else:\n",
    "            continue\n",
    "    return sum"
   ]
  },
  {
   "cell_type": "code",
   "execution_count": 42,
   "id": "5a1019da",
   "metadata": {},
   "outputs": [
    {
     "data": {
      "text/plain": [
       "20"
      ]
     },
     "execution_count": 42,
     "metadata": {},
     "output_type": "execute_result"
    }
   ],
   "source": [
    "Sample_hlist=[8,2,'hi',3,'there',0,7]\n",
    "sum_hlist(Sample_hlist)"
   ]
  },
  {
   "cell_type": "code",
   "execution_count": null,
   "id": "e74d51b3",
   "metadata": {},
   "outputs": [],
   "source": []
  }
 ],
 "metadata": {
  "kernelspec": {
   "display_name": "Python 3 (ipykernel)",
   "language": "python",
   "name": "python3"
  },
  "language_info": {
   "codemirror_mode": {
    "name": "ipython",
    "version": 3
   },
   "file_extension": ".py",
   "mimetype": "text/x-python",
   "name": "python",
   "nbconvert_exporter": "python",
   "pygments_lexer": "ipython3",
   "version": "3.9.6"
  }
 },
 "nbformat": 4,
 "nbformat_minor": 5
}
