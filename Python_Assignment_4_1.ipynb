{
 "cells": [
  {
   "cell_type": "markdown",
   "id": "c2ee41f2",
   "metadata": {},
   "source": [
    "- <h2>Write a Python program to create a lambda function that adds 25 to a given number passed in as an argument.</h2>"
   ]
  },
  {
   "cell_type": "code",
   "execution_count": 9,
   "id": "12c5c114",
   "metadata": {},
   "outputs": [
    {
     "name": "stdout",
     "output_type": "stream",
     "text": [
      "10\n",
      "35\n"
     ]
    }
   ],
   "source": [
    "number=int(input()) # to take a number from user as input.\n",
    "add_25=lambda x: x+25  # lambda function that adds 25 to the users input number.\n",
    "print(add_25(number))   # printing number got after applying lambda function."
   ]
  },
  {
   "cell_type": "code",
   "execution_count": null,
   "id": "70e9dcd2",
   "metadata": {},
   "outputs": [],
   "source": []
  }
 ],
 "metadata": {
  "kernelspec": {
   "display_name": "Python 3 (ipykernel)",
   "language": "python",
   "name": "python3"
  },
  "language_info": {
   "codemirror_mode": {
    "name": "ipython",
    "version": 3
   },
   "file_extension": ".py",
   "mimetype": "text/x-python",
   "name": "python",
   "nbconvert_exporter": "python",
   "pygments_lexer": "ipython3",
   "version": "3.9.6"
  }
 },
 "nbformat": 4,
 "nbformat_minor": 5
}
